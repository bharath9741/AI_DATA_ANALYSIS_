{
 "cells": [
  {
   "cell_type": "markdown",
   "metadata": {},
   "source": [
    "### Detect Data Drift\n",
    "**Description**: Data drift can occur when the statistical properties of your data change over time. Learn to detect data drift using visualizations."
   ]
  },
  {
   "cell_type": "code",
   "execution_count": 1,
   "metadata": {},
   "outputs": [
    {
     "ename": "ModuleNotFoundError",
     "evalue": "No module named 'evidently'",
     "output_type": "error",
     "traceback": [
      "\u001b[0;31m---------------------------------------------------------------------------\u001b[0m",
      "\u001b[0;31mModuleNotFoundError\u001b[0m                       Traceback (most recent call last)",
      "Cell \u001b[0;32mIn[1], line 6\u001b[0m\n\u001b[1;32m      4\u001b[0m \u001b[38;5;28;01mimport\u001b[39;00m\u001b[38;5;250m \u001b[39m\u001b[38;5;21;01mmatplotlib\u001b[39;00m\u001b[38;5;21;01m.\u001b[39;00m\u001b[38;5;21;01mpyplot\u001b[39;00m\u001b[38;5;250m \u001b[39m\u001b[38;5;28;01mas\u001b[39;00m\u001b[38;5;250m \u001b[39m\u001b[38;5;21;01mplt\u001b[39;00m\n\u001b[1;32m      5\u001b[0m \u001b[38;5;28;01mfrom\u001b[39;00m\u001b[38;5;250m \u001b[39m\u001b[38;5;21;01mscipy\u001b[39;00m\u001b[38;5;21;01m.\u001b[39;00m\u001b[38;5;21;01mstats\u001b[39;00m\u001b[38;5;250m \u001b[39m\u001b[38;5;28;01mimport\u001b[39;00m ks_2samp\n\u001b[0;32m----> 6\u001b[0m \u001b[38;5;28;01mfrom\u001b[39;00m\u001b[38;5;250m \u001b[39m\u001b[38;5;21;01mevidently\u001b[39;00m\u001b[38;5;21;01m.\u001b[39;00m\u001b[38;5;21;01mreport\u001b[39;00m\u001b[38;5;250m \u001b[39m\u001b[38;5;28;01mimport\u001b[39;00m Report\n\u001b[1;32m      7\u001b[0m \u001b[38;5;28;01mfrom\u001b[39;00m\u001b[38;5;250m \u001b[39m\u001b[38;5;21;01mevidently\u001b[39;00m\u001b[38;5;21;01m.\u001b[39;00m\u001b[38;5;21;01mmetric_preset\u001b[39;00m\u001b[38;5;250m \u001b[39m\u001b[38;5;28;01mimport\u001b[39;00m DataDriftPreset\n\u001b[1;32m      9\u001b[0m \u001b[38;5;66;03m# Step 1: Load Datasets\u001b[39;00m\n\u001b[1;32m     10\u001b[0m \u001b[38;5;66;03m# Replace these with your actual file paths or data sources\u001b[39;00m\n",
      "\u001b[0;31mModuleNotFoundError\u001b[0m: No module named 'evidently'"
     ]
    }
   ],
   "source": [
    "# Write your code from here\n",
    "import pandas as pd\n",
    "import seaborn as sns\n",
    "import matplotlib.pyplot as plt\n",
    "from scipy.stats import ks_2samp\n",
    "from evidently.report import Report\n",
    "from evidently.metric_preset import DataDriftPreset\n",
    "\n",
    "# Step 1: Load Datasets\n",
    "# Replace these with your actual file paths or data sources\n",
    "ref_data = pd.read_csv(\"reference_data.csv\")\n",
    "current_data = pd.read_csv(\"current_data.csv\")\n",
    "\n",
    "# Step 2: Select Feature to Monitor for Drift\n",
    "feature = \"age\"  # Replace with any feature name from your dataset\n",
    "\n",
    "# Step 3: Visualize Feature Distribution\n",
    "plt.figure(figsize=(10, 6))\n",
    "sns.kdeplot(ref_data[feature], label=\"Reference\", shade=True)\n",
    "sns.kdeplot(current_data[feature], label=\"Current\", shade=True)\n",
    "plt.title(f\"Data Drift Detection - Distribution of '{feature}'\")\n",
    "plt.xlabel(feature)\n",
    "plt.ylabel(\"Density\")\n",
    "plt.legend()\n",
    "plt.grid(True)\n",
    "plt.tight_layout()\n",
    "plt.show()\n",
    "\n",
    "# Step 4: KS-Test for Statistical Drift Detection\n",
    "stat, p_value = ks_2samp(ref_data[feature], current_data[feature])\n",
    "print(f\"\\nKS Test Statistic: {stat:.4f}, p-value: {p_value:.4f}\")\n",
    "if p_value < 0.05:\n",
    "    print(\"🔺 Significant data drift detected.\")\n",
    "else:\n",
    "    print(\"✅ No significant data drift detected.\")\n",
    "\n",
    "# Step 5 (Optional): Full Drift Report using Evidently\n",
    "report = Report(metrics=[DataDriftPreset()])\n",
    "report.run(reference_data=ref_data, current_data=current_data)\n",
    "report.save_html(\"data_drift_report.html\")\n",
    "print(\"\\n✅ Drift report saved as 'data_drift_report.html'\")"
   ]
  }
 ],
 "metadata": {
  "kernelspec": {
   "display_name": "Python 3",
   "language": "python",
   "name": "python3"
  },
  "language_info": {
   "codemirror_mode": {
    "name": "ipython",
    "version": 3
   },
   "file_extension": ".py",
   "mimetype": "text/x-python",
   "name": "python",
   "nbconvert_exporter": "python",
   "pygments_lexer": "ipython3",
   "version": "3.10.12"
  }
 },
 "nbformat": 4,
 "nbformat_minor": 2
}
