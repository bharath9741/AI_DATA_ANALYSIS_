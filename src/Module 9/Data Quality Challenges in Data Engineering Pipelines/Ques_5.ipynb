{
 "cells": [
  {
   "cell_type": "markdown",
   "metadata": {},
   "source": [
    "### Implementing Data Validation using Protobuf in a Distributed System\n",
    "**Description**: Use gRPC to implement a distributed system that validates messages using\n",
    "Protobuf.\n",
    "\n",
    "**Steps**:\n",
    "1. Create a .proto file for gRPC service.\n",
    "2. Implement server-side validation\n",
    "    - Create a gRPC server\n",
    "    - Bind the server to an address\n",
    "    - Start server"
   ]
  },
  {
   "cell_type": "code",
   "execution_count": 1,
   "metadata": {},
   "outputs": [
    {
     "ename": "AttributeError",
     "evalue": "'MessageFactory' object has no attribute 'CreatePrototype'",
     "output_type": "error",
     "traceback": [
      "\u001b[0;31m---------------------------------------------------------------------------\u001b[0m",
      "\u001b[0;31mAttributeError\u001b[0m                            Traceback (most recent call last)",
      "Cell \u001b[0;32mIn[1], line 36\u001b[0m\n\u001b[1;32m     33\u001b[0m cust_desc \u001b[38;5;241m=\u001b[39m pool\u001b[38;5;241m.\u001b[39mFindMessageTypeByName(\u001b[38;5;124m'\u001b[39m\u001b[38;5;124mcustomer_package.Customer\u001b[39m\u001b[38;5;124m'\u001b[39m)\n\u001b[1;32m     35\u001b[0m \u001b[38;5;66;03m# Correctly create the prototype (message class)\u001b[39;00m\n\u001b[0;32m---> 36\u001b[0m CustomerMessage \u001b[38;5;241m=\u001b[39m \u001b[43mmessage_factory\u001b[49m\u001b[38;5;241;43m.\u001b[39;49m\u001b[43mMessageFactory\u001b[49m\u001b[43m(\u001b[49m\u001b[43mpool\u001b[49m\u001b[43m)\u001b[49m\u001b[38;5;241;43m.\u001b[39;49m\u001b[43mCreatePrototype\u001b[49m(cust_desc)\n\u001b[1;32m     38\u001b[0m \u001b[38;5;66;03m# --- 2. Sample Records to Validate ---\u001b[39;00m\n\u001b[1;32m     40\u001b[0m records \u001b[38;5;241m=\u001b[39m [\n\u001b[1;32m     41\u001b[0m     {\u001b[38;5;124m\"\u001b[39m\u001b[38;5;124mcustomer_id\u001b[39m\u001b[38;5;124m\"\u001b[39m: \u001b[38;5;241m1\u001b[39m, \u001b[38;5;124m\"\u001b[39m\u001b[38;5;124mname\u001b[39m\u001b[38;5;124m\"\u001b[39m: \u001b[38;5;124m\"\u001b[39m\u001b[38;5;124mAlice\u001b[39m\u001b[38;5;124m\"\u001b[39m,   \u001b[38;5;124m\"\u001b[39m\u001b[38;5;124memail\u001b[39m\u001b[38;5;124m\"\u001b[39m: \u001b[38;5;124m\"\u001b[39m\u001b[38;5;124malice@example.com\u001b[39m\u001b[38;5;124m\"\u001b[39m, \u001b[38;5;124m\"\u001b[39m\u001b[38;5;124mbalance\u001b[39m\u001b[38;5;124m\"\u001b[39m: \u001b[38;5;241m120.0\u001b[39m, \u001b[38;5;124m\"\u001b[39m\u001b[38;5;124mis_active\u001b[39m\u001b[38;5;124m\"\u001b[39m: \u001b[38;5;28;01mTrue\u001b[39;00m},\n\u001b[1;32m     42\u001b[0m     {\u001b[38;5;124m\"\u001b[39m\u001b[38;5;124mcustomer_id\u001b[39m\u001b[38;5;124m\"\u001b[39m: \u001b[38;5;241m2\u001b[39m, \u001b[38;5;124m\"\u001b[39m\u001b[38;5;124mname\u001b[39m\u001b[38;5;124m\"\u001b[39m: \u001b[38;5;124m\"\u001b[39m\u001b[38;5;124mBob\u001b[39m\u001b[38;5;124m\"\u001b[39m,     \u001b[38;5;124m\"\u001b[39m\u001b[38;5;124memail\u001b[39m\u001b[38;5;124m\"\u001b[39m: \u001b[38;5;124m\"\u001b[39m\u001b[38;5;124mbob@example.com\u001b[39m\u001b[38;5;124m\"\u001b[39m,   \u001b[38;5;124m\"\u001b[39m\u001b[38;5;124mbalance\u001b[39m\u001b[38;5;124m\"\u001b[39m:  \u001b[38;5;241m75.5\u001b[39m, \u001b[38;5;124m\"\u001b[39m\u001b[38;5;124mis_active\u001b[39m\u001b[38;5;124m\"\u001b[39m: \u001b[38;5;28;01mFalse\u001b[39;00m},\n\u001b[1;32m     43\u001b[0m     {\u001b[38;5;124m\"\u001b[39m\u001b[38;5;124mcustomer_id\u001b[39m\u001b[38;5;124m\"\u001b[39m: \u001b[38;5;241m3\u001b[39m, \u001b[38;5;124m\"\u001b[39m\u001b[38;5;124mname\u001b[39m\u001b[38;5;124m\"\u001b[39m: \u001b[38;5;124m\"\u001b[39m\u001b[38;5;124m\"\u001b[39m,        \u001b[38;5;124m\"\u001b[39m\u001b[38;5;124memail\u001b[39m\u001b[38;5;124m\"\u001b[39m: \u001b[38;5;124m\"\u001b[39m\u001b[38;5;124mcharlie@\u001b[39m\u001b[38;5;124m\"\u001b[39m,         \u001b[38;5;124m\"\u001b[39m\u001b[38;5;124mbalance\u001b[39m\u001b[38;5;124m\"\u001b[39m: \u001b[38;5;241m-\u001b[39m\u001b[38;5;241m10.0\u001b[39m, \u001b[38;5;124m\"\u001b[39m\u001b[38;5;124mis_active\u001b[39m\u001b[38;5;124m\"\u001b[39m: \u001b[38;5;28;01mTrue\u001b[39;00m},  \u001b[38;5;66;03m# invalid\u001b[39;00m\n\u001b[1;32m     44\u001b[0m     {\u001b[38;5;124m\"\u001b[39m\u001b[38;5;124mcustomer_id\u001b[39m\u001b[38;5;124m\"\u001b[39m: \u001b[38;5;241m4\u001b[39m, \u001b[38;5;124m\"\u001b[39m\u001b[38;5;124mname\u001b[39m\u001b[38;5;124m\"\u001b[39m: \u001b[38;5;124m\"\u001b[39m\u001b[38;5;124mDana\u001b[39m\u001b[38;5;124m\"\u001b[39m,    \u001b[38;5;124m\"\u001b[39m\u001b[38;5;124memail\u001b[39m\u001b[38;5;124m\"\u001b[39m: \u001b[38;5;124m\"\u001b[39m\u001b[38;5;124mdana@example.com\u001b[39m\u001b[38;5;124m\"\u001b[39m,  \u001b[38;5;124m\"\u001b[39m\u001b[38;5;124mbalance\u001b[39m\u001b[38;5;124m\"\u001b[39m: \u001b[38;5;124m\"\u001b[39m\u001b[38;5;124mn/a\u001b[39m\u001b[38;5;124m\"\u001b[39m, \u001b[38;5;124m\"\u001b[39m\u001b[38;5;124mis_active\u001b[39m\u001b[38;5;124m\"\u001b[39m: \u001b[38;5;28;01mTrue\u001b[39;00m},  \u001b[38;5;66;03m# invalid\u001b[39;00m\n\u001b[1;32m     45\u001b[0m ]\n",
      "\u001b[0;31mAttributeError\u001b[0m: 'MessageFactory' object has no attribute 'CreatePrototype'"
     ]
    }
   ],
   "source": [
    "# Write your code from here\n",
    "\n",
    "from google.protobuf import descriptor_pb2, descriptor_pool, message_factory\n",
    "import pandas as pd\n",
    "\n",
    "# --- 1. Dynamically Define a Protobuf Schema via DescriptorProto ---\n",
    "\n",
    "file_desc = descriptor_pb2.FileDescriptorProto()\n",
    "file_desc.name = 'customer.proto'\n",
    "file_desc.package = 'customer_package'\n",
    "msg_type = file_desc.message_type.add()\n",
    "msg_type.name = 'Customer'\n",
    "\n",
    "# Define fields: (name, number, type)\n",
    "fields = [\n",
    "    ('customer_id', 1, descriptor_pb2.FieldDescriptorProto.TYPE_INT32),\n",
    "    ('name',        2, descriptor_pb2.FieldDescriptorProto.TYPE_STRING),\n",
    "    ('email',       3, descriptor_pb2.FieldDescriptorProto.TYPE_STRING),\n",
    "    ('balance',     4, descriptor_pb2.FieldDescriptorProto.TYPE_FLOAT),\n",
    "    ('is_active',   5, descriptor_pb2.FieldDescriptorProto.TYPE_BOOL),\n",
    "]\n",
    "\n",
    "for name, num, ftype in fields:\n",
    "    fld = msg_type.field.add()\n",
    "    fld.name   = name\n",
    "    fld.number = num\n",
    "    fld.label  = descriptor_pb2.FieldDescriptorProto.LABEL_OPTIONAL\n",
    "    fld.type   = ftype\n",
    "\n",
    "# Register in a Pool and get a Python class\n",
    "pool = descriptor_pool.DescriptorPool()\n",
    "file_md = pool.Add(file_desc)\n",
    "cust_desc = pool.FindMessageTypeByName('customer_package.Customer')\n",
    "\n",
    "# Correctly create the prototype (message class)\n",
    "CustomerMessage = message_factory.MessageFactory(pool).CreatePrototype(cust_desc)\n",
    "\n",
    "# --- 2. Sample Records to Validate ---\n",
    "\n",
    "records = [\n",
    "    {\"customer_id\": 1, \"name\": \"Alice\",   \"email\": \"alice@example.com\", \"balance\": 120.0, \"is_active\": True},\n",
    "    {\"customer_id\": 2, \"name\": \"Bob\",     \"email\": \"bob@example.com\",   \"balance\":  75.5, \"is_active\": False},\n",
    "    {\"customer_id\": 3, \"name\": \"\",        \"email\": \"charlie@\",         \"balance\": -10.0, \"is_active\": True},  # invalid\n",
    "    {\"customer_id\": 4, \"name\": \"Dana\",    \"email\": \"dana@example.com\",  \"balance\": \"n/a\", \"is_active\": True},  # invalid\n",
    "]\n",
    "\n",
    "# --- 3. Validation & Encoding Loop ---\n",
    "\n",
    "valid = []\n",
    "invalid = []\n",
    "\n",
    "for rec in records:\n",
    "    try:\n",
    "        # Attempt to construct + serialize the message\n",
    "        msg = CustomerMessage(**rec)\n",
    "        # double‐check types by serializing to bytes\n",
    "        _ = msg.SerializeToString()\n",
    "        valid.append(rec)\n",
    "    except Exception as e:\n",
    "        invalid.append((rec, str(e)))\n",
    "\n",
    "# --- 4. Display Results ---\n",
    "\n",
    "print(\"✅ Valid Records:\")\n",
    "for v in valid:\n",
    "    print(\" \", v)\n",
    "\n",
    "print(\"\\n❌ Invalid Records:\")\n",
    "for v, err in invalid:\n",
    "    print(\" \", v, \"\\n    →\", err)\n",
    "\n",
    "# --- 5. Build a DataFrame of Only the Valid Records ---\n",
    "\n",
    "df_valid = pd.DataFrame(valid)\n",
    "print(\"\\n📘 Valid Records DataFrame:\")\n",
    "print(df_valid)"
   ]
  }
 ],
 "metadata": {
  "kernelspec": {
   "display_name": "Python 3",
   "language": "python",
   "name": "python3"
  },
  "language_info": {
   "codemirror_mode": {
    "name": "ipython",
    "version": 3
   },
   "file_extension": ".py",
   "mimetype": "text/x-python",
   "name": "python",
   "nbconvert_exporter": "python",
   "pygments_lexer": "ipython3",
   "version": "3.10.12"
  }
 },
 "nbformat": 4,
 "nbformat_minor": 2
}
