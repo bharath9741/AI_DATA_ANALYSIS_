{
 "cells": [
  {
   "cell_type": "code",
   "execution_count": null,
   "metadata": {},
   "outputs": [],
   "source": [
    "# Question: Visualizing Outliers Using Boxplots\n",
    "# Description: Use a boxplot to visually detect outliers in a dataset.\n",
    "\n",
    "\n",
    "import pandas as pd\n",
    "import matplotlib.pyplot as plt\n",
    "import seaborn as sns\n",
    "\n",
    "# Sample data with outliers\n",
    "data = {\n",
    "    'Values': [10, 12, 15, 14, 13, 12, 100, 110, 12, 14, 15, 13, 10, 12]\n",
    "}\n",
    "df = pd.DataFrame(data)\n",
    "\n",
    "# Using matplotlib\n",
    "plt.figure(figsize=(8, 5))\n",
    "plt.boxplot(df['Values'])\n",
    "plt.title('Boxplot to Detect Outliers') \n",
    "plt.ylabel('Value')\n",
    "plt.show()\n",
    "\n",
    "# Or using seaborn for nicer style\n",
    "plt.figure(figsize=(8, 5))\n",
    "sns.boxplot(x=df['Values'])\n",
    "plt.title('Boxplot to Detect Outliers (Seaborn)')\n",
    "plt.show()\n"
   ]
  }
 ],
 "metadata": {
  "kernelspec": {
   "display_name": "Python 3",
   "language": "python",
   "name": "python3"
  },
  "language_info": {
   "codemirror_mode": {
    "name": "ipython",
    "version": 3
   },
   "file_extension": ".py",
   "mimetype": "text/x-python",
   "name": "python",
   "nbconvert_exporter": "python",
   "pygments_lexer": "ipython3",
   "version": "3.10.12"
  }
 },
 "nbformat": 4,
 "nbformat_minor": 2
}
