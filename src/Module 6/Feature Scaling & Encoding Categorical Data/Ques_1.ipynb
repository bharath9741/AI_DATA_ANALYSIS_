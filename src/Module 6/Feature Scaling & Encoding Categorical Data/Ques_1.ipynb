{
 "cells": [
  {
   "cell_type": "code",
   "execution_count": 1,
   "metadata": {},
   "outputs": [
    {
     "name": "stdout",
     "output_type": "stream",
     "text": [
      "Accuracy without scaling: 1.0000\n",
      "Accuracy with scaling: 1.0000\n"
     ]
    }
   ],
   "source": [
    "# Question 1: Feature Scaling\n",
    "# Task: Explain why feature scaling is essential and demonstrate the impact of unscaled features on a machine learning model.\n",
    "\n",
    "\n",
    "\n",
    "\n",
    "# Question 2: Min-Max Scaling\n",
    "# Task: Implement Min-Max Scaling on the Iris dataset.\n",
    "\n",
    "\n",
    "\n",
    "# Question 3: Standardization (Z-score Scaling)\n",
    "# Task: Implement Standardization using Z-score scaling on the Iris dataset.\n",
    "\n",
    "\n",
    "\n",
    "\n",
    "# Question 4: Robust Scaling\n",
    "# Task: Implement Robust Scaling to handle outliers in the Iris dataset.\n",
    "\n",
    "# Explanation:\n",
    "\"\"\"\n",
    "Feature scaling is essential because many machine learning algorithms rely on the scale of features.  \n",
    "Algorithms like K-Nearest Neighbors, SVM, and gradient descent-based methods are sensitive to the magnitude of features.  \n",
    "Unscaled features can cause some features to dominate others, leading to biased or inefficient training and poor model performance.\n",
    "\"\"\"\n",
    "\n",
    "from sklearn.datasets import load_iris\n",
    "from sklearn.model_selection import train_test_split\n",
    "from sklearn.neighbors import KNeighborsClassifier\n",
    "from sklearn.metrics import accuracy_score\n",
    "from sklearn.preprocessing import MinMaxScaler\n",
    "import pandas as pd\n",
    "\n",
    "# Load dataset\n",
    "iris = load_iris()\n",
    "X = iris.data\n",
    "y = iris.target\n",
    "\n",
    "# Split dataset\n",
    "X_train, X_test, y_train, y_test = train_test_split(X, y, random_state=42)\n",
    "\n",
    "# Train KNN without scaling\n",
    "knn_unscaled = KNeighborsClassifier()\n",
    "knn_unscaled.fit(X_train, y_train)\n",
    "pred_unscaled = knn_unscaled.predict(X_test)\n",
    "acc_unscaled = accuracy_score(y_test, pred_unscaled)\n",
    "\n",
    "# Train KNN with Min-Max scaling\n",
    "scaler = MinMaxScaler()\n",
    "X_train_scaled = scaler.fit_transform(X_train)\n",
    "X_test_scaled = scaler.transform(X_test)\n",
    "\n",
    "knn_scaled = KNeighborsClassifier()\n",
    "knn_scaled.fit(X_train_scaled, y_train)\n",
    "pred_scaled = knn_scaled.predict(X_test_scaled)\n",
    "acc_scaled = accuracy_score(y_test, pred_scaled)\n",
    "\n",
    "print(f\"Accuracy without scaling: {acc_unscaled:.4f}\")\n",
    "print(f\"Accuracy with scaling: {acc_scaled:.4f}\")\n",
    "\n",
    "\n",
    "\n",
    "\n"
   ]
  }
 ],
 "metadata": {
  "kernelspec": {
   "display_name": "Python 3",
   "language": "python",
   "name": "python3"
  },
  "language_info": {
   "codemirror_mode": {
    "name": "ipython",
    "version": 3
   },
   "file_extension": ".py",
   "mimetype": "text/x-python",
   "name": "python",
   "nbconvert_exporter": "python",
   "pygments_lexer": "ipython3",
   "version": "3.10.12"
  }
 },
 "nbformat": 4,
 "nbformat_minor": 2
}
