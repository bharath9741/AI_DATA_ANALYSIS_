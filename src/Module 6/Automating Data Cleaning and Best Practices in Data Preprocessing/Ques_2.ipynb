{
 "cells": [
  {
   "cell_type": "markdown",
   "metadata": {},
   "source": [
    "    Task: Complete Pipeline for a Dataset\n",
    "1. Objective: Build a complex pipeline with multiple transformations.\n",
    "2. Steps:\n",
    "    - Load a sample dataset.\n",
    "    - Define a transformation pipeline with both imputation and scaling."
   ]
  },
  {
   "cell_type": "code",
   "execution_count": 1,
   "metadata": {},
   "outputs": [
    {
     "name": "stdout",
     "output_type": "stream",
     "text": [
      "Original Data:\n",
      "    Age    Salary     Name\n",
      "0  25.0   50000.0     John\n",
      "1  30.0   60000.0    Alice\n",
      "2  35.0   70000.0      Bob\n",
      "3   NaN   80000.0  Charlie\n",
      "4  40.0       NaN    David\n",
      "5   NaN   90000.0      Eve\n",
      "6  45.0  100000.0    Frank\n",
      "\n",
      "Transformed Data:\n",
      "       Age    Salary     Name\n",
      "0 -1.67332 -1.581139     John\n",
      "1 -0.83666 -0.948683    Alice\n",
      "2      0.0 -0.316228      Bob\n",
      "3      0.0  0.316228  Charlie\n",
      "4  0.83666       0.0    David\n",
      "5      0.0  0.948683      Eve\n",
      "6  1.67332  1.581139    Frank\n"
     ]
    }
   ],
   "source": [
    "# Write your code from here\n",
    "import pandas as pd\n",
    "from sklearn.pipeline import Pipeline\n",
    "from sklearn.impute import SimpleImputer\n",
    "from sklearn.preprocessing import StandardScaler\n",
    "from sklearn.compose import ColumnTransformer\n",
    "from sklearn.model_selection import train_test_split\n",
    "\n",
    "# Load a sample dataset (for demonstration purposes, a simple dataset with missing values)\n",
    "data = {\n",
    "    'Age': [25, 30, 35, None, 40, None, 45],\n",
    "    'Salary': [50000, 60000, 70000, 80000, None, 90000, 100000],\n",
    "    'Name': ['John', 'Alice', 'Bob', 'Charlie', 'David', 'Eve', 'Frank']\n",
    "}\n",
    "df = pd.DataFrame(data)\n",
    "\n",
    "# Define the numeric columns (Age and Salary) and the non-numeric ones (Name)\n",
    "numeric_columns = ['Age', 'Salary']\n",
    "non_numeric_columns = ['Name']\n",
    "\n",
    "# Define the pipeline for the numerical columns\n",
    "numeric_pipeline = Pipeline([\n",
    "    ('imputer', SimpleImputer(strategy='mean')),  # Impute missing values with mean\n",
    "    ('scaler', StandardScaler())  # Standardize numerical columns\n",
    "])\n",
    "\n",
    "# Define the column transformer to apply the pipeline only to numeric columns\n",
    "preprocessor = ColumnTransformer(\n",
    "    transformers=[\n",
    "        ('num', numeric_pipeline, numeric_columns)\n",
    "    ], \n",
    "    remainder='passthrough'  # Keep non-numeric columns unchanged\n",
    ")\n",
    "\n",
    "# Apply the transformations using the ColumnTransformer\n",
    "df_transformed = preprocessor.fit_transform(df)\n",
    "\n",
    "# Convert the result back into a DataFrame, maintaining the column names\n",
    "df_transformed_df = pd.DataFrame(df_transformed, columns=numeric_columns + non_numeric_columns)\n",
    "\n",
    "# Output the original and transformed data\n",
    "print(\"Original Data:\")\n",
    "print(df)\n",
    "print(\"\\nTransformed Data:\")\n",
    "print(df_transformed_df)\n"
   ]
  },
  {
   "cell_type": "code",
   "execution_count": null,
   "metadata": {},
   "outputs": [],
   "source": [
    "# Task: Imputation Function\n",
    "\n",
    "\n",
    "\n",
    "\n",
    "\n",
    "\n",
    "\n",
    "\n",
    "# Scaling Function\n",
    "\n",
    "\n",
    "\n",
    "\n",
    "\n",
    "\n",
    "\n",
    "\n",
    "\n",
    "# Combined Transformation Function\n",
    "\n",
    "\n",
    "\n",
    "\n",
    "\n",
    "\n",
    "\n"
   ]
  }
 ],
 "metadata": {
  "kernelspec": {
   "display_name": "Python 3",
   "language": "python",
   "name": "python3"
  },
  "language_info": {
   "codemirror_mode": {
    "name": "ipython",
    "version": 3
   },
   "file_extension": ".py",
   "mimetype": "text/x-python",
   "name": "python",
   "nbconvert_exporter": "python",
   "pygments_lexer": "ipython3",
   "version": "3.10.12"
  }
 },
 "nbformat": 4,
 "nbformat_minor": 2
}
