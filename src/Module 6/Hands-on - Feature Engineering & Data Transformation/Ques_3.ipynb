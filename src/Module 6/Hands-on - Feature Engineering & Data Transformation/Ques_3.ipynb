{
 "cells": [
  {
   "cell_type": "code",
   "execution_count": 4,
   "metadata": {},
   "outputs": [
    {
     "name": "stdout",
     "output_type": "stream",
     "text": [
      "car_features.csv created successfully.\n"
     ]
    }
   ],
   "source": [
    "# Feature Scaling & Encoding\n",
    "\n",
    "# Objective: Learn to scale numerical features and encode categorical features for better model performance.\n",
    "# Instructions:\n",
    "# For each example, perform the following steps:\n",
    "#     1. Load the Dataset: Load the dataset into your environment.\n",
    "#     2. Feature Scaling: Apply scaling methods (StandardScaler or MinMaxScaler) to specified numerical columns.\n",
    "#     3. Feature Encoding: Apply encoding methods (One-Hot Encoding or Label Encoding) to specified categorical columns.\n",
    "#     4. Verify Changes: Check the data to ensure proper scaling and encoding. \n",
    "\n",
    "\n",
    "# Task:\n",
    "#   Dataset: car_features.csv (get it by your own it includes the columns of Mileage , Horsepower)\n",
    "    # Columns to scale: Mileage , Horsepower\n",
    "    # Column to encode: Fuel_Type\n",
    "    # Steps:\n",
    "    #     1. Load car_features.csv .\n",
    "    #     2. Scale Mileage and Horsepower using StandardScaler.\n",
    "    #     3. Encode Fuel_Type using Label Encoding.\n",
    "    #     4. Confirm scaling and encoding by checking these columns.\n",
    "\n",
    "\n",
    "\n",
    "    \n",
    "csv_content = \"\"\"CarID,Mileage,Horsepower,Fuel_Type\n",
    "1,35000,130,Petrol\n",
    "2,42000,150,Diesel\n",
    "3,30000,120,Petrol\n",
    "4,50000,160,Diesel\n",
    "5,32000,140,Petrol\n",
    "6,40000,155,Diesel\n",
    "7,28000,115,Petrol\n",
    "\"\"\"\n",
    "\n",
    "with open(\"car_features.csv\", \"w\") as file:\n",
    "    file.write(csv_content)\n",
    "\n",
    "print(\"car_features.csv created successfully.\")\n",
    "\n",
    "    "
   ]
  },
  {
   "cell_type": "code",
   "execution_count": 5,
   "metadata": {},
   "outputs": [
    {
     "name": "stdout",
     "output_type": "stream",
     "text": [
      "Original DataFrame:\n",
      "   CarID  Mileage  Horsepower Fuel_Type\n",
      "0      1    35000         130    Petrol\n",
      "1      2    42000         150    Diesel\n",
      "2      3    30000         120    Petrol\n",
      "3      4    50000         160    Diesel\n",
      "4      5    32000         140    Petrol\n",
      "5      6    40000         155    Diesel\n",
      "6      7    28000         115    Petrol\n",
      "\n",
      "DataFrame after Standard Scaling:\n",
      "   CarID   Mileage  Horsepower Fuel_Type\n",
      "0      1 -0.238573   -0.529297    Petrol\n",
      "1      2  0.735600    0.705730    Diesel\n",
      "2      3 -0.934410   -1.146811    Petrol\n",
      "3      4  1.848939    1.323243    Diesel\n",
      "4      5 -0.656075    0.088216    Petrol\n",
      "5      6  0.457265    1.014487    Diesel\n",
      "6      7 -1.212745   -1.455568    Petrol\n",
      "\n",
      "DataFrame after Label Encoding 'Fuel_Type':\n",
      "   CarID   Mileage  Horsepower  Fuel_Type\n",
      "0      1 -0.238573   -0.529297          1\n",
      "1      2  0.735600    0.705730          0\n",
      "2      3 -0.934410   -1.146811          1\n",
      "3      4  1.848939    1.323243          0\n",
      "4      5 -0.656075    0.088216          1\n",
      "5      6  0.457265    1.014487          0\n",
      "6      7 -1.212745   -1.455568          1\n"
     ]
    }
   ],
   "source": [
    "import pandas as pd\n",
    "from sklearn.preprocessing import StandardScaler, LabelEncoder\n",
    "\n",
    "# Load the dataset\n",
    "df = pd.read_csv(\"car_features.csv\")\n",
    "print(\"Original DataFrame:\")\n",
    "print(df)\n",
    "\n",
    "# Initialize StandardScaler\n",
    "scaler = StandardScaler()\n",
    "\n",
    "# Scale 'Mileage' and 'Horsepower'\n",
    "df[['Mileage', 'Horsepower']] = scaler.fit_transform(df[['Mileage', 'Horsepower']])\n",
    "\n",
    "print(\"\\nDataFrame after Standard Scaling:\")\n",
    "print(df)\n",
    "\n",
    "# Label Encode 'Fuel_Type'\n",
    "label_encoder = LabelEncoder()\n",
    "df['Fuel_Type'] = label_encoder.fit_transform(df['Fuel_Type'])\n",
    "\n",
    "print(\"\\nDataFrame after Label Encoding 'Fuel_Type':\")\n",
    "print(df)\n"
   ]
  }
 ],
 "metadata": {
  "kernelspec": {
   "display_name": "Python 3",
   "language": "python",
   "name": "python3"
  },
  "language_info": {
   "codemirror_mode": {
    "name": "ipython",
    "version": 3
   },
   "file_extension": ".py",
   "mimetype": "text/x-python",
   "name": "python",
   "nbconvert_exporter": "python",
   "pygments_lexer": "ipython3",
   "version": "3.10.12"
  }
 },
 "nbformat": 4,
 "nbformat_minor": 2
}
