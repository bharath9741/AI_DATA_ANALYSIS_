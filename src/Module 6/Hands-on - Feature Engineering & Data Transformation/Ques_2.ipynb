{
 "cells": [
  {
   "cell_type": "code",
   "execution_count": 3,
   "metadata": {},
   "outputs": [
    {
     "name": "stdout",
     "output_type": "stream",
     "text": [
      "customer_data.csv created successfully.\n"
     ]
    }
   ],
   "source": [
    "# Feature Scaling & Encoding\n",
    "\n",
    "# Objective: Learn to scale numerical features and encode categorical features for better model performance.\n",
    "# Instructions:\n",
    "# For each example, perform the following steps:\n",
    "#     1. Load the Dataset: Load the dataset into your environment.\n",
    "#     2. Feature Scaling: Apply scaling methods (StandardScaler or MinMaxScaler) to specified numerical columns.\n",
    "#     3. Feature Encoding: Apply encoding methods (One-Hot Encoding or Label Encoding) to specified categorical columns.\n",
    "#     4. Verify Changes: Check the data to ensure proper scaling and encoding. \n",
    "\n",
    "\n",
    "# Task:\n",
    "#     Dataset: customer_data.csv (get it by your own it includes the columns of Age , Annual_Income)\n",
    "#     Columns to scale: Age , Annual_Income\n",
    "#     Column to encode: Region\n",
    "#     Steps:\n",
    "#         1. Load customer_data.csv .\n",
    "#         2. Use MinMaxScaler on Age and Annual_Income .\n",
    "#         3. Perform One-Hot Encoding on Region .\n",
    "#         4. Verify by assessing the transformed dataset.\n",
    "csv_content = \"\"\"CustomerID,Age,Annual_Income,Region\n",
    "1,25,50000,North\n",
    "2,35,60000,South\n",
    "3,45,80000,East\n",
    "4,28,52000,West\n",
    "5,40,62000,North\n",
    "6,50,90000,South\n",
    "7,22,48000,East\n",
    "8,38,70000,West\n",
    "\"\"\"\n",
    "\n",
    "with open(\"customer_data.csv\", \"w\") as file:\n",
    "    file.write(csv_content)\n",
    "\n",
    "print(\"customer_data.csv created successfully.\")\n",
    "\n",
    "\n",
    "\n",
    "    \n",
    "    \n",
    "    "
   ]
  },
  {
   "cell_type": "code",
   "execution_count": 4,
   "metadata": {},
   "outputs": [
    {
     "name": "stdout",
     "output_type": "stream",
     "text": [
      "Original DataFrame:\n",
      "   CustomerID  Age  Annual_Income Region\n",
      "0           1   25          50000  North\n",
      "1           2   35          60000  South\n",
      "2           3   45          80000   East\n",
      "3           4   28          52000   West\n",
      "4           5   40          62000  North\n",
      "5           6   50          90000  South\n",
      "6           7   22          48000   East\n",
      "7           8   38          70000   West\n",
      "\n",
      "DataFrame after Min-Max scaling:\n",
      "   CustomerID       Age  Annual_Income Region\n",
      "0           1  0.107143       0.047619  North\n",
      "1           2  0.464286       0.285714  South\n",
      "2           3  0.821429       0.761905   East\n",
      "3           4  0.214286       0.095238   West\n",
      "4           5  0.642857       0.333333  North\n",
      "5           6  1.000000       1.000000  South\n",
      "6           7  0.000000       0.000000   East\n",
      "7           8  0.571429       0.523810   West\n",
      "\n",
      "DataFrame after One-Hot Encoding 'Region':\n",
      "   CustomerID       Age  Annual_Income  Region_East  Region_North  \\\n",
      "0           1  0.107143       0.047619        False          True   \n",
      "1           2  0.464286       0.285714        False         False   \n",
      "2           3  0.821429       0.761905         True         False   \n",
      "3           4  0.214286       0.095238        False         False   \n",
      "4           5  0.642857       0.333333        False          True   \n",
      "5           6  1.000000       1.000000        False         False   \n",
      "6           7  0.000000       0.000000         True         False   \n",
      "7           8  0.571429       0.523810        False         False   \n",
      "\n",
      "   Region_South  Region_West  \n",
      "0         False        False  \n",
      "1          True        False  \n",
      "2         False        False  \n",
      "3         False         True  \n",
      "4         False        False  \n",
      "5          True        False  \n",
      "6         False        False  \n",
      "7         False         True  \n"
     ]
    }
   ],
   "source": [
    "import pandas as pd\n",
    "from sklearn.preprocessing import MinMaxScaler\n",
    "\n",
    "# Load the dataset\n",
    "df = pd.read_csv(\"customer_data.csv\")\n",
    "print(\"Original DataFrame:\")\n",
    "print(df)\n",
    "\n",
    "# Initialize MinMaxScaler\n",
    "scaler = MinMaxScaler()\n",
    "\n",
    "# Apply MinMaxScaler to 'Age' and 'Annual_Income'\n",
    "df[['Age', 'Annual_Income']] = scaler.fit_transform(df[['Age', 'Annual_Income']])\n",
    "\n",
    "print(\"\\nDataFrame after Min-Max scaling:\")\n",
    "print(df)\n",
    "\n",
    "# One-Hot Encode 'Region'\n",
    "df_encoded = pd.get_dummies(df, columns=['Region'])\n",
    "\n",
    "print(\"\\nDataFrame after One-Hot Encoding 'Region':\")\n",
    "print(df_encoded)\n"
   ]
  }
 ],
 "metadata": {
  "kernelspec": {
   "display_name": "Python 3",
   "language": "python",
   "name": "python3"
  },
  "language_info": {
   "codemirror_mode": {
    "name": "ipython",
    "version": 3
   },
   "file_extension": ".py",
   "mimetype": "text/x-python",
   "name": "python",
   "nbconvert_exporter": "python",
   "pygments_lexer": "ipython3",
   "version": "3.10.12"
  }
 },
 "nbformat": 4,
 "nbformat_minor": 2
}
