{
 "cells": [
  {
   "cell_type": "code",
   "execution_count": 8,
   "metadata": {},
   "outputs": [
    {
     "name": "stdout",
     "output_type": "stream",
     "text": [
      "sales_data.csv file created successfully.\n"
     ]
    }
   ],
   "source": [
    "# Detect & Remove Outliers using IQR Method\n",
    "\n",
    "# Objective: Learn to identify and remove outliers from a dataset using the Interquartile Range (IQR) method.\n",
    "# Instructions:\n",
    "# For each example, perform the following steps:\n",
    "#     1. Load the Dataset: Load the dataset into your environment. You can use pandas to read the CSV file.\n",
    "#     2. Calculate IQR: Calculate the first quartile (Q1), third quartile (Q3), and the IQR for the specified column.\n",
    "#     3. Identify Outliers: Determine which data points are considered outliers.\n",
    "#     4. Remove Outliers: Remove the outliers from the dataset.\n",
    "#     5. Verify: Ensure the outliers are removed by checking the size or summary statistics of the dataset before and after the removal.\n",
    "    \n",
    "    \n",
    "    \n",
    "\n",
    "# Task:\n",
    "#     Dataset: sales_data.csv(get it by your own it includes the column of Monthly_Sales)\n",
    "#     Column to analyze: Monthly_Sales\n",
    "#     Steps:\n",
    "#         1. Load sales_data.csv .\n",
    "#         2. Calculate Q1, Q3, and IQR for Monthly_Sales .\n",
    "#         3. Identify outliers.\n",
    "#         4. Remove the outliers.\n",
    "#         5. Check the number of rows removed.\n",
    "\n",
    "csv_content = \"\"\"ID,Monthly_Sales\n",
    "1,200\n",
    "2,220\n",
    "3,210\n",
    "4,215\n",
    "5,205\n",
    "6,230\n",
    "7,1000\n",
    "8,225\n",
    "9,215\n",
    "10,2050\n",
    "11,210\n",
    "12,220\n",
    "13,215\n",
    "14,205\n",
    "15,230\n",
    "\"\"\"\n",
    "\n",
    "with open(\"sales_data.csv\", \"w\") as file:\n",
    "    file.write(csv_content)\n",
    "\n",
    "print(\"sales_data.csv file created successfully.\")\n",
    "\n",
    "\n",
    "\n",
    "\n"
   ]
  },
  {
   "cell_type": "code",
   "execution_count": 9,
   "metadata": {},
   "outputs": [
    {
     "name": "stdout",
     "output_type": "stream",
     "text": [
      "Original DataFrame shape: (15, 2)\n",
      "Q1: 210.0\n",
      "Q3: 227.5\n",
      "IQR: 17.5\n",
      "Lower bound: 183.75\n",
      "Upper bound: 253.75\n",
      "\n",
      "Outliers detected:\n",
      "   ID  Monthly_Sales\n",
      "6   7           1000\n",
      "9  10           2050\n",
      "\n",
      "DataFrame shape after removing outliers: (13, 2)\n",
      "Number of rows removed: 2\n"
     ]
    }
   ],
   "source": [
    "import pandas as pd\n",
    "\n",
    "# Load dataset\n",
    "df = pd.read_csv(\"sales_data.csv\")\n",
    "print(\"Original DataFrame shape:\", df.shape)\n",
    "\n",
    "# Calculate Q1, Q3 and IQR for 'Monthly_Sales'\n",
    "Q1 = df['Monthly_Sales'].quantile(0.25)\n",
    "Q3 = df['Monthly_Sales'].quantile(0.75)\n",
    "IQR = Q3 - Q1\n",
    "\n",
    "print(f\"Q1: {Q1}\")\n",
    "print(f\"Q3: {Q3}\")\n",
    "print(f\"IQR: {IQR}\")\n",
    "\n",
    "# Define bounds for outliers\n",
    "lower_bound = Q1 - 1.5 * IQR\n",
    "upper_bound = Q3 + 1.5 * IQR\n",
    "\n",
    "print(f\"Lower bound: {lower_bound}\")\n",
    "print(f\"Upper bound: {upper_bound}\")\n",
    "\n",
    "# Detect outliers\n",
    "outliers = df[(df['Monthly_Sales'] < lower_bound) | (df['Monthly_Sales'] > upper_bound)]\n",
    "print(\"\\nOutliers detected:\")\n",
    "print(outliers)\n",
    "\n",
    "# Remove outliers\n",
    "df_cleaned = df[(df['Monthly_Sales'] >= lower_bound) & (df['Monthly_Sales'] <= upper_bound)]\n",
    "print(\"\\nDataFrame shape after removing outliers:\", df_cleaned.shape)\n",
    "\n",
    "# Number of rows removed\n",
    "rows_removed = df.shape[0] - df_cleaned.shape[0]\n",
    "print(f\"Number of rows removed: {rows_removed}\")\n"
   ]
  }
 ],
 "metadata": {
  "kernelspec": {
   "display_name": "Python 3",
   "language": "python",
   "name": "python3"
  },
  "language_info": {
   "codemirror_mode": {
    "name": "ipython",
    "version": 3
   },
   "file_extension": ".py",
   "mimetype": "text/x-python",
   "name": "python",
   "nbconvert_exporter": "python",
   "pygments_lexer": "ipython3",
   "version": "3.10.12"
  }
 },
 "nbformat": 4,
 "nbformat_minor": 2
}
