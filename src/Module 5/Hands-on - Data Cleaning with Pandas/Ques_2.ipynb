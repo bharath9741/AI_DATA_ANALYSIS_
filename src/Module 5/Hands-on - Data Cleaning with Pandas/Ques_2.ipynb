{
 "cells": [
  {
   "cell_type": "code",
   "execution_count": 3,
   "metadata": {},
   "outputs": [
    {
     "name": "stdout",
     "output_type": "stream",
     "text": [
      "   column_name date_column\n",
      "0            1  2021-01-01\n",
      "1            2  2021-02-01\n",
      "2            2  2021-02-01\n",
      "3            4  2021-04-01\n",
      "4            5  2021-05-01\n"
     ]
    }
   ],
   "source": [
    "# Part 2: Remove Duplicates & Fix Data Types\n",
    "\n",
    "# Task 1: Remove Duplicates\n",
    "#     1. Load Extended Data:\n",
    "#     2. Remove Duplicates:\n",
    "        \n",
    "\n",
    "\n",
    "# Task 2: Fix Data Types\n",
    "#     1. Fix Incorrect Data Types:\n",
    "        \n",
    "\n",
    "\n",
    "# Task 3: Convert Data Type for Analysis\n",
    "#     1. Convert Date Strings to DateTime:\n",
    "import pandas as pd\n",
    "import numpy as np\n",
    "\n",
    "data = {\n",
    "    'column_name': [1, 2, 2, 4, 5],\n",
    "    'date_column': ['2021-01-01', '2021-02-01', '2021-02-01', '2021-04-01', '2021-05-01']\n",
    "}\n",
    "\n",
    "df = pd.DataFrame(data)\n",
    "\n",
    "df_no_duplicates = df.drop_duplicates()\n",
    "\n",
    "df['column_name'] = df['column_name'].astype('int')\n",
    "\n",
    "df['date_column'] = pd.to_datetime(df['date_column'], format='%Y-%m-%d')\n",
    "\n",
    "print(df.head())\n",
    "\n",
    "\n"
   ]
  }
 ],
 "metadata": {
  "kernelspec": {
   "display_name": "Python 3",
   "language": "python",
   "name": "python3"
  },
  "language_info": {
   "codemirror_mode": {
    "name": "ipython",
    "version": 3
   },
   "file_extension": ".py",
   "mimetype": "text/x-python",
   "name": "python",
   "nbconvert_exporter": "python",
   "pygments_lexer": "ipython3",
   "version": "3.10.12"
  }
 },
 "nbformat": 4,
 "nbformat_minor": 2
}
