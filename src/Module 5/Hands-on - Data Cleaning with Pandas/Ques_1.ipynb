{
 "cells": [
  {
   "cell_type": "code",
   "execution_count": 2,
   "metadata": {},
   "outputs": [
    {
     "name": "stdout",
     "output_type": "stream",
     "text": [
      "Missing Data Detection:\n",
      "A    1\n",
      "B    1\n",
      "C    1\n",
      "dtype: int64\n",
      "\n",
      "Dropping Rows with Missing Values:\n",
      "     A    B    C\n",
      "1  2.0  2.0  2.0\n",
      "4  5.0  5.0  5.0\n",
      "\n",
      "Handling Missing Data by Imputation (Filling with Mean):\n",
      "     A    B     C\n",
      "0  1.0  3.5  1.00\n",
      "1  2.0  2.0  2.00\n",
      "2  3.0  3.0  3.00\n",
      "3  4.0  4.0  2.75\n",
      "4  5.0  5.0  5.00\n"
     ]
    }
   ],
   "source": [
    "# Part 1: Detect & Handle Missing Data\n",
    "\n",
    "# Task 1: Detect Missing Data\n",
    "#     1. Load the Data:\n",
    "#     2. Detect Missing Data:\n",
    "\n",
    "\n",
    "\n",
    "# Task 2: Handle Missing Data by Dropping\n",
    "#     1. Drop Rows with Missing Values:\n",
    "        \n",
    "        \n",
    "\n",
    "# Task 3: Handle Missing Data by Imputation\n",
    "#     1. Fill Missing Values:\n",
    "import pandas as pd\n",
    "import numpy as np\n",
    "\n",
    "# Creating a sample DataFrame with missing values\n",
    "data = {\n",
    "    'A': [1, 2, np.nan, 4, 5],\n",
    "    'B': [np.nan, 2, 3, 4, 5],\n",
    "    'C': [1, 2, 3, np.nan, 5]\n",
    "}\n",
    "\n",
    "df = pd.DataFrame(data)\n",
    "\n",
    "# Task 1: Detect Missing Data\n",
    "print(\"Missing Data Detection:\")\n",
    "missing_data = df.isnull().sum()\n",
    "print(missing_data)\n",
    "\n",
    "# Task 2: Handle Missing Data by Dropping Rows with Missing Values\n",
    "print(\"\\nDropping Rows with Missing Values:\")\n",
    "df_cleaned = df.dropna()\n",
    "print(df_cleaned)\n",
    "\n",
    "# Task 3: Handle Missing Data by Imputation (Filling with Mean for Example)\n",
    "print(\"\\nHandling Missing Data by Imputation (Filling with Mean):\")\n",
    "df_filled = df.fillna(df.mean())\n",
    "print(df_filled)\n",
    "\n",
    "        "
   ]
  }
 ],
 "metadata": {
  "kernelspec": {
   "display_name": "Python 3",
   "language": "python",
   "name": "python3"
  },
  "language_info": {
   "codemirror_mode": {
    "name": "ipython",
    "version": 3
   },
   "file_extension": ".py",
   "mimetype": "text/x-python",
   "name": "python",
   "nbconvert_exporter": "python",
   "pygments_lexer": "ipython3",
   "version": "3.10.12"
  }
 },
 "nbformat": 4,
 "nbformat_minor": 2
}
