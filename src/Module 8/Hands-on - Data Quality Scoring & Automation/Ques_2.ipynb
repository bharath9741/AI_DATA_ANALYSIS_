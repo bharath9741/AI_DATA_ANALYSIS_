{
 "cells": [
  {
   "cell_type": "markdown",
   "metadata": {},
   "source": [
    "## Calculate Data Quality Score\n",
    "**Introduction**: In this activity, you will calculate data quality scores for datasets using different metrics. You will explore examples where you assess completeness, accuracy, and consistency.\n",
    "\n",
    "### Task 1: Completeness Score\n",
    "1. Objective: Determine the percentage of non-missing values in a dataset.\n",
    "2. Steps:\n",
    "    - Load a sample dataset using Pandas.\n",
    "    - Identify the columns with missing values.\n",
    "    - Calculate the completeness score as the ratio of non-missing values to total values.\n",
    "    - E.g., a dataset with customer information."
   ]
  },
  {
   "cell_type": "code",
   "execution_count": 1,
   "metadata": {},
   "outputs": [
    {
     "name": "stdout",
     "output_type": "stream",
     "text": [
      "Dataset:\n",
      "    CustomerID   Name                Email   Age\n",
      "0           1  Alice    alice@example.com  25.0\n",
      "1           2    Bob                 None  30.0\n",
      "2           3   None  charlie@example.com  35.0\n",
      "3           4  David    david@example.com   NaN\n",
      "4           5    Eve      eve@example.com  28.0\n",
      "\n",
      "Missing values per column:\n",
      " CustomerID    0\n",
      "Name          1\n",
      "Email         1\n",
      "Age           1\n",
      "dtype: int64\n",
      "\n",
      "Completeness score (percentage of non-missing values) per column:\n",
      " CustomerID    100.0\n",
      "Name           80.0\n",
      "Email          80.0\n",
      "Age            80.0\n",
      "dtype: float64\n",
      "\n",
      "Overall Completeness Score: 85.00%\n"
     ]
    }
   ],
   "source": [
    "import pandas as pd\n",
    "\n",
    "# Sample dataset: customer information\n",
    "data = {\n",
    "    'CustomerID': [1, 2, 3, 4, 5],\n",
    "    'Name': ['Alice', 'Bob', None, 'David', 'Eve'],\n",
    "    'Email': ['alice@example.com', None, 'charlie@example.com', 'david@example.com', 'eve@example.com'],\n",
    "    'Age': [25, 30, 35, None, 28]\n",
    "}\n",
    "\n",
    "# Load data into DataFrame\n",
    "df = pd.DataFrame(data)\n",
    "\n",
    "# Display the dataset\n",
    "print(\"Dataset:\\n\", df)\n",
    "\n",
    "# Identify columns with missing values\n",
    "missing_counts = df.isnull().sum()\n",
    "print(\"\\nMissing values per column:\\n\", missing_counts)\n",
    "\n",
    "# Calculate completeness score for each column\n",
    "completeness_score = (df.notnull().sum() / len(df)) * 100\n",
    "print(\"\\nCompleteness score (percentage of non-missing values) per column:\\n\", completeness_score)\n",
    "\n",
    "# Calculate overall completeness score (average across all columns)\n",
    "overall_completeness = completeness_score.mean()\n",
    "print(f\"\\nOverall Completeness Score: {overall_completeness:.2f}%\")\n"
   ]
  },
  {
   "cell_type": "markdown",
   "metadata": {},
   "source": [
    "### Task 2: Accuracy Score\n",
    "\n",
    "1. Objective: Measure the accuracy of a dataset by comparing it against a reference dataset.\n",
    "2. Steps:\n",
    "    - Load the main dataset and a reference dataset.\n",
    "    - Select key columns for accuracy check.\n",
    "    - Match values from both datasets and calculate the accuracy percentage.\n",
    "    - E.g., along existing dataset with sales information."
   ]
  },
  {
   "cell_type": "code",
   "execution_count": 2,
   "metadata": {},
   "outputs": [
    {
     "name": "stdout",
     "output_type": "stream",
     "text": [
      "Main Dataset:\n",
      "    OrderID     Product  Quantity\n",
      "0      101      Laptop         1\n",
      "1      102      Tablet         2\n",
      "2      103  Smartphone         1\n",
      "3      104      Laptop         1\n",
      "4      105      Camera         3\n",
      "\n",
      "Reference Dataset:\n",
      "    OrderID     Product  Quantity\n",
      "0      101      Laptop         1\n",
      "1      102      Tablet         2\n",
      "2      103  Smartphone         2\n",
      "3      104      Laptop         1\n",
      "4      105      Camera         3\n",
      "\n",
      "Accuracy for 'Product': 100.00%\n",
      "Accuracy for 'Quantity': 80.00%\n",
      "\n",
      "Overall Accuracy Score: 90.00%\n"
     ]
    }
   ],
   "source": [
    "# Write your code from here\n",
    "import pandas as pd\n",
    "\n",
    "# Main dataset (possibly with some errors)\n",
    "main_data = {\n",
    "    'OrderID': [101, 102, 103, 104, 105],\n",
    "    'Product': ['Laptop', 'Tablet', 'Smartphone', 'Laptop', 'Camera'],\n",
    "    'Quantity': [1, 2, 1, 1, 3]\n",
    "}\n",
    "\n",
    "# Reference dataset (assumed to be accurate)\n",
    "reference_data = {\n",
    "    'OrderID': [101, 102, 103, 104, 105],\n",
    "    'Product': ['Laptop', 'Tablet', 'Smartphone', 'Laptop', 'Camera'],\n",
    "    'Quantity': [1, 2, 2, 1, 3]  # Note: Quantity for OrderID 103 differs\n",
    "}\n",
    "\n",
    "# Load into DataFrames\n",
    "df_main = pd.DataFrame(main_data)\n",
    "df_ref = pd.DataFrame(reference_data)\n",
    "\n",
    "# Display datasets\n",
    "print(\"Main Dataset:\\n\", df_main)\n",
    "print(\"\\nReference Dataset:\\n\", df_ref)\n",
    "\n",
    "# Merge datasets on 'OrderID' to compare key columns\n",
    "merged = pd.merge(df_main, df_ref, on='OrderID', suffixes=('_main', '_ref'))\n",
    "\n",
    "# Check accuracy for 'Product' and 'Quantity'\n",
    "merged['Product_match'] = merged['Product_main'] == merged['Product_ref']\n",
    "merged['Quantity_match'] = merged['Quantity_main'] == merged['Quantity_ref']\n",
    "\n",
    "# Calculate accuracy percentage for each column\n",
    "product_accuracy = merged['Product_match'].mean() * 100\n",
    "quantity_accuracy = merged['Quantity_match'].mean() * 100\n",
    "\n",
    "print(f\"\\nAccuracy for 'Product': {product_accuracy:.2f}%\")\n",
    "print(f\"Accuracy for 'Quantity': {quantity_accuracy:.2f}%\")\n",
    "\n",
    "# Overall accuracy (average of both)\n",
    "overall_accuracy = (product_accuracy + quantity_accuracy) / 2\n",
    "print(f\"\\nOverall Accuracy Score: {overall_accuracy:.2f}%\")\n"
   ]
  },
  {
   "cell_type": "markdown",
   "metadata": {},
   "source": [
    "### Task 3: Consistency Score\n",
    "\n",
    "1. Objective: Evaluate the consistency within a dataset for specific columns.\n",
    "2. Steps:\n",
    "    - Choose a column expected to have consistent values.\n",
    "    - Use statistical or rule-based checks to identify inconsistencies.\n",
    "    - Calculate the consistency score by the ratio of consistent to total entries.\n",
    "    - E.g., validating phone number formats in a contact list."
   ]
  },
  {
   "cell_type": "code",
   "execution_count": 3,
   "metadata": {},
   "outputs": [
    {
     "name": "stdout",
     "output_type": "stream",
     "text": [
      "      Name         Phone  is_consistent\n",
      "0    Alice  123-456-7890           True\n",
      "1      Bob    1234567890          False\n",
      "2  Charlie  123-4567-890          False\n",
      "3    David  123-456-7890           True\n",
      "4      Eve  12-3456-7890          False\n",
      "\n",
      "Consistency Score (phone format): 0.40\n"
     ]
    }
   ],
   "source": [
    "# Write your code from here\n",
    "import pandas as pd\n",
    "import re\n",
    "\n",
    "# Sample dataset with a 'Phone' column\n",
    "data = {\n",
    "    'Name': ['Alice', 'Bob', 'Charlie', 'David', 'Eve'],\n",
    "    'Phone': ['123-456-7890', '1234567890', '123-4567-890', '123-456-7890', '12-3456-7890']\n",
    "}\n",
    "\n",
    "df = pd.DataFrame(data)\n",
    "\n",
    "# Define a regex pattern for consistent phone number format: e.g., XXX-XXX-XXXX\n",
    "phone_pattern = re.compile(r'^\\d{3}-\\d{3}-\\d{4}$')\n",
    "\n",
    "# Check if each phone number matches the pattern\n",
    "df['is_consistent'] = df['Phone'].apply(lambda x: bool(phone_pattern.match(x)))\n",
    "\n",
    "# Calculate consistency score: ratio of consistent phone numbers\n",
    "consistency_score = df['is_consistent'].mean()\n",
    "\n",
    "print(df)\n",
    "print(f\"\\nConsistency Score (phone format): {consistency_score:.2f}\")\n"
   ]
  }
 ],
 "metadata": {
  "kernelspec": {
   "display_name": "Python 3",
   "language": "python",
   "name": "python3"
  },
  "language_info": {
   "codemirror_mode": {
    "name": "ipython",
    "version": 3
   },
   "file_extension": ".py",
   "mimetype": "text/x-python",
   "name": "python",
   "nbconvert_exporter": "python",
   "pygments_lexer": "ipython3",
   "version": "3.10.12"
  }
 },
 "nbformat": 4,
 "nbformat_minor": 2
}
