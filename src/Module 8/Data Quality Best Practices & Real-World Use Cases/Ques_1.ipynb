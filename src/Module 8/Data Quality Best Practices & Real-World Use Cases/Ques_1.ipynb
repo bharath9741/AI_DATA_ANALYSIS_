{
 "cells": [
  {
   "cell_type": "markdown",
   "metadata": {},
   "source": [
    "### Define Data Quality KPIs\n",
    "\n",
    "**Task 1**: Identify Relevant KPIs\n",
    "\n",
    "**Objective**: Develop KPIs that align with organizational goals.\n",
    "\n",
    "**Steps**:\n",
    "1. Choose a dataset from a domain of your interest (e.g., sales data, healthcare records, or transaction logs).\n",
    "2. Identify three KPIs that would be crucial for assessing the data quality in your chosen dataset. Consider accuracy, completeness, and timeliness.\n",
    "3. Document why each KPI is important for maintaining high-quality data in your given context."
   ]
  },
  {
   "cell_type": "code",
   "execution_count": 1,
   "metadata": {},
   "outputs": [
    {
     "name": "stdout",
     "output_type": "stream",
     "text": [
      "Accuracy Score: 80.00%\n",
      "Completeness Score (overall): 86.67%\n",
      "Completeness per column:\n",
      "  CustomerID: 80.00%\n",
      "  Date: 80.00%\n",
      "  ProductID: 100.00%\n",
      "Timeliness Score: 75.00%\n"
     ]
    }
   ],
   "source": [
    "import pandas as pd\n",
    "from datetime import datetime, timedelta\n",
    "\n",
    "# Sample sales dataset\n",
    "data = {\n",
    "    'TransactionID': [1, 2, 3, 4, 5],\n",
    "    'CustomerID': ['C001', 'C002', None, 'C004', 'C005'],\n",
    "    'Date': ['2025-05-19', '2025-05-20', '2025-05-18', None, '2025-05-21'],\n",
    "    'Amount': [100.0, 150.0, 200.0, 250.0, None],\n",
    "    'ProductID': ['P001', 'P002', 'P003', 'P004', 'P005']\n",
    "}\n",
    "\n",
    "df = pd.DataFrame(data)\n",
    "\n",
    "# Convert Date column to datetime\n",
    "df['Date'] = pd.to_datetime(df['Date'], errors='coerce')\n",
    "\n",
    "# Define a reference \"correct\" Amounts dataset for accuracy check\n",
    "# (In real scenario, it would come from a trusted source)\n",
    "reference_amounts = {\n",
    "    1: 100.0,\n",
    "    2: 150.0,\n",
    "    3: 200.0,\n",
    "    4: 250.0,\n",
    "    5: 300.0  # Note: Amount differs from df to simulate error\n",
    "}\n",
    "\n",
    "# KPI 1: Accuracy (Amount matches reference)\n",
    "def calculate_accuracy(df, reference):\n",
    "    matched = 0\n",
    "    total = len(df)\n",
    "    for idx, row in df.iterrows():\n",
    "        txn_id = row['TransactionID']\n",
    "        amount = row['Amount']\n",
    "        ref_amount = reference.get(txn_id)\n",
    "        if pd.notnull(amount) and amount == ref_amount:\n",
    "            matched += 1\n",
    "    accuracy = matched / total * 100\n",
    "    return accuracy\n",
    "\n",
    "accuracy_score = calculate_accuracy(df, reference_amounts)\n",
    "\n",
    "# KPI 2: Completeness (non-missing values in critical columns)\n",
    "def calculate_completeness(df, critical_cols):\n",
    "    completeness_scores = {}\n",
    "    for col in critical_cols:\n",
    "        completeness = df[col].notnull().mean() * 100\n",
    "        completeness_scores[col] = completeness\n",
    "    overall_completeness = sum(completeness_scores.values()) / len(critical_cols)\n",
    "    return overall_completeness, completeness_scores\n",
    "\n",
    "critical_columns = ['CustomerID', 'Date', 'ProductID']\n",
    "completeness_score, completeness_per_col = calculate_completeness(df, critical_columns)\n",
    "\n",
    "# KPI 3: Timeliness (transactions recorded within 2 days of Date)\n",
    "def calculate_timeliness(df, max_delay_days=2):\n",
    "    now = datetime.now()\n",
    "    timely_records = df['Date'].apply(lambda d: (now - d).days if pd.notnull(d) else None)\n",
    "    timely_count = timely_records[timely_records <= max_delay_days].count()\n",
    "    total_records = df['Date'].notnull().sum()\n",
    "    timeliness = (timely_count / total_records) * 100 if total_records > 0 else 0\n",
    "    return timeliness\n",
    "\n",
    "timeliness_score = calculate_timeliness(df)\n",
    "\n",
    "# Print KPI results\n",
    "print(f\"Accuracy Score: {accuracy_score:.2f}%\")\n",
    "print(f\"Completeness Score (overall): {completeness_score:.2f}%\")\n",
    "print(\"Completeness per column:\")\n",
    "for col, score in completeness_per_col.items():\n",
    "    print(f\"  {col}: {score:.2f}%\")\n",
    "print(f\"Timeliness Score: {timeliness_score:.2f}%\")\n"
   ]
  },
  {
   "cell_type": "markdown",
   "metadata": {},
   "source": [
    "**Task 2**: Develop a KPI Dashboard\n",
    "\n",
    "**Objective**: Visualize your KPIs for better monitoring.\n",
    "\n",
    "**Steps**:\n",
    "1. Use a tool like Excel or a BI tool (e.g., Tableau, Power BI) to create a simple dashboard.\n",
    "2. Input sample data and visualize your chosen KPIs, showing how they would be monitored.\n",
    "3. Share your dashboard with peers and gather feedback on KPI relevance and clarity."
   ]
  },
  {
   "cell_type": "code",
   "execution_count": 2,
   "metadata": {},
   "outputs": [
    {
     "name": "stderr",
     "output_type": "stream",
     "text": [
      "/tmp/ipykernel_41967/1495361569.py:17: FutureWarning: \n",
      "\n",
      "Passing `palette` without assigning `hue` is deprecated and will be removed in v0.14.0. Assign the `x` variable to `hue` and set `legend=False` for the same effect.\n",
      "\n",
      "  sns.barplot(x=\"KPI\", y=\"Value\", data=kpi_df, palette=\"viridis\")\n"
     ]
    },
    {
     "data": {
      "image/png": "[encoded data removed]",
      "text/plain": [
       "<Figure size 800x500 with 1 Axes>"
      ]
     },
     "metadata": {},
     "output_type": "display_data"
    }
   ],
   "source": [
    "import matplotlib.pyplot as plt\n",
    "import seaborn as sns\n",
    "import pandas as pd\n",
    "\n",
    "# Sample KPI data (from previous task)\n",
    "kpis = {\n",
    "    \"Accuracy\": 80.0,\n",
    "    \"Completeness\": 90.0,\n",
    "    \"Timeliness\": 75.0\n",
    "}\n",
    "\n",
    "# Convert to DataFrame for easy plotting\n",
    "kpi_df = pd.DataFrame(list(kpis.items()), columns=[\"KPI\", \"Value\"])\n",
    "\n",
    "# Plot\n",
    "plt.figure(figsize=(8, 5))\n",
    "sns.barplot(x=\"KPI\", y=\"Value\", data=kpi_df, palette=\"viridis\")\n",
    "\n",
    "plt.ylim(0, 100)\n",
    "plt.title(\"Data Quality KPI Dashboard\")\n",
    "plt.ylabel(\"Score (%)\")\n",
    "plt.xlabel(\"Key Performance Indicator\")\n",
    "\n",
    "# Show data labels on bars\n",
    "for index, row in kpi_df.iterrows():\n",
    "    plt.text(index, row.Value + 2, f\"{row.Value:.1f}%\", ha='center')\n",
    "\n",
    "plt.show()\n"
   ]
  }
 ],
 "metadata": {
  "kernelspec": {
   "display_name": "Python 3",
   "language": "python",
   "name": "python3"
  },
  "language_info": {
   "codemirror_mode": {
    "name": "ipython",
    "version": 3
   },
   "file_extension": ".py",
   "mimetype": "text/x-python",
   "name": "python",
   "nbconvert_exporter": "python",
   "pygments_lexer": "ipython3",
   "version": "3.10.12"
  }
 },
 "nbformat": 4,
 "nbformat_minor": 2
}
