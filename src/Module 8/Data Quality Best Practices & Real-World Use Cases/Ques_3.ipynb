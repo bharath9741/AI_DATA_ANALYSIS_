{
 "cells": [
  {
   "cell_type": "markdown",
   "metadata": {},
   "source": [
    "### Finance – Ensuring Accurate Transactions\n",
    "\n",
    "**Task 1**: Transaction Data Validation Insights\n",
    "\n",
    "**Objective**: Maintain transaction integrity.\n",
    "\n",
    "**Steps**:\n",
    "1. Choose a sample financial transaction dataset.\n",
    "2. Identify common transaction issues like duplicate entries or incorrect amounts.\n",
    "3. Develop a list of validation checks specific to financial transactions."
   ]
  },
  {
   "cell_type": "code",
   "execution_count": 1,
   "metadata": {},
   "outputs": [
    {
     "name": "stdout",
     "output_type": "stream",
     "text": [
      "Duplicate Transactions:\n",
      "    TransactionID  AccountID TransactionDate  Amount TransactionType\n",
      "1            102       2002      2025-05-21   250.5           Debit\n",
      "4            102       2002      2025-05-21   250.5           Debit\n",
      "\n",
      "Invalid Amount Transactions:\n",
      "    TransactionID  AccountID TransactionDate  Amount TransactionType\n",
      "2            103       2003      2025-05-21  -150.0           Debit\n",
      "\n",
      "Validation Issues Summary:\n",
      "{'DuplicateTransactionIDs': [102], 'InvalidAmounts': [2]}\n"
     ]
    }
   ],
   "source": [
    "import pandas as pd\n",
    "\n",
    "# Sample financial transactions data\n",
    "data = {\n",
    "    'TransactionID': [101, 102, 103, 104, 102],  # Note duplicate TransactionID 102\n",
    "    'AccountID': [2001, 2002, 2003, 2004, 2002],\n",
    "    'TransactionDate': ['2025-05-20', '2025-05-21', '2025-05-21', '2025-05-22', '2025-05-21'],\n",
    "    'Amount': [100.00, 250.50, -150.00, 300.00, 250.50],  # Negative amount might be invalid depending on context\n",
    "    'TransactionType': ['Credit', 'Debit', 'Debit', 'Credit', 'Debit']\n",
    "}\n",
    "\n",
    "# Load into DataFrame\n",
    "df = pd.DataFrame(data)\n",
    "\n",
    "# Step 1: Identify duplicate transactions by TransactionID\n",
    "duplicates = df[df.duplicated(subset=['TransactionID'], keep=False)]\n",
    "\n",
    "# Step 2: Identify transactions with invalid amounts (e.g., negative amounts where not allowed)\n",
    "# Assuming amounts should be positive for this example\n",
    "invalid_amounts = df[df['Amount'] <= 0]\n",
    "\n",
    "# Step 3: Define validation checks\n",
    "def validate_transactions(df):\n",
    "    issues = {}\n",
    "\n",
    "    # Check for duplicate TransactionID\n",
    "    dup = df[df.duplicated(subset=['TransactionID'], keep=False)]\n",
    "    if not dup.empty:\n",
    "        issues['DuplicateTransactionIDs'] = dup['TransactionID'].unique().tolist()\n",
    "\n",
    "    # Check for invalid amounts (<=0)\n",
    "    invalid_amt = df[df['Amount'] <= 0]\n",
    "    if not invalid_amt.empty:\n",
    "        issues['InvalidAmounts'] = invalid_amt.index.tolist()\n",
    "\n",
    "    # Check for missing critical fields\n",
    "    missing_fields = df.isnull().sum()\n",
    "    missing_fields = missing_fields[missing_fields > 0]\n",
    "    if not missing_fields.empty:\n",
    "        issues['MissingFields'] = missing_fields.to_dict()\n",
    "\n",
    "    return issues\n",
    "\n",
    "# Run validations\n",
    "validation_issues = validate_transactions(df)\n",
    "\n",
    "print(\"Duplicate Transactions:\\n\", duplicates)\n",
    "print(\"\\nInvalid Amount Transactions:\\n\", invalid_amounts)\n",
    "print(\"\\nValidation Issues Summary:\")\n",
    "print(validation_issues)\n"
   ]
  },
  {
   "cell_type": "markdown",
   "metadata": {},
   "source": [
    "**Task 2**: Implement Financial Data Validation\n",
    "\n",
    "**Objective**: Use automated tools to ensure transaction accuracy.\n",
    "\n",
    "**Steps**:\n",
    "1. Integrate data validation rules into your existing financial systems.\n",
    "2. Ensure real-time checks to validate data upon entry."
   ]
  },
  {
   "cell_type": "code",
   "execution_count": 2,
   "metadata": {},
   "outputs": [
    {
     "name": "stdout",
     "output_type": "stream",
     "text": [
      "Transaction 104 passed validation.\n"
     ]
    },
    {
     "ename": "AttributeError",
     "evalue": "'DataFrame' object has no attribute 'append'",
     "output_type": "error",
     "traceback": [
      "\u001b[0;31m---------------------------------------------------------------------------\u001b[0m",
      "\u001b[0;31mAttributeError\u001b[0m                            Traceback (most recent call last)",
      "\u001b[0;32m/tmp/ipykernel_45395/3596139353.py\u001b[0m in \u001b[0;36m?\u001b[0;34m()\u001b[0m\n\u001b[1;32m     45\u001b[0m             \u001b[0mprint\u001b[0m\u001b[0;34m(\u001b[0m\u001b[0;34mf\" - {err}\"\u001b[0m\u001b[0;34m)\u001b[0m\u001b[0;34m\u001b[0m\u001b[0;34m\u001b[0m\u001b[0m\n\u001b[1;32m     46\u001b[0m     \u001b[0;32melse\u001b[0m\u001b[0;34m:\u001b[0m\u001b[0;34m\u001b[0m\u001b[0;34m\u001b[0m\u001b[0m\n\u001b[1;32m     47\u001b[0m         \u001b[0mprint\u001b[0m\u001b[0;34m(\u001b[0m\u001b[0;34mf\"Transaction {txn['TransactionID']} passed validation.\"\u001b[0m\u001b[0;34m)\u001b[0m\u001b[0;34m\u001b[0m\u001b[0;34m\u001b[0m\u001b[0m\n\u001b[1;32m     48\u001b[0m         \u001b[0;31m# If valid, add to existing_transactions (simulate database insert)\u001b[0m\u001b[0;34m\u001b[0m\u001b[0;34m\u001b[0m\u001b[0m\n\u001b[0;32m---> 49\u001b[0;31m         \u001b[0mexisting_transactions\u001b[0m \u001b[0;34m=\u001b[0m \u001b[0mexisting_transactions\u001b[0m\u001b[0;34m.\u001b[0m\u001b[0mappend\u001b[0m\u001b[0;34m(\u001b[0m\u001b[0mtxn\u001b[0m\u001b[0;34m,\u001b[0m \u001b[0mignore_index\u001b[0m\u001b[0;34m=\u001b[0m\u001b[0;32mTrue\u001b[0m\u001b[0;34m)\u001b[0m\u001b[0;34m\u001b[0m\u001b[0;34m\u001b[0m\u001b[0m\n\u001b[0m\u001b[1;32m     50\u001b[0m \u001b[0;34m\u001b[0m\u001b[0m\n\u001b[1;32m     51\u001b[0m \u001b[0mprint\u001b[0m\u001b[0;34m(\u001b[0m\u001b[0;34m\"\\nUpdated Transactions DataFrame:\"\u001b[0m\u001b[0;34m)\u001b[0m\u001b[0;34m\u001b[0m\u001b[0;34m\u001b[0m\u001b[0m\n\u001b[1;32m     52\u001b[0m \u001b[0mprint\u001b[0m\u001b[0;34m(\u001b[0m\u001b[0mexisting_transactions\u001b[0m\u001b[0;34m)\u001b[0m\u001b[0;34m\u001b[0m\u001b[0;34m\u001b[0m\u001b[0m\n",
      "\u001b[0;32m~/.local/lib/python3.10/site-packages/pandas/core/generic.py\u001b[0m in \u001b[0;36m?\u001b[0;34m(self, name)\u001b[0m\n\u001b[1;32m   6200\u001b[0m             \u001b[0;32mand\u001b[0m \u001b[0mname\u001b[0m \u001b[0;32mnot\u001b[0m \u001b[0;32min\u001b[0m \u001b[0mself\u001b[0m\u001b[0;34m.\u001b[0m\u001b[0m_accessors\u001b[0m\u001b[0;34m\u001b[0m\u001b[0;34m\u001b[0m\u001b[0m\n\u001b[1;32m   6201\u001b[0m             \u001b[0;32mand\u001b[0m \u001b[0mself\u001b[0m\u001b[0;34m.\u001b[0m\u001b[0m_info_axis\u001b[0m\u001b[0;34m.\u001b[0m\u001b[0m_can_hold_identifiers_and_holds_name\u001b[0m\u001b[0;34m(\u001b[0m\u001b[0mname\u001b[0m\u001b[0;34m)\u001b[0m\u001b[0;34m\u001b[0m\u001b[0;34m\u001b[0m\u001b[0m\n\u001b[1;32m   6202\u001b[0m         ):\n\u001b[1;32m   6203\u001b[0m             \u001b[0;32mreturn\u001b[0m \u001b[0mself\u001b[0m\u001b[0;34m[\u001b[0m\u001b[0mname\u001b[0m\u001b[0;34m]\u001b[0m\u001b[0;34m\u001b[0m\u001b[0;34m\u001b[0m\u001b[0m\n\u001b[0;32m-> 6204\u001b[0;31m         \u001b[0;32mreturn\u001b[0m \u001b[0mobject\u001b[0m\u001b[0;34m.\u001b[0m\u001b[0m__getattribute__\u001b[0m\u001b[0;34m(\u001b[0m\u001b[0mself\u001b[0m\u001b[0;34m,\u001b[0m \u001b[0mname\u001b[0m\u001b[0;34m)\u001b[0m\u001b[0;34m\u001b[0m\u001b[0;34m\u001b[0m\u001b[0m\n\u001b[0m",
      "\u001b[0;31mAttributeError\u001b[0m: 'DataFrame' object has no attribute 'append'"
     ]
    }
   ],
   "source": [
    "import pandas as pd\n",
    "\n",
    "# Existing dataset (for reference, could be a database or file in practice)\n",
    "existing_transactions = pd.DataFrame({\n",
    "    'TransactionID': [101, 102, 103],\n",
    "    'AccountID': [2001, 2002, 2003],\n",
    "    'TransactionDate': ['2025-05-20', '2025-05-21', '2025-05-21'],\n",
    "    'Amount': [100.00, 250.50, 150.00],\n",
    "    'TransactionType': ['Credit', 'Debit', 'Debit']\n",
    "})\n",
    "\n",
    "# Validation function for incoming transaction data\n",
    "def validate_transaction(new_txn, existing_df):\n",
    "    errors = []\n",
    "\n",
    "    # Check for duplicate TransactionID\n",
    "    if new_txn['TransactionID'] in existing_df['TransactionID'].values:\n",
    "        errors.append(f\"Duplicate TransactionID: {new_txn['TransactionID']}\")\n",
    "\n",
    "    # Check that amount is positive\n",
    "    if new_txn['Amount'] <= 0:\n",
    "        errors.append(f\"Invalid Amount: {new_txn['Amount']} (must be positive)\")\n",
    "\n",
    "    # Check required fields are present and not null\n",
    "    required_fields = ['TransactionID', 'AccountID', 'TransactionDate', 'Amount', 'TransactionType']\n",
    "    for field in required_fields:\n",
    "        if field not in new_txn or new_txn[field] is None:\n",
    "            errors.append(f\"Missing or null field: {field}\")\n",
    "\n",
    "    return errors\n",
    "\n",
    "# Example incoming transactions (simulating real-time entries)\n",
    "incoming_transactions = [\n",
    "    {'TransactionID': 104, 'AccountID': 2004, 'TransactionDate': '2025-05-22', 'Amount': 300.00, 'TransactionType': 'Credit'},\n",
    "    {'TransactionID': 102, 'AccountID': 2002, 'TransactionDate': '2025-05-21', 'Amount': 250.50, 'TransactionType': 'Debit'},  # duplicate ID\n",
    "    {'TransactionID': 105, 'AccountID': 2005, 'TransactionDate': '2025-05-23', 'Amount': -50.00, 'TransactionType': 'Debit'},   # invalid amount\n",
    "]\n",
    "\n",
    "# Process each incoming transaction with validation\n",
    "for txn in incoming_transactions:\n",
    "    errors = validate_transaction(txn, existing_transactions)\n",
    "    if errors:\n",
    "        print(f\"Transaction {txn['TransactionID']} validation failed with errors:\")\n",
    "        for err in errors:\n",
    "            print(f\" - {err}\")\n",
    "    else:\n",
    "        print(f\"Transaction {txn['TransactionID']} passed validation.\")\n",
    "        # If valid, add to existing_transactions (simulate database insert)\n",
    "        existing_transactions = existing_transactions.append(txn, ignore_index=True)\n",
    "\n",
    "print(\"\\nUpdated Transactions DataFrame:\")\n",
    "print(existing_transactions)\n"
   ]
  }
 ],
 "metadata": {
  "kernelspec": {
   "display_name": "Python 3",
   "language": "python",
   "name": "python3"
  },
  "language_info": {
   "codemirror_mode": {
    "name": "ipython",
    "version": 3
   },
   "file_extension": ".py",
   "mimetype": "text/x-python",
   "name": "python",
   "nbconvert_exporter": "python",
   "pygments_lexer": "ipython3",
   "version": "3.10.12"
  }
 },
 "nbformat": 4,
 "nbformat_minor": 2
}
