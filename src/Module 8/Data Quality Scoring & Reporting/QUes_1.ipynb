{
 "cells": [
  {
   "cell_type": "markdown",
   "metadata": {},
   "source": [
    "## Read Data from CSV and Calculate DQI\n",
    "\n",
    "**Description**: Read data from a CSV file, identify errors as missing values, and calculate the DQI."
   ]
  },
  {
   "cell_type": "code",
   "execution_count": 4,
   "metadata": {},
   "outputs": [
    {
     "name": "stdout",
     "output_type": "stream",
     "text": [
      "CSV file 'sample_data.csv' created.\n",
      "Data Quality Index (DQI): 0.50\n"
     ]
    }
   ],
   "source": [
    "# Step 1: Create the CSV file\n",
    "csv_content = \"\"\"name,age,email\n",
    "Alice,30,alice@example.com\n",
    "Bob,,bob@example.com\n",
    "Charlie,25,\n",
    "David,40,david@example.com\n",
    "Eve,35,eve@example.com\n",
    ",28,frank@example.com\n",
    "\"\"\"\n",
    "\n",
    "with open('sample_data.csv', 'w') as file:\n",
    "    file.write(csv_content)\n",
    "\n",
    "print(\"CSV file 'sample_data.csv' created.\")\n",
    "\n",
    "# Step 2: Read CSV and calculate DQI\n",
    "import csv\n",
    "\n",
    "def read_csv_and_calculate_dqi(file_path):\n",
    "    total_entries = 0\n",
    "    error_count = 0\n",
    "    \n",
    "    with open(file_path, newline='') as csvfile:\n",
    "        reader = csv.DictReader(csvfile)\n",
    "        for row in reader:\n",
    "            total_entries += 1\n",
    "            # Check if any value in the row is missing (empty or None)\n",
    "            if any(value == '' or value is None for value in row.values()):\n",
    "                error_count += 1\n",
    "    \n",
    "    valid_entries = total_entries - error_count\n",
    "    if total_entries == 0:\n",
    "        return 0.0\n",
    "    dqi = valid_entries / total_entries\n",
    "    return dqi\n",
    "\n",
    "# Step 3: Run the function and print result\n",
    "dqi_score = read_csv_and_calculate_dqi('sample_data.csv')\n",
    "print(f\"Data Quality Index (DQI): {dqi_score:.2f}\")\n"
   ]
  },
  {
   "cell_type": "markdown",
   "metadata": {},
   "source": [
    "### Visualize Basic DQI with Bar Plot\n",
    "\n",
    "**Description**: Create a bar plot for DQI and errors in a dataset."
   ]
  },
  {
   "cell_type": "code",
   "execution_count": 5,
   "metadata": {},
   "outputs": [
    {
     "data": {
      "image/png": "[encoded data removed]",
      "text/plain": [
       "<Figure size 640x480 with 1 Axes>"
      ]
     },
     "metadata": {},
     "output_type": "display_data"
    }
   ],
   "source": [
    "import matplotlib.pyplot as plt\n",
    "\n",
    "def plot_dqi_vs_errors(dqi, errors):\n",
    "    labels = ['DQI', 'Errors']\n",
    "    values = [dqi, errors]\n",
    "\n",
    "    plt.bar(labels, values, color=['green', 'red'])\n",
    "    plt.ylim(0, max(values) * 1.2)  # Add some padding on top\n",
    "\n",
    "    plt.title('Data Quality Index vs Errors')\n",
    "    plt.ylabel('Value')\n",
    "    plt.show()\n",
    "\n",
    "# Example usage:\n",
    "dqi = 0.67   # For example, 67% as a decimal\n",
    "errors = 3\n",
    "\n",
    "plot_dqi_vs_errors(dqi, errors)\n"
   ]
  }
 ],
 "metadata": {
  "kernelspec": {
   "display_name": "Python 3",
   "language": "python",
   "name": "python3"
  },
  "language_info": {
   "codemirror_mode": {
    "name": "ipython",
    "version": 3
   },
   "file_extension": ".py",
   "mimetype": "text/x-python",
   "name": "python",
   "nbconvert_exporter": "python",
   "pygments_lexer": "ipython3",
   "version": "3.10.12"
  }
 },
 "nbformat": 4,
 "nbformat_minor": 2
}
