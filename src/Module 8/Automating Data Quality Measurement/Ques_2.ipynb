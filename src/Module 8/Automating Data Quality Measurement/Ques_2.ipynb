{
 "cells": [
  {
   "cell_type": "markdown",
   "metadata": {},
   "source": [
    "### Task 1: Validate Data with a Custom Expectation in Great Expectations\n",
    "**Description**: Create a custom expectation and validate data with Great Expectations.\n",
    "\n",
    "**Load a sample DataFrame**\n",
    "\n",
    "data = {\n",
    "'age': [25, 30, 35, 40, 45],\n",
    "'income': [50000, 60000, 75000, None, 100000]\n",
    "}"
   ]
  },
  {
   "cell_type": "code",
   "execution_count": 1,
   "metadata": {},
   "outputs": [
    {
     "ename": "ModuleNotFoundError",
     "evalue": "No module named 'great_expectations'",
     "output_type": "error",
     "traceback": [
      "\u001b[0;31m---------------------------------------------------------------------------\u001b[0m",
      "\u001b[0;31mModuleNotFoundError\u001b[0m                       Traceback (most recent call last)",
      "Cell \u001b[0;32mIn[1], line 2\u001b[0m\n\u001b[1;32m      1\u001b[0m \u001b[38;5;66;03m# Write your code from here\u001b[39;00m\n\u001b[0;32m----> 2\u001b[0m \u001b[38;5;28;01mimport\u001b[39;00m\u001b[38;5;250m \u001b[39m\u001b[38;5;21;01mgreat_expectations\u001b[39;00m\u001b[38;5;250m \u001b[39m\u001b[38;5;28;01mas\u001b[39;00m\u001b[38;5;250m \u001b[39m\u001b[38;5;21;01mge\u001b[39;00m\n\u001b[1;32m      3\u001b[0m \u001b[38;5;28;01mimport\u001b[39;00m\u001b[38;5;250m \u001b[39m\u001b[38;5;21;01mpandas\u001b[39;00m\u001b[38;5;250m \u001b[39m\u001b[38;5;28;01mas\u001b[39;00m\u001b[38;5;250m \u001b[39m\u001b[38;5;21;01mpd\u001b[39;00m\n\u001b[1;32m      5\u001b[0m \u001b[38;5;66;03m# Sample data\u001b[39;00m\n",
      "\u001b[0;31mModuleNotFoundError\u001b[0m: No module named 'great_expectations'"
     ]
    }
   ],
   "source": [
    "# Write your code from here\n",
    "import great_expectations as ge\n",
    "import pandas as pd\n",
    "\n",
    "# Sample data\n",
    "data = {\n",
    "    'age': [25, 30, 35, 40, 45],\n",
    "    'income': [50000, 60000, 75000, None, 100000]\n",
    "}\n",
    "\n",
    "# Create a pandas DataFrame\n",
    "df = pd.DataFrame(data)\n",
    "\n",
    "# Convert pandas DataFrame to a Great Expectations dataset\n",
    "ge_df = ge.from_pandas(df)\n",
    "\n",
    "# Define a custom expectation to check that 'income' values are not null\n",
    "def expect_income_not_null(column):\n",
    "    return ge_df.expect_column_values_to_not_be_null(column)\n",
    "\n",
    "# Run the expectation on the 'income' column\n",
    "result = expect_income_not_null('income')\n",
    "\n",
    "# Print the result\n",
    "print(result)\n",
    "\n",
    "# Check if validation passed\n",
    "if result['success']:\n",
    "    print(\"Data validation passed: No null income values found.\")\n",
    "else:\n",
    "    print(\"Data validation failed: Null income values found.\")\n"
   ]
  },
  {
   "cell_type": "markdown",
   "metadata": {},
   "source": [
    "### Task 2: Implement a Basic Alert System for Data Quality Drops\n",
    "**Description**: Set up a basic alert system that triggers when data quality drops."
   ]
  },
  {
   "cell_type": "code",
   "execution_count": 2,
   "metadata": {},
   "outputs": [
    {
     "name": "stdout",
     "output_type": "stream",
     "text": [
      "ALERT: Data Quality Index dropped below threshold! Current DQI: 0.75\n"
     ]
    },
    {
     "data": {
      "text/plain": [
       "'ALERT: Data Quality Index dropped below threshold! Current DQI: 0.75'"
      ]
     },
     "execution_count": 2,
     "metadata": {},
     "output_type": "execute_result"
    }
   ],
   "source": [
    "def check_data_quality(dqi, threshold=0.8):\n",
    "    \"\"\"\n",
    "    Checks if the data quality index (DQI) falls below a threshold.\n",
    "    If yes, triggers an alert.\n",
    "    \n",
    "    Args:\n",
    "        dqi (float): Current data quality index (between 0 and 1).\n",
    "        threshold (float): Threshold below which alert triggers.\n",
    "    \n",
    "    Returns:\n",
    "        str: Alert message or success message.\n",
    "    \"\"\"\n",
    "    if dqi < threshold:\n",
    "        alert_msg = f\"ALERT: Data Quality Index dropped below threshold! Current DQI: {dqi:.2f}\"\n",
    "        # You can extend this to send email, logs, or notifications\n",
    "        print(alert_msg)\n",
    "        return alert_msg\n",
    "    else:\n",
    "        msg = f\"Data Quality Index is good. Current DQI: {dqi:.2f}\"\n",
    "        print(msg)\n",
    "        return msg\n",
    "\n",
    "# Example usage:\n",
    "current_dqi = 0.75  # Example DQI value\n",
    "check_data_quality(current_dqi, threshold=0.8)\n"
   ]
  },
  {
   "cell_type": "markdown",
   "metadata": {},
   "source": [
    "### Task 3: Real-time Data Quality Monitoring with Python and Great Expectations\n",
    "**Description**: Implement a system that monitors data quality in real-time."
   ]
  },
  {
   "cell_type": "code",
   "execution_count": 3,
   "metadata": {},
   "outputs": [
    {
     "ename": "ModuleNotFoundError",
     "evalue": "No module named 'great_expectations'",
     "output_type": "error",
     "traceback": [
      "\u001b[0;31m---------------------------------------------------------------------------\u001b[0m",
      "\u001b[0;31mModuleNotFoundError\u001b[0m                       Traceback (most recent call last)",
      "Cell \u001b[0;32mIn[3], line 3\u001b[0m\n\u001b[1;32m      1\u001b[0m \u001b[38;5;28;01mimport\u001b[39;00m\u001b[38;5;250m \u001b[39m\u001b[38;5;21;01mtime\u001b[39;00m\n\u001b[1;32m      2\u001b[0m \u001b[38;5;28;01mimport\u001b[39;00m\u001b[38;5;250m \u001b[39m\u001b[38;5;21;01mpandas\u001b[39;00m\u001b[38;5;250m \u001b[39m\u001b[38;5;28;01mas\u001b[39;00m\u001b[38;5;250m \u001b[39m\u001b[38;5;21;01mpd\u001b[39;00m\n\u001b[0;32m----> 3\u001b[0m \u001b[38;5;28;01mimport\u001b[39;00m\u001b[38;5;250m \u001b[39m\u001b[38;5;21;01mgreat_expectations\u001b[39;00m\u001b[38;5;250m \u001b[39m\u001b[38;5;28;01mas\u001b[39;00m\u001b[38;5;250m \u001b[39m\u001b[38;5;21;01mge\u001b[39;00m\n\u001b[1;32m      5\u001b[0m \u001b[38;5;28;01mdef\u001b[39;00m\u001b[38;5;250m \u001b[39m\u001b[38;5;21mgenerate_new_data\u001b[39m(batch_num):\n\u001b[1;32m      6\u001b[0m \u001b[38;5;250m    \u001b[39m\u001b[38;5;124;03m\"\"\"\u001b[39;00m\n\u001b[1;32m      7\u001b[0m \u001b[38;5;124;03m    Simulate incoming data batches.\u001b[39;00m\n\u001b[1;32m      8\u001b[0m \u001b[38;5;124;03m    Each batch has an 'age' and 'income' column.\u001b[39;00m\n\u001b[1;32m      9\u001b[0m \u001b[38;5;124;03m    Introduce missing data to simulate quality drops.\u001b[39;00m\n\u001b[1;32m     10\u001b[0m \u001b[38;5;124;03m    \"\"\"\u001b[39;00m\n",
      "\u001b[0;31mModuleNotFoundError\u001b[0m: No module named 'great_expectations'"
     ]
    }
   ],
   "source": [
    "import time\n",
    "import pandas as pd\n",
    "import great_expectations as ge\n",
    "\n",
    "def generate_new_data(batch_num):\n",
    "    \"\"\"\n",
    "    Simulate incoming data batches.\n",
    "    Each batch has an 'age' and 'income' column.\n",
    "    Introduce missing data to simulate quality drops.\n",
    "    \"\"\"\n",
    "    data = {\n",
    "        'age': [25 + batch_num, 30 + batch_num, 35 + batch_num],\n",
    "        'income': [50000, None if batch_num % 3 == 0 else 60000, 75000]\n",
    "    }\n",
    "    return pd.DataFrame(data)\n",
    "\n",
    "def validate_data(df):\n",
    "    \"\"\"\n",
    "    Validate data quality using Great Expectations.\n",
    "    Example: Check that 'income' column has no nulls.\n",
    "    \"\"\"\n",
    "    ge_df = ge.from_pandas(df)\n",
    "    result = ge_df.expect_column_values_to_not_be_null('income')\n",
    "    return result\n",
    "\n",
    "def monitor_data_quality(iterations=5, interval=2):\n",
    "    \"\"\"\n",
    "    Monitor data quality in real-time over multiple iterations.\n",
    "    \"\"\"\n",
    "    for i in range(1, iterations + 1):\n",
    "        print(f\"\\nBatch {i}:\")\n",
    "        df = generate_new_data(i)\n",
    "        print(df)\n",
    "\n",
    "        validation_result = validate_data(df)\n",
    "        if validation_result['success']:\n",
    "            print(\"DQI Check Passed: No missing income values.\")\n",
    "        else:\n",
    "            print(\"DQI Check Failed: Missing income values detected!\")\n",
    "        \n",
    "        time.sleep(interval)  # Wait before next batch (simulate real-time)\n",
    "\n",
    "if __name__ == \"__main__\":\n",
    "    monitor_data_quality()\n"
   ]
  }
 ],
 "metadata": {
  "kernelspec": {
   "display_name": "Python 3",
   "language": "python",
   "name": "python3"
  },
  "language_info": {
   "codemirror_mode": {
    "name": "ipython",
    "version": 3
   },
   "file_extension": ".py",
   "mimetype": "text/x-python",
   "name": "python",
   "nbconvert_exporter": "python",
   "pygments_lexer": "ipython3",
   "version": "3.10.12"
  }
 },
 "nbformat": 4,
 "nbformat_minor": 2
}
