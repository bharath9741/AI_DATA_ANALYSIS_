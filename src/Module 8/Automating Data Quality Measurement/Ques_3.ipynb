{
 "cells": [
  {
   "cell_type": "markdown",
   "metadata": {},
   "source": [
    "## Using AI for Anomalies Detection in Data Quality\n",
    "**Description**: Implement an AI-based approach to detect anomalies in data quality.\n",
    "\n",
    "**Steps**:\n",
    "1. Use an Anomaly Detection Algorithm:\n",
    "    - Use sklearn's Isolation Forest for anomaly detection.\n",
    "\n",
    "**Example data:**\n",
    "\n",
    "data = np.array([[25, 50000], [30, 60000], [35, 75000], [40, None], [45, 100000]])\n",
    "\n",
    "2. Integrate with Great Expectations:\n",
    "    - Generate alerts if anomalies are detected:"
   ]
  },
  {
   "cell_type": "code",
   "execution_count": 1,
   "metadata": {},
   "outputs": [
    {
     "ename": "ModuleNotFoundError",
     "evalue": "No module named 'great_expectations'",
     "output_type": "error",
     "traceback": [
      "\u001b[0;31m---------------------------------------------------------------------------\u001b[0m",
      "\u001b[0;31mModuleNotFoundError\u001b[0m                       Traceback (most recent call last)",
      "Cell \u001b[0;32mIn[1], line 4\u001b[0m\n\u001b[1;32m      2\u001b[0m \u001b[38;5;28;01mimport\u001b[39;00m\u001b[38;5;250m \u001b[39m\u001b[38;5;21;01mpandas\u001b[39;00m\u001b[38;5;250m \u001b[39m\u001b[38;5;28;01mas\u001b[39;00m\u001b[38;5;250m \u001b[39m\u001b[38;5;21;01mpd\u001b[39;00m\n\u001b[1;32m      3\u001b[0m \u001b[38;5;28;01mfrom\u001b[39;00m\u001b[38;5;250m \u001b[39m\u001b[38;5;21;01msklearn\u001b[39;00m\u001b[38;5;21;01m.\u001b[39;00m\u001b[38;5;21;01mensemble\u001b[39;00m\u001b[38;5;250m \u001b[39m\u001b[38;5;28;01mimport\u001b[39;00m IsolationForest\n\u001b[0;32m----> 4\u001b[0m \u001b[38;5;28;01mimport\u001b[39;00m\u001b[38;5;250m \u001b[39m\u001b[38;5;21;01mgreat_expectations\u001b[39;00m\u001b[38;5;250m \u001b[39m\u001b[38;5;28;01mas\u001b[39;00m\u001b[38;5;250m \u001b[39m\u001b[38;5;21;01mge\u001b[39;00m\n\u001b[1;32m      6\u001b[0m \u001b[38;5;66;03m# Sample data with potential anomaly (missing income represented as np.nan)\u001b[39;00m\n\u001b[1;32m      7\u001b[0m data \u001b[38;5;241m=\u001b[39m np\u001b[38;5;241m.\u001b[39marray([\n\u001b[1;32m      8\u001b[0m     [\u001b[38;5;241m25\u001b[39m, \u001b[38;5;241m50000\u001b[39m],\n\u001b[1;32m      9\u001b[0m     [\u001b[38;5;241m30\u001b[39m, \u001b[38;5;241m60000\u001b[39m],\n\u001b[0;32m   (...)\u001b[0m\n\u001b[1;32m     12\u001b[0m     [\u001b[38;5;241m45\u001b[39m, \u001b[38;5;241m100000\u001b[39m]\n\u001b[1;32m     13\u001b[0m ])\n",
      "\u001b[0;31mModuleNotFoundError\u001b[0m: No module named 'great_expectations'"
     ]
    }
   ],
   "source": [
    "import numpy as np\n",
    "import pandas as pd\n",
    "from sklearn.ensemble import IsolationForest\n",
    "import great_expectations as ge\n",
    "\n",
    "# Sample data with potential anomaly (missing income represented as np.nan)\n",
    "data = np.array([\n",
    "    [25, 50000],\n",
    "    [30, 60000],\n",
    "    [35, 75000],\n",
    "    [40, np.nan],    # Missing income, potential anomaly\n",
    "    [45, 100000]\n",
    "])\n",
    "\n",
    "# Convert to DataFrame\n",
    "df = pd.DataFrame(data, columns=['age', 'income'])\n",
    "\n",
    "# Replace None or np.nan with a placeholder for IsolationForest (it doesn't handle NaNs)\n",
    "# One approach: fill missing income with median or a sentinel value (e.g., -1)\n",
    "income_median = df['income'].median()\n",
    "df['income_filled'] = df['income'].fillna(income_median)\n",
    "\n",
    "# Prepare data for anomaly detection (using age and filled income)\n",
    "X = df[['age', 'income_filled']]\n",
    "\n",
    "# Initialize Isolation Forest\n",
    "iso_forest = IsolationForest(contamination=0.2, random_state=42)\n",
    "\n",
    "# Fit model and predict anomalies (-1 means anomaly, 1 means normal)\n",
    "df['anomaly'] = iso_forest.fit_predict(X)\n",
    "\n",
    "# Show detected anomalies\n",
    "print(\"Detected anomalies:\")\n",
    "print(df[df['anomaly'] == -1])\n",
    "\n",
    "# Integrate with Great Expectations to validate 'income' non-null and alert on anomalies\n",
    "\n",
    "ge_df = ge.from_pandas(df)\n",
    "\n",
    "# Expect no nulls in 'income'\n",
    "validation_result = ge_df.expect_column_values_to_not_be_null('income')\n",
    "\n",
    "if not validation_result['success']:\n",
    "    print(\"ALERT: Null values detected in 'income' column!\")\n",
    "\n",
    "# Alert if anomaly detected by Isolation Forest\n",
    "if df['anomaly'].eq(-1).any():\n",
    "    print(\"ALERT: Anomalies detected in data based on Isolation Forest!\")\n",
    "\n"
   ]
  }
 ],
 "metadata": {
  "kernelspec": {
   "display_name": "Python 3",
   "language": "python",
   "name": "python3"
  },
  "language_info": {
   "codemirror_mode": {
    "name": "ipython",
    "version": 3
   },
   "file_extension": ".py",
   "mimetype": "text/x-python",
   "name": "python",
   "nbconvert_exporter": "python",
   "pygments_lexer": "ipython3",
   "version": "3.10.12"
  }
 },
 "nbformat": 4,
 "nbformat_minor": 2
}
