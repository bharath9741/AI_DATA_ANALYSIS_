{
 "cells": [
  {
   "cell_type": "code",
   "execution_count": 6,
   "metadata": {},
   "outputs": [],
   "source": [
    "# Question 1: Handling Missing Values with Conditional Filling\n",
    "# Description: Fill missing values in a specific column based on a condition from another column.\n",
    "\n",
    "import pandas as pd\n",
    "import numpy as np\n",
    "\n",
    "df = pd.DataFrame({\n",
    "    'Department': ['HR', 'IT', 'HR', 'Finance', 'IT'],\n",
    "    'Salary': [50000, None, 52000, 58000, None]\n",
    "})\n",
    "\n",
    "# Fill missing Salary based on mean salary per Department\n",
    "df['Salary'] = df.groupby('Department')['Salary'].transform(lambda x: x.fillna(x.mean()))\n"
   ]
  },
  {
   "cell_type": "code",
   "execution_count": 2,
   "metadata": {},
   "outputs": [],
   "source": [
    "# Question 2: Removing Outliers by Rescaling\n",
    "# Description: Remove outliers by standardizing a numerical column using z-scores.\n",
    "\n",
    "from scipy import stats\n",
    "\n",
    "# Example numeric column\n",
    "df = pd.DataFrame({'Score': [100, 110, 105, 120, 300, 115, 108]})\n",
    "\n",
    "# Calculate z-scores and filter\n",
    "df = df[(np.abs(stats.zscore(df['Score'])) < 3)]\n"
   ]
  },
  {
   "cell_type": "code",
   "execution_count": 3,
   "metadata": {},
   "outputs": [],
   "source": [
    "# Question 3: Applying Data Type Conversion\n",
    "# Description: Convert the 'Age' column to integers after filling missing values.\n",
    "\n",
    "df = pd.DataFrame({'Age': [25, None, 30, None, 45]})\n",
    "\n",
    "# Fill missing values (with median) and convert to int\n",
    "df['Age'] = df['Age'].fillna(df['Age'].median()).astype(int)\n"
   ]
  },
  {
   "cell_type": "code",
   "execution_count": 4,
   "metadata": {},
   "outputs": [],
   "source": [
    "# Question 4: Automating Data Cleaning with Functions\n",
    "# Description: Create a function that automates the process of filling missing values, removing duplicates, and standardizing column names.\n",
    "\n",
    "def clean_data(df):\n",
    "    df = df.drop_duplicates()\n",
    "    df.columns = [col.lower().replace(' ', '_') for col in df.columns]\n",
    "    df = df.fillna(method='ffill')\n",
    "    return df\n",
    "\n",
    "# Example usage:\n",
    "# df = clean_data(df)\n"
   ]
  },
  {
   "cell_type": "code",
   "execution_count": 5,
   "metadata": {},
   "outputs": [],
   "source": [
    "# Question 5: Complex Data Normalization\n",
    "# Description: Normalize a numeric column to a range using min-max scaling.\n",
    "\n",
    "df = pd.DataFrame({'Marks': [50, 60, 70, 80, 90]})\n",
    "\n",
    "# Min-max normalization\n",
    "df['Marks_normalized'] = (df['Marks'] - df['Marks'].min()) / (df['Marks'].max() - df['Marks'].min())\n"
   ]
  }
 ],
 "metadata": {
  "kernelspec": {
   "display_name": "Python 3",
   "language": "python",
   "name": "python3"
  },
  "language_info": {
   "codemirror_mode": {
    "name": "ipython",
    "version": 3
   },
   "file_extension": ".py",
   "mimetype": "text/x-python",
   "name": "python",
   "nbconvert_exporter": "python",
   "pygments_lexer": "ipython3",
   "version": "3.10.12"
  }
 },
 "nbformat": 4,
 "nbformat_minor": 2
}
