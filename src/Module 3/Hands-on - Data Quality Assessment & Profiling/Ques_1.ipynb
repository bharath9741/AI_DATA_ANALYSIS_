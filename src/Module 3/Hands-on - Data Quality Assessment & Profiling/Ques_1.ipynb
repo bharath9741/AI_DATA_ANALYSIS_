{
 "cells": [
  {
   "cell_type": "code",
   "execution_count": 2,
   "metadata": {},
   "outputs": [
    {
     "name": "stdout",
     "output_type": "stream",
     "text": [
      "      Name  Age         City\n",
      "0    Alice   25     New York\n",
      "1      Bob   30  Los Angeles\n",
      "2  Charlie   35      Chicago\n",
      "3    David   40      Houston\n",
      "4      Eva   45      Phoenix\n"
     ]
    }
   ],
   "source": [
    "# Task 1: Load a CSV Dataset\n",
    "# Description: Load a CSV file into a Pandas DataFrame and print the first five rows to understand the structure of the dataset.\n",
    "\n",
    "\n",
    "import pandas as pd\n",
    "\n",
    "# Creating a sample dataset as a dictionary\n",
    "data = {\n",
    "    'Name': ['Alice', 'Bob', 'Charlie', 'David', 'Eva'],\n",
    "    'Age': [25, 30, 35, 40, 45],\n",
    "    'City': ['New York', 'Los Angeles', 'Chicago', 'Houston', 'Phoenix']\n",
    "}\n",
    "\n",
    "# Convert the dictionary to a DataFrame\n",
    "df = pd.DataFrame(data)\n",
    "\n",
    "# Print the first five rows of the DataFrame\n",
    "print(df.head())\n"
   ]
  },
  {
   "cell_type": "code",
   "execution_count": 3,
   "metadata": {},
   "outputs": [
    {
     "name": "stdout",
     "output_type": "stream",
     "text": [
      "Columns with missing values:\n",
      "Name    1\n",
      "Age     1\n",
      "City    1\n",
      "dtype: int64\n"
     ]
    }
   ],
   "source": [
    "# Task 2: Check for Missing Values\n",
    "# Description: Identify and list the columns with missing values and the number of missing values in each.\n",
    "\n",
    "import pandas as pd\n",
    "\n",
    "# Sample dataset (you can replace this with your actual DataFrame)\n",
    "data = {\n",
    "    'Name': ['Alice', 'Bob', 'Charlie', None, 'Eva'],\n",
    "    'Age': [25, 30, None, 40, 45],\n",
    "    'City': ['New York', 'Los Angeles', 'Chicago', 'Houston', None]\n",
    "}\n",
    "\n",
    "# Convert the dictionary to a DataFrame\n",
    "df = pd.DataFrame(data)\n",
    "\n",
    "# Check for missing values and count them per column\n",
    "missing_values = df.isnull().sum()\n",
    "\n",
    "# Display columns with missing values\n",
    "print(\"Columns with missing values:\")\n",
    "print(missing_values[missing_values > 0])\n"
   ]
  },
  {
   "cell_type": "code",
   "execution_count": 4,
   "metadata": {},
   "outputs": [
    {
     "data": {
      "image/png": "[encoded data removed]",
      "text/plain": [
       "<Figure size 800x600 with 1 Axes>"
      ]
     },
     "metadata": {},
     "output_type": "display_data"
    }
   ],
   "source": [
    "# Task 3: Visualize Missing Data\n",
    "# Description: Use a heatmap to visualize the missing values in the dataset.\n",
    "\n",
    "import pandas as pd\n",
    "import seaborn as sns\n",
    "import matplotlib.pyplot as plt\n",
    "\n",
    "# Sample dataset (replace with your actual DataFrame)\n",
    "data = {\n",
    "    'Name': ['Alice', 'Bob', 'Charlie', None, 'Eva'],\n",
    "    'Age': [25, 30, None, 40, 45],\n",
    "    'City': ['New York', 'Los Angeles', 'Chicago', 'Houston', None]\n",
    "}\n",
    "\n",
    "# Convert the dictionary to a DataFrame\n",
    "df = pd.DataFrame(data)\n",
    "\n",
    "# Create a heatmap to visualize missing values\n",
    "plt.figure(figsize=(8, 6))\n",
    "sns.heatmap(df.isnull(), cbar=False, cmap='viridis', annot=True, fmt=\"d\", linewidths=0.5)\n",
    "plt.title(\"Missing Data Heatmap\")\n",
    "plt.show()\n",
    "\n",
    "\n"
   ]
  },
  {
   "cell_type": "code",
   "execution_count": 5,
   "metadata": {},
   "outputs": [
    {
     "name": "stdout",
     "output_type": "stream",
     "text": [
      "DataFrame after dropping columns with more than 50% missing values:\n",
      "      Name   Age         City\n",
      "0    Alice  25.0     New York\n",
      "1      Bob  30.0  Los Angeles\n",
      "2  Charlie   NaN      Chicago\n",
      "3     None  40.0      Houston\n",
      "4      Eva  45.0         None\n"
     ]
    }
   ],
   "source": [
    "# Task 4: Remove Columns with Many Missing Values\n",
    "# Description: Drop columns that have more than 50% missing values.\n",
    "\n",
    "import pandas as pd\n",
    "\n",
    "# Sample dataset (replace with your actual DataFrame)\n",
    "data = {\n",
    "    'Name': ['Alice', 'Bob', 'Charlie', None, 'Eva'],\n",
    "    'Age': [25, 30, None, 40, 45],\n",
    "    'City': ['New York', 'Los Angeles', 'Chicago', 'Houston', None],\n",
    "    'Country': [None, None, None, None, None]  # Column with all missing values\n",
    "}\n",
    "\n",
    "# Convert the dictionary to a DataFrame\n",
    "df = pd.DataFrame(data)\n",
    "\n",
    "# Calculate the threshold (50% of the total number of rows)\n",
    "threshold = 0.5 * len(df)\n",
    "\n",
    "# Drop columns with more than 50% missing values\n",
    "df_cleaned = df.dropna(axis=1, thresh=threshold)\n",
    "\n",
    "# Display the cleaned DataFrame\n",
    "print(\"DataFrame after dropping columns with more than 50% missing values:\")\n",
    "print(df_cleaned)\n",
    "\n"
   ]
  },
  {
   "cell_type": "code",
   "execution_count": 6,
   "metadata": {},
   "outputs": [
    {
     "name": "stdout",
     "output_type": "stream",
     "text": [
      "Duplicate rows:\n",
      "    Name  Age      City\n",
      "3  Alice   25  New York\n"
     ]
    }
   ],
   "source": [
    "# Task 5: Identify Duplicate Rows\n",
    "# Description: Check for and display any duplicate rows in the dataset.\n",
    "\n",
    "import pandas as pd\n",
    "\n",
    "# Sample dataset (replace with your actual DataFrame)\n",
    "data = {\n",
    "    'Name': ['Alice', 'Bob', 'Charlie', 'Alice', 'Eva'],\n",
    "    'Age': [25, 30, 35, 25, 45],\n",
    "    'City': ['New York', 'Los Angeles', 'Chicago', 'New York', 'Phoenix']\n",
    "}\n",
    "\n",
    "# Convert the dictionary to a DataFrame\n",
    "df = pd.DataFrame(data)\n",
    "\n",
    "# Check for duplicate rows\n",
    "duplicates = df[df.duplicated()]\n",
    "\n",
    "# Display the duplicate rows\n",
    "print(\"Duplicate rows:\")\n",
    "print(duplicates)\n",
    "\n"
   ]
  },
  {
   "cell_type": "code",
   "execution_count": 7,
   "metadata": {},
   "outputs": [
    {
     "name": "stdout",
     "output_type": "stream",
     "text": [
      "DataFrame after removing duplicates:\n",
      "      Name  Age         City\n",
      "0    Alice   25     New York\n",
      "1      Bob   30  Los Angeles\n",
      "2  Charlie   35      Chicago\n",
      "4      Eva   45      Phoenix\n",
      "\n",
      "Any remaining duplicates:\n",
      "Empty DataFrame\n",
      "Columns: [Name, Age, City]\n",
      "Index: []\n"
     ]
    }
   ],
   "source": [
    "# Task 6: Remove Duplicate Rows\n",
    "# Description: Remove duplicate rows from the dataset and verify that they have been removed.\n",
    "\n",
    "\n",
    "import pandas as pd\n",
    "\n",
    "# Sample dataset (replace with your actual DataFrame)\n",
    "data = {\n",
    "    'Name': ['Alice', 'Bob', 'Charlie', 'Alice', 'Eva'],\n",
    "    'Age': [25, 30, 35, 25, 45],\n",
    "    'City': ['New York', 'Los Angeles', 'Chicago', 'New York', 'Phoenix']\n",
    "}\n",
    "\n",
    "# Convert the dictionary to a DataFrame\n",
    "df = pd.DataFrame(data)\n",
    "\n",
    "# Remove duplicate rows\n",
    "df_no_duplicates = df.drop_duplicates()\n",
    "\n",
    "# Verify that the duplicates have been removed\n",
    "print(\"DataFrame after removing duplicates:\")\n",
    "print(df_no_duplicates)\n",
    "\n",
    "# Check for any remaining duplicates\n",
    "duplicates_check = df_no_duplicates[df_no_duplicates.duplicated()]\n",
    "print(\"\\nAny remaining duplicates:\")\n",
    "print(duplicates_check)\n"
   ]
  },
  {
   "cell_type": "code",
   "execution_count": 8,
   "metadata": {},
   "outputs": [
    {
     "name": "stdout",
     "output_type": "stream",
     "text": [
      "Data after handling inconsistencies:\n",
      "      Name         City\n",
      "0    alice     new york\n",
      "1      bob  los angeles\n",
      "2  charlie      chicago\n",
      "3    alice     new york\n",
      "4      eva      phoenix\n",
      "\n",
      "Unique values in 'Name' column after cleaning:\n",
      "['alice' 'bob' 'charlie' 'eva']\n",
      "\n",
      "Unique values in 'City' column after cleaning:\n",
      "['new york' 'los angeles' 'chicago' 'phoenix']\n"
     ]
    }
   ],
   "source": [
    "# Task 7: Check Data Inconsistencies\n",
    "# Description: Identify inconsistencies in categorical columns, such as differing text cases or trailing spaces.\n",
    "import pandas as pd\n",
    "\n",
    "# Sample dataset (replace with your actual DataFrame)\n",
    "data = {\n",
    "    'Name': ['Alice', 'Bob', 'Charlie', 'alice', 'Eva'],\n",
    "    'City': ['New York ', ' Los Angeles', 'Chicago', 'new york', ' Phoenix']\n",
    "}\n",
    "\n",
    "# Convert the dictionary to a DataFrame\n",
    "df = pd.DataFrame(data)\n",
    "\n",
    "# Check for case inconsistencies and trailing spaces in categorical columns\n",
    "# Strip any leading or trailing spaces and convert text to lowercase\n",
    "df['Name'] = df['Name'].str.strip().str.lower()\n",
    "df['City'] = df['City'].str.strip().str.lower()\n",
    "\n",
    "# Verify the changes\n",
    "print(\"Data after handling inconsistencies:\")\n",
    "print(df)\n",
    "\n",
    "# Check for unique values after cleaning\n",
    "print(\"\\nUnique values in 'Name' column after cleaning:\")\n",
    "print(df['Name'].unique())\n",
    "\n",
    "print(\"\\nUnique values in 'City' column after cleaning:\")\n",
    "print(df['City'].unique())\n",
    "\n",
    "\n"
   ]
  },
  {
   "cell_type": "code",
   "execution_count": 9,
   "metadata": {},
   "outputs": [
    {
     "name": "stdout",
     "output_type": "stream",
     "text": [
      "Data Quality Summary:\n",
      "Total number of records: 5\n",
      "Number of duplicate rows: 1\n",
      "Columns with missing values:\n",
      "Series([], dtype: int64)\n"
     ]
    }
   ],
   "source": [
    "# Task 8: Get Summary of Data Quality\n",
    "# Description: Generate a summary of data quality including total records, number of duplicate rows, and columns with missing values.\n",
    "\n",
    "\n",
    "import pandas as pd\n",
    "\n",
    "# Sample dataset (replace with your actual DataFrame)\n",
    "data = {\n",
    "    'Name': ['Alice', 'Bob', 'Charlie', 'Alice', 'Eva'],\n",
    "    'Age': [25, 30, 35, 25, 45],\n",
    "    'City': ['New York', 'Los Angeles', 'Chicago', 'New York', 'Phoenix']\n",
    "}\n",
    "\n",
    "# Convert the dictionary to a DataFrame\n",
    "df = pd.DataFrame(data)\n",
    "\n",
    "# Total number of records\n",
    "total_records = len(df)\n",
    "\n",
    "# Number of duplicate rows\n",
    "duplicate_rows = df.duplicated().sum()\n",
    "\n",
    "# Columns with missing values\n",
    "missing_values = df.isnull().sum()\n",
    "\n",
    "# Generating the summary\n",
    "print(\"Data Quality Summary:\")\n",
    "print(f\"Total number of records: {total_records}\")\n",
    "print(f\"Number of duplicate rows: {duplicate_rows}\")\n",
    "print(\"Columns with missing values:\")\n",
    "print(missing_values[missing_values > 0])\n"
   ]
  },
  {
   "cell_type": "code",
   "execution_count": null,
   "metadata": {},
   "outputs": [],
   "source": [
    "# Task 9: Generate a Data Quality Report\n",
    "# Description: Create a comprehensive data quality report that includes not only missing values but also basic statistics for numerical columns and the distribution of categorical columns.\n",
    "\n",
    "\n"
   ]
  },
  {
   "cell_type": "code",
   "execution_count": null,
   "metadata": {},
   "outputs": [],
   "source": [
    "# Task 10: Advanced Data Imputation\n",
    "# Description: Perform advanced data imputation by replacing missing values in numerical columns with the mean and categorical columns with the mode.\n",
    "\n",
    "\n",
    "\n"
   ]
  }
 ],
 "metadata": {
  "kernelspec": {
   "display_name": "Python 3",
   "language": "python",
   "name": "python3"
  },
  "language_info": {
   "codemirror_mode": {
    "name": "ipython",
    "version": 3
   },
   "file_extension": ".py",
   "mimetype": "text/x-python",
   "name": "python",
   "nbconvert_exporter": "python",
   "pygments_lexer": "ipython3",
   "version": "3.10.12"
  }
 },
 "nbformat": 4,
 "nbformat_minor": 2
}
