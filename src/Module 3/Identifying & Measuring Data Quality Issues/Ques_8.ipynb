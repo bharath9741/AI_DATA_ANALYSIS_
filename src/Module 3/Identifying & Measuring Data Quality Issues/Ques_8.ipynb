{
 "cells": [
  {
   "cell_type": "code",
   "execution_count": 2,
   "metadata": {},
   "outputs": [],
   "source": [
    "# Question: Detecting Data Drift\n",
    "# Description: Identify potential data drift between two time periods for a numeric attribute.\n",
    "import pandas as pd\n",
    "import numpy as np\n",
    "from scipy.stats import ks_2samp\n",
    "\n",
    "def detect_data_drift(data, column_name, time_col, time_period_1, time_period_2):\n",
    "    # Ensure the column exists in the dataset\n",
    "    if column_name not in data.columns or time_col not in data.columns:\n",
    "        raise ValueError(f\"Column '{column_name}' or '{time_col}' not found in the dataset.\")\n",
    "\n",
    "    # Filter data for both time periods\n",
    "    data['Time'] = pd.to_datetime(data[time_col])  # Convert time column to datetime\n",
    "    data_period_1 = data[data['Time'] >= time_period_1]\n",
    "    data_period_2 = data[data['Time'] <= time_period_2]\n",
    "\n",
    "    # Ensure the column is numeric\n",
    "    col_data_1 = pd.to_numeric(data_period_1[column_name], errors='coerce').dropna()\n",
    "    col_data_2 = pd.to_numeric(data_period_2[column_name], errors='coerce').dropna()\n",
    "\n",
    "    # Check if there are enough data points\n",
    "    if len(col_data_1) == 0 or len(col_data_2) == 0:\n",
    "        raise ValueError(\"One or both time periods have no valid data.\")\n",
    "\n",
    "    # Descriptive Statistics\n",
    "    desc_1 = col_data_1.describe()\n",
    "    desc_2 = col_data_2.describe()\n",
    "\n",
    "    print(f\"Descriptive statistics for {time_period_1} to {time_period_2}:\\n\")\n",
    "    print(f\"Period 1 ({time_period_1}):\\n\", desc_1)\n",
    "    print(f\"Period 2 ({time_period_2}):\\n\", desc_2)\n",
    "\n",
    "    # Perform Kolmogorov-Smirnov Test for data drift (distribution comparison)\n",
    "    ks_stat, ks_p_value = ks_2samp(col_data_1, col_data_2)\n",
    "\n",
    "    print(f\"\\nKS Statistic: {ks_stat}\")\n",
    "    print(f\"KS P-value: {ks_p_value}\")\n",
    "\n",
    "    if ks_p_value < 0.05:\n",
    "        print(f\"Potential data drift detected: p-value = {ks_p_value}\")\n",
    "    else:\n",
    "        print(f\"No significant data drift detected: p-value = {ks_p_value}\")\n"
   ]
  }
 ],
 "metadata": {
  "kernelspec": {
   "display_name": "Python 3",
   "language": "python",
   "name": "python3"
  },
  "language_info": {
   "codemirror_mode": {
    "name": "ipython",
    "version": 3
   },
   "file_extension": ".py",
   "mimetype": "text/x-python",
   "name": "python",
   "nbconvert_exporter": "python",
   "pygments_lexer": "ipython3",
   "version": "3.10.12"
  }
 },
 "nbformat": 4,
 "nbformat_minor": 2
}
