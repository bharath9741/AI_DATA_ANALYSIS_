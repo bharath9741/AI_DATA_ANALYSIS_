{
 "cells": [
  {
   "cell_type": "markdown",
   "metadata": {},
   "source": [
    "gfhfh"
   ]
  },
  {
   "cell_type": "code",
   "execution_count": 4,
   "metadata": {},
   "outputs": [
    {
     "name": "stdout",
     "output_type": "stream",
     "text": [
      "Complete Duplicates:\n",
      "   name             email department\n",
      "2  John  john@example.com      Sales\n"
     ]
    }
   ],
   "source": [
    "# Activity 2: Dealing with Duplicates & Redundancy\n",
    "\n",
    "# Task A: Identifying Duplicate Records\n",
    "\n",
    "# 7. Identify Complete Duplicates:\n",
    "# - Load a dataset and identify duplicated rows.\n",
    "# - Use Pandas to detect duplicates.\n",
    "\n",
    "\n",
    "\n",
    "\n",
    "\n",
    "\n",
    "# 8. Identify Duplicates based on Specific Columns:\n",
    "# - Check for duplicates in specified columns.\n",
    "\n",
    "\n",
    "\n",
    "\n",
    "\n",
    "\n",
    "\n",
    "# 9. Count Duplicate Rows:\n",
    "# - Calculate and print the number of duplicate rows.\n",
    "import pandas as pd\n",
    "\n",
    "# Sample DataFrame\n",
    "data = {'name': ['John', 'Jane', 'John', 'Alice'],\n",
    "        'email': ['john@example.com', 'jane@example.com', 'john@example.com', 'alice@example.com'],\n",
    "        'department': ['Sales', 'HR', 'Sales', 'IT']}\n",
    "\n",
    "df = pd.DataFrame(data)\n",
    "\n",
    "# Identify complete duplicates in the DataFrame\n",
    "duplicates = df[df.duplicated()]\n",
    "\n",
    "# Display the duplicated rows\n",
    "print(\"Complete Duplicates:\")\n",
    "print(duplicates)\n",
    "\n",
    "\n",
    "\n",
    "\n",
    "\n"
   ]
  },
  {
   "cell_type": "code",
   "execution_count": null,
   "metadata": {},
   "outputs": [],
   "source": [
    "# Task B: Deduplication Techniques\n",
    "\n",
    "# 10. Remove Complete Duplicates:\n",
    "# - Drop duplicate rows and keep only the first occurrence.\n",
    "\n",
    "\n",
    "\n",
    "\n",
    "\n",
    "\n",
    "# 11. Subset Deduplication:\n",
    "# - Remove duplicates based on a subset of columns.\n",
    "\n",
    "\n",
    "\n",
    "\n",
    "\n",
    "\n",
    "# 12. Keep Last Occurrence:\n",
    "# - Drop duplicates but keep the last occurrence in the dataset.\n",
    "\n",
    "\n",
    "\n",
    "\n",
    "\n"
   ]
  }
 ],
 "metadata": {
  "kernelspec": {
   "display_name": "Python 3",
   "language": "python",
   "name": "python3"
  },
  "language_info": {
   "codemirror_mode": {
    "name": "ipython",
    "version": 3
   },
   "file_extension": ".py",
   "mimetype": "text/x-python",
   "name": "python",
   "nbconvert_exporter": "python",
   "pygments_lexer": "ipython3",
   "version": "3.10.12"
  }
 },
 "nbformat": 4,
 "nbformat_minor": 2
}
