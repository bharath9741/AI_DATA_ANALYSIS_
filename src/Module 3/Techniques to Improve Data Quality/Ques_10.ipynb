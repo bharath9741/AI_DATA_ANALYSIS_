{
 "cells": [
  {
   "cell_type": "code",
   "execution_count": 1,
   "metadata": {},
   "outputs": [
    {
     "name": "stdout",
     "output_type": "stream",
     "text": [
      "            Name  Age         City\n",
      "0       John Doe   28     New York\n",
      "1     Jane Smith   34  Los Angeles\n",
      "3  Alice Johnson   45      Chicago\n"
     ]
    }
   ],
   "source": [
    "# Question: Advanced Deduplication Using Machine Learning\n",
    "# Description: Implement ML-based deduplication based on feature similarity.\n",
    "import pandas as pd\n",
    "from sklearn.cluster import KMeans\n",
    "from sklearn.preprocessing import StandardScaler\n",
    "from sklearn.metrics.pairwise import cosine_similarity\n",
    "import numpy as np\n",
    "\n",
    "# Sample dataset with some potential duplicates\n",
    "data = {\n",
    "    'Name': ['John Doe', 'Jane Smith', 'John Doe', 'Alice Johnson', 'Jane Smith'],\n",
    "    'Age': [28, 34, 28, 45, 34],\n",
    "    'City': ['New York', 'Los Angeles', 'New York', 'Chicago', 'Los Angeles']\n",
    "}\n",
    "\n",
    "# Create a DataFrame\n",
    "df = pd.DataFrame(data)\n",
    "\n",
    "# Step 1: Feature Engineering\n",
    "# Convert categorical features (like 'City') to numerical format using one-hot encoding\n",
    "df_encoded = pd.get_dummies(df, columns=['City'])\n",
    "\n",
    "# Step 2: Normalize the data to avoid scale-based bias\n",
    "scaler = StandardScaler()\n",
    "df_scaled = scaler.fit_transform(df_encoded.drop('Name', axis=1))  # Dropping 'Name' column for clustering\n",
    "\n",
    "# Step 3: Apply KMeans Clustering to group similar rows\n",
    "kmeans = KMeans(n_clusters=3, random_state=42)  # Let's assume there are 3 clusters (groups of duplicates)\n",
    "df['Cluster'] = kmeans.fit_predict(df_scaled)\n",
    "\n",
    "# Step 4: Identify duplicates based on clusters\n",
    "# For each cluster, keep the first occurrence and remove the rest\n",
    "duplicates_removed = df.drop_duplicates(subset='Cluster', keep='first')\n",
    "\n",
    "# Display the deduplicated DataFrame\n",
    "print(duplicates_removed[['Name', 'Age', 'City']])\n",
    "\n",
    "\n"
   ]
  }
 ],
 "metadata": {
  "kernelspec": {
   "display_name": "Python 3",
   "language": "python",
   "name": "python3"
  },
  "language_info": {
   "codemirror_mode": {
    "name": "ipython",
    "version": 3
   },
   "file_extension": ".py",
   "mimetype": "text/x-python",
   "name": "python",
   "nbconvert_exporter": "python",
   "pygments_lexer": "ipython3",
   "version": "3.10.12"
  }
 },
 "nbformat": 4,
 "nbformat_minor": 2
}
