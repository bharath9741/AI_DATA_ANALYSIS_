{
 "cells": [
  {
   "cell_type": "code",
   "execution_count": 1,
   "metadata": {},
   "outputs": [
    {
     "ename": "ModuleNotFoundError",
     "evalue": "No module named 'great_expectations'",
     "output_type": "error",
     "traceback": [
      "\u001b[0;31m---------------------------------------------------------------------------\u001b[0m",
      "\u001b[0;31mModuleNotFoundError\u001b[0m                       Traceback (most recent call last)",
      "Cell \u001b[0;32mIn[1], line 4\u001b[0m\n\u001b[1;32m      1\u001b[0m \u001b[38;5;66;03m# Question: Data Quality Automation Tools - Introduction to Great Expectations\u001b[39;00m\n\u001b[1;32m      2\u001b[0m \u001b[38;5;66;03m# Description: Set up a simple Great Expectations check for missing values in a numeric column.\u001b[39;00m\n\u001b[0;32m----> 4\u001b[0m \u001b[38;5;28;01mimport\u001b[39;00m\u001b[38;5;250m \u001b[39m\u001b[38;5;21;01mgreat_expectations\u001b[39;00m\u001b[38;5;250m \u001b[39m\u001b[38;5;28;01mas\u001b[39;00m\u001b[38;5;250m \u001b[39m\u001b[38;5;21;01mge\u001b[39;00m\n\u001b[1;32m      5\u001b[0m \u001b[38;5;28;01mfrom\u001b[39;00m\u001b[38;5;250m \u001b[39m\u001b[38;5;21;01mgreat_expectations\u001b[39;00m\u001b[38;5;21;01m.\u001b[39;00m\u001b[38;5;21;01mdataset\u001b[39;00m\u001b[38;5;250m \u001b[39m\u001b[38;5;28;01mimport\u001b[39;00m PandasDataset\n\u001b[1;32m      6\u001b[0m \u001b[38;5;28;01mimport\u001b[39;00m\u001b[38;5;250m \u001b[39m\u001b[38;5;21;01mpandas\u001b[39;00m\u001b[38;5;250m \u001b[39m\u001b[38;5;28;01mas\u001b[39;00m\u001b[38;5;250m \u001b[39m\u001b[38;5;21;01mpd\u001b[39;00m\n",
      "\u001b[0;31mModuleNotFoundError\u001b[0m: No module named 'great_expectations'"
     ]
    }
   ],
   "source": [
    "# Question: Data Quality Automation Tools - Introduction to Great Expectations\n",
    "# Description: Set up a simple Great Expectations check for missing values in a numeric column.\n",
    "\n",
    "import great_expectations as ge\n",
    "from great_expectations.dataset import PandasDataset\n",
    "import pandas as pd\n",
    "\n",
    "# Sample DataFrame\n",
    "data = {\n",
    "    'numeric_column': [1, 2, None, 4, 5, None, 7]\n",
    "}\n",
    "df = pd.DataFrame(data)\n",
    "\n",
    "# Create a Great Expectations dataset\n",
    "ge_df = ge.from_pandas(df)\n",
    "\n",
    "# Expectation to check for missing values in 'numeric_column'\n",
    "ge_df.expect_column_values_to_be_in_set('numeric_column', [None])\n",
    "\n",
    "# Alternatively, you can use the `expect_column_pair_cruge_relation` for more advanced use cases.\n",
    "\n",
    "# Create a new Expectation Suite if it doesn't exist already\n",
    "context = ge.data_context.DataContext(\"/path/to/great_expectations/directory\")\n",
    "suite = context.create_expectation_suite(\"missing_values_suite\", overwrite_existing=True)\n",
    "\n",
    "# Add the expectation to the suite\n",
    "ge_df.expect_column_values_to_be_in_set('numeric_column', [None])\n",
    "\n",
    "# Check the results\n",
    "results = ge_df.validate()\n",
    "\n",
    "# Print the results\n",
    "print(results)\n"
   ]
  }
 ],
 "metadata": {
  "kernelspec": {
   "display_name": "Python 3",
   "language": "python",
   "name": "python3"
  },
  "language_info": {
   "codemirror_mode": {
    "name": "ipython",
    "version": 3
   },
   "file_extension": ".py",
   "mimetype": "text/x-python",
   "name": "python",
   "nbconvert_exporter": "python",
   "pygments_lexer": "ipython3",
   "version": "3.10.12"
  }
 },
 "nbformat": 4,
 "nbformat_minor": 2
}
