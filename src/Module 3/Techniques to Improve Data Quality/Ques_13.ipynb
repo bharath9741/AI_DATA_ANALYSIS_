{
 "cells": [
  {
   "cell_type": "code",
   "execution_count": 1,
   "metadata": {},
   "outputs": [
    {
     "name": "stdout",
     "output_type": "stream",
     "text": [
      "Standardized Dates:\n",
      "    name         dob\n",
      "0   John  2021-12-25\n",
      "1   Jane         NaN\n",
      "2  Alice         NaN\n"
     ]
    }
   ],
   "source": [
    "# Activity 3: Data Standardization & Validation\n",
    "\n",
    "# Task A: Enforcing Data Formats & Constraints\n",
    "\n",
    "# 13. Date Format Standardization:\n",
    "# - Convert all date entries into a uniform format (e.g., YYYY-MM-DD).\n",
    "\n",
    "\n",
    "\n",
    "\n",
    "\n",
    "# 14. Numeric Constraints Enforcement:\n",
    "# - Check and enforce numeric constraints (e.g., age > 0).\n",
    "\n",
    "\n",
    "\n",
    "\n",
    "\n",
    "\n",
    "# 15. String Format Checks:\n",
    "# - Ensure text fields meet certain constraints (e.g., valid email format).\n",
    "import pandas as pd\n",
    "from datetime import datetime\n",
    "\n",
    "# Sample data with different date formats\n",
    "data = {'name': ['John', 'Jane', 'Alice'],\n",
    "        'dob': ['2021/12/25', '15-Mar-2022', '2020-05-30']}\n",
    "\n",
    "df = pd.DataFrame(data)\n",
    "\n",
    "# Convert all dates to the 'YYYY-MM-DD' format\n",
    "df['dob'] = pd.to_datetime(df['dob'], errors='coerce').dt.strftime('%Y-%m-%d')\n",
    "\n",
    "# Display the standardized DataFrame\n",
    "print(\"Standardized Dates:\")\n",
    "print(df)\n"
   ]
  },
  {
   "cell_type": "code",
   "execution_count": null,
   "metadata": {},
   "outputs": [],
   "source": [
    "# Task B: Addressing Inconsistent Representations\n",
    "\n",
    "# 16. Standardizing Date Formats:\n",
    "# - Identify and correct inconsistent date formats within the dataset.\n",
    "\n",
    "\n",
    "\n",
    "\n",
    "\n",
    "\n",
    "\n",
    "\n",
    "# 17. Pattern Matching for Consistency:\n",
    "# - Standardize phone numbers to a specific pattern (e.g., (123) 456-7890).\n",
    "\n",
    "\n",
    "\n",
    "\n",
    "\n",
    "# 18. Handling Mixed Case Text:\n",
    "# - Convert all text entries to a consistent case (e.g., all uppercase).\n",
    "\n",
    "\n",
    "\n",
    "\n",
    "\n",
    "\n",
    "\n",
    "\n",
    "\n"
   ]
  }
 ],
 "metadata": {
  "kernelspec": {
   "display_name": "Python 3",
   "language": "python",
   "name": "python3"
  },
  "language_info": {
   "codemirror_mode": {
    "name": "ipython",
    "version": 3
   },
   "file_extension": ".py",
   "mimetype": "text/x-python",
   "name": "python",
   "nbconvert_exporter": "python",
   "pygments_lexer": "ipython3",
   "version": "3.10.12"
  }
 },
 "nbformat": 4,
 "nbformat_minor": 2
}
