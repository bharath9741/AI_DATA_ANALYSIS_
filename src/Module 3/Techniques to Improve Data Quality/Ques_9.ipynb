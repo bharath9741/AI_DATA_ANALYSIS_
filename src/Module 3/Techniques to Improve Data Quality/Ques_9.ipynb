{
 "cells": [
  {
   "cell_type": "code",
   "execution_count": 1,
   "metadata": {},
   "outputs": [
    {
     "name": "stdout",
     "output_type": "stream",
     "text": [
      "      A   B  C\n",
      "0  1.00  10  5\n",
      "1  2.00  20  4\n",
      "2  3.23  30  3\n",
      "3  4.00  40  2\n",
      "4  5.00  50  1\n",
      "5  5.80  60  0\n",
      "6  7.00  70 -1\n"
     ]
    }
   ],
   "source": [
    "# Question: Predictive Imputation Using Machine Learning\n",
    "# Description: Use a simple predictive model to impute missing values in a column.\n",
    "\n",
    "import pandas as pd\n",
    "from sklearn.ensemble import RandomForestRegressor\n",
    "from sklearn.model_selection import train_test_split\n",
    "\n",
    "# Sample data\n",
    "data = {\n",
    "    'A': [1, 2, None, 4, 5, None, 7],\n",
    "    'B': [10, 20, 30, 40, 50, 60, 70],\n",
    "    'C': [5, 4, 3, 2, 1, 0, -1]\n",
    "}\n",
    "\n",
    "# Create a DataFrame\n",
    "df = pd.DataFrame(data)\n",
    "\n",
    "# Step 1: Identify rows where column 'A' has missing values\n",
    "missing_values = df[df['A'].isnull()]\n",
    "\n",
    "# Step 2: Prepare data for the predictive model\n",
    "# We will use columns 'B' and 'C' to predict the missing values in 'A'\n",
    "\n",
    "# Remove rows with missing values for training the model\n",
    "train_data = df.dropna(subset=['A'])\n",
    "\n",
    "# Define the feature columns and target column\n",
    "X_train = train_data[['B', 'C']]  # Features\n",
    "y_train = train_data['A']         # Target (column with missing values)\n",
    "\n",
    "# Step 3: Train a Random Forest Regressor\n",
    "model = RandomForestRegressor()\n",
    "model.fit(X_train, y_train)\n",
    "\n",
    "# Step 4: Use the model to predict missing values\n",
    "X_missing = missing_values[['B', 'C']]\n",
    "predicted_values = model.predict(X_missing)\n",
    "\n",
    "# Step 5: Replace missing values with the predicted values\n",
    "df.loc[df['A'].isnull(), 'A'] = predicted_values\n",
    "\n",
    "print(df)\n"
   ]
  }
 ],
 "metadata": {
  "kernelspec": {
   "display_name": "Python 3",
   "language": "python",
   "name": "python3"
  },
  "language_info": {
   "codemirror_mode": {
    "name": "ipython",
    "version": 3
   },
   "file_extension": ".py",
   "mimetype": "text/x-python",
   "name": "python",
   "nbconvert_exporter": "python",
   "pygments_lexer": "ipython3",
   "version": "3.10.12"
  }
 },
 "nbformat": 4,
 "nbformat_minor": 2
}
