{
 "cells": [
  {
   "cell_type": "markdown",
   "metadata": {},
   "source": [
    "**Task 1**: Checking Null Values for Completeness\n",
    "\n",
    "**Description**: Verify if there are any null values in a dataset, which indicate incomplete data."
   ]
  },
  {
   "cell_type": "code",
   "execution_count": 1,
   "metadata": {},
   "outputs": [],
   "source": [
    "# Write your code from here\n",
    "import pandas as pd\n",
    "\n",
    "def check_nulls_for_completeness(df):\n",
    "    null_counts = df.isnull().sum()\n",
    "    total_missing = null_counts.sum()\n",
    "    if total_missing == 0:\n",
    "        return \"The dataset is complete. No null values found.\"\n",
    "    else:\n",
    "        return f\"Incomplete dataset. Total missing values: {total_missing}\\nMissing values by column:\\n{null_counts[null_counts > 0]}\"\n"
   ]
  },
  {
   "cell_type": "markdown",
   "metadata": {},
   "source": [
    "**Task 2**: Checking Data Type Validity\n",
    "\n",
    "**Description**: Ensure that columns contain data of expected types, e.g., ages are integers."
   ]
  },
  {
   "cell_type": "code",
   "execution_count": 2,
   "metadata": {},
   "outputs": [],
   "source": [
    "# Write your code from here\n",
    "import pandas as pd\n",
    "\n",
    "def check_data_type_validity(df, expected_types):\n",
    "    \"\"\"\n",
    "    Checks if each column in the DataFrame has the expected data type.\n",
    "    \n",
    "    Parameters:\n",
    "    - df: pandas DataFrame\n",
    "    - expected_types: dict where keys are column names and values are expected types (e.g., int, float, str)\n",
    "    \n",
    "    Returns:\n",
    "    - A report indicating whether each column has valid data types.\n",
    "    \"\"\"\n",
    "    report = {}\n",
    "    for column, expected_type in expected_types.items():\n",
    "        if column in df.columns:\n",
    "            invalid_rows = ~df[column].apply(lambda x: isinstance(x, expected_type) or pd.isnull(x))\n",
    "            invalid_count = invalid_rows.sum()\n",
    "            if invalid_count > 0:\n",
    "                report[column] = f\"Invalid type count: {invalid_count}\"\n",
    "            else:\n",
    "                report[column] = \"All types valid\"\n",
    "        else:\n",
    "            report[column] = \"Column not found\"\n",
    "    return report\n"
   ]
  },
  {
   "cell_type": "markdown",
   "metadata": {},
   "source": [
    "**Task 3**: Verify Uniqueness of Identifiers\n",
    "\n",
    "**Description**: Check if a dataset has unique identifiers (e.g., emails)."
   ]
  },
  {
   "cell_type": "code",
   "execution_count": 4,
   "metadata": {},
   "outputs": [],
   "source": [
    "# Write your code from here\n",
    "import pandas as pd\n",
    "\n",
    "def check_unique_identifiers(df, column_name):\n",
    "    \"\"\"\n",
    "    Checks if the values in the specified column are unique.\n",
    "\n",
    "    Parameters:\n",
    "    - df: pandas DataFrame\n",
    "    - column_name: name of the column to check for uniqueness\n",
    "\n",
    "    Returns:\n",
    "    - A tuple (is_unique, duplicate_count, duplicate_values)\n",
    "    \"\"\"\n",
    "    if column_name not in df.columns:\n",
    "        return (False, 0, f\"Column '{column_name}' not found in DataFrame.\")\n",
    "\n",
    "    duplicated = df[column_name].duplicated(keep=False)\n",
    "    duplicate_count = duplicated.sum()\n",
    "\n",
    "    if duplicate_count == 0:\n",
    "        return (True, 0, None)\n",
    "    else:\n",
    "        duplicate_values = df.loc[duplicated, column_name].unique().tolist()\n",
    "        return (False, duplicate_count, duplicate_values)\n"
   ]
  },
  {
   "cell_type": "markdown",
   "metadata": {},
   "source": [
    "Task 4: Validate Email Format Using Regex\n",
    "\n",
    "Description: Validate if email addresses in a dataset have the correct format."
   ]
  },
  {
   "cell_type": "code",
   "execution_count": 5,
   "metadata": {},
   "outputs": [],
   "source": [
    "# Write your code from here\n",
    "import pandas as pd\n",
    "import re\n",
    "\n",
    "def validate_email_format(df, column_name):\n",
    "    \"\"\"\n",
    "    Validates email format in the specified column using regex.\n",
    "\n",
    "    Parameters:\n",
    "    - df: pandas DataFrame\n",
    "    - column_name: name of the column with email addresses\n",
    "\n",
    "    Returns:\n",
    "    - A DataFrame with invalid email addresses\n",
    "    \"\"\"\n",
    "    if column_name not in df.columns:\n",
    "        raise ValueError(f\"Column '{column_name}' not found in the DataFrame.\")\n",
    "    \n",
    "    # Simple email regex pattern (can be adjusted for stricter validation)\n",
    "    email_pattern = re.compile(r'^[\\w\\.-]+@[\\w\\.-]+\\.\\w{2,}$')\n",
    "\n",
    "    # Check if each email matches the pattern\n",
    "    invalid_emails = df[~df[column_name].astype(str).str.match(email_pattern)]\n",
    "\n",
    "    return invalid_emails\n"
   ]
  },
  {
   "cell_type": "markdown",
   "metadata": {},
   "source": [
    "Task 5: Check for Logical Age Validity\n",
    "\n",
    "Description: Ensure ages are within a reasonable human range (e.g., 0-120)."
   ]
  },
  {
   "cell_type": "code",
   "execution_count": null,
   "metadata": {},
   "outputs": [],
   "source": [
    "# Write your code from here"
   ]
  },
  {
   "cell_type": "markdown",
   "metadata": {},
   "source": [
    "Task 6: Identify and Handle Missing Data\n",
    "\n",
    "Description: Identify missing values in a dataset and impute them using a simple strategy (e.g., mean)."
   ]
  },
  {
   "cell_type": "code",
   "execution_count": null,
   "metadata": {},
   "outputs": [],
   "source": [
    "# Write your code from here"
   ]
  },
  {
   "cell_type": "markdown",
   "metadata": {},
   "source": [
    "Task 7: Detect Duplicates\n",
    "\n",
    "Description: Detect duplicate rows in the dataset."
   ]
  },
  {
   "cell_type": "code",
   "execution_count": null,
   "metadata": {},
   "outputs": [],
   "source": [
    "# Write your code from here"
   ]
  },
  {
   "cell_type": "markdown",
   "metadata": {},
   "source": [
    "Task 8: Validate Correctness of Numerical Values\n",
    "\n",
    "Description: Ensure numerical columns are within a specified range."
   ]
  },
  {
   "cell_type": "code",
   "execution_count": null,
   "metadata": {},
   "outputs": [],
   "source": [
    "# Write your code from here"
   ]
  },
  {
   "cell_type": "markdown",
   "metadata": {},
   "source": [
    "Task 9: Custom Completeness Rule Violation Report\n",
    "\n",
    "Description: Create a report showing which rows violate specific completeness rules, such as mandatory fields being empty."
   ]
  },
  {
   "cell_type": "code",
   "execution_count": null,
   "metadata": {},
   "outputs": [],
   "source": [
    "# Write your code from here"
   ]
  },
  {
   "cell_type": "markdown",
   "metadata": {},
   "source": [
    "Task 10: Advanced Regex for Data Validity Check\n",
    "\n",
    "Description: Check for validity with advanced regex patterns, such as validating complex fields with multi-level rules."
   ]
  },
  {
   "cell_type": "code",
   "execution_count": null,
   "metadata": {},
   "outputs": [],
   "source": [
    "# Write your code from here"
   ]
  }
 ],
 "metadata": {
  "kernelspec": {
   "display_name": "Python 3",
   "language": "python",
   "name": "python3"
  },
  "language_info": {
   "codemirror_mode": {
    "name": "ipython",
    "version": 3
   },
   "file_extension": ".py",
   "mimetype": "text/x-python",
   "name": "python",
   "nbconvert_exporter": "python",
   "pygments_lexer": "ipython3",
   "version": "3.10.12"
  }
 },
 "nbformat": 4,
 "nbformat_minor": 2
}
