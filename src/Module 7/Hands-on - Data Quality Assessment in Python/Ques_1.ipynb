{
 "cells": [
  {
   "cell_type": "markdown",
   "metadata": {},
   "source": [
    "**Task 1**: Checking Null Values for Completeness\n",
    "\n",
    "**Description**: Verify if there are any null values in a dataset, which indicate incomplete data."
   ]
  },
  {
   "cell_type": "code",
   "execution_count": 1,
   "metadata": {},
   "outputs": [
    {
     "name": "stdout",
     "output_type": "stream",
     "text": [
      "Any null values? True\n",
      "Null counts per column:\n",
      " Name    1\n",
      "Age     1\n",
      "City    0\n",
      "dtype: int64\n"
     ]
    }
   ],
   "source": [
    "import pandas as pd\n",
    "\n",
    "def check_null_values(df):\n",
    "    \"\"\"\n",
    "    Check if there are any null values in the DataFrame.\n",
    "\n",
    "    Args:\n",
    "    - df (pd.DataFrame): Input dataset.\n",
    "\n",
    "    Returns:\n",
    "    - bool: True if any null values exist, False otherwise.\n",
    "    - pd.Series: Count of null values per column.\n",
    "    \"\"\"\n",
    "    null_exists = df.isnull().values.any()\n",
    "    null_counts = df.isnull().sum()\n",
    "    return null_exists, null_counts\n",
    "\n",
    "# Example usage:\n",
    "data = {\n",
    "    'Name': ['Alice', 'Bob', None],\n",
    "    'Age': [25, None, 30],\n",
    "    'City': ['New York', 'Los Angeles', 'Chicago']\n",
    "}\n",
    "df = pd.DataFrame(data)\n",
    "\n",
    "has_null, null_counts = check_null_values(df)\n",
    "print(\"Any null values?\", has_null)\n",
    "print(\"Null counts per column:\\n\", null_counts)\n"
   ]
  },
  {
   "cell_type": "markdown",
   "metadata": {},
   "source": [
    "**Task 2**: Checking Data Type Validity\n",
    "\n",
    "**Description**: Ensure that columns contain data of expected types, e.g., ages are integers."
   ]
  },
  {
   "cell_type": "code",
   "execution_count": 2,
   "metadata": {},
   "outputs": [
    {
     "name": "stdout",
     "output_type": "stream",
     "text": [
      "{'Name': np.True_, 'Age': np.False_, 'Salary': np.True_}\n"
     ]
    }
   ],
   "source": [
    "import pandas as pd\n",
    "\n",
    "def check_column_types(df, expected_types):\n",
    "    \"\"\"\n",
    "    Checks if columns contain data of the expected types.\n",
    "\n",
    "    Args:\n",
    "    - df (pd.DataFrame): Input dataset.\n",
    "    - expected_types (dict): Dictionary mapping column names to expected Python types\n",
    "      e.g., {'Age': int, 'Name': str}\n",
    "\n",
    "    Returns:\n",
    "    - dict: Keys are column names, values are booleans indicating if column matches expected type.\n",
    "    \"\"\"\n",
    "    results = {}\n",
    "    for col, expected_type in expected_types.items():\n",
    "        # Check if column exists\n",
    "        if col not in df.columns:\n",
    "            results[col] = False\n",
    "            continue\n",
    "        \n",
    "        # Check types for each value in the column (ignoring nulls)\n",
    "        col_types_valid = df[col].dropna().apply(lambda x: isinstance(x, expected_type)).all()\n",
    "        results[col] = col_types_valid\n",
    "    return results\n",
    "\n",
    "# Example usage:\n",
    "data = {\n",
    "    'Name': ['Alice', 'Bob', 'Charlie'],\n",
    "    'Age': [25, 30, 'thirty-five'],  # 'thirty-five' is invalid\n",
    "    'Salary': [50000.0, 60000.0, 55000.0]\n",
    "}\n",
    "df = pd.DataFrame(data)\n",
    "\n",
    "expected = {'Name': str, 'Age': int, 'Salary': float}\n",
    "print(check_column_types(df, expected))\n",
    "# Output might be: {'Name': True, 'Age': False, 'Salary': True}\n"
   ]
  },
  {
   "cell_type": "markdown",
   "metadata": {},
   "source": [
    "**Task 3**: Verify Uniqueness of Identifiers\n",
    "\n",
    "**Description**: Check if a dataset has unique identifiers (e.g., emails)."
   ]
  },
  {
   "cell_type": "code",
   "execution_count": 3,
   "metadata": {},
   "outputs": [
    {
     "name": "stdout",
     "output_type": "stream",
     "text": [
      "All unique? False\n",
      "Duplicates:\n",
      " 0    alice@example.com\n",
      "2    alice@example.com\n",
      "Name: email, dtype: object\n"
     ]
    }
   ],
   "source": [
    "import pandas as pd\n",
    "\n",
    "def check_unique_identifiers(df, column):\n",
    "    \"\"\"\n",
    "    Checks if the specified column contains unique identifiers.\n",
    "\n",
    "    Args:\n",
    "    - df (pd.DataFrame): Input dataset.\n",
    "    - column (str): Column name to check for uniqueness.\n",
    "\n",
    "    Returns:\n",
    "    - bool: True if all values in the column are unique, False otherwise.\n",
    "    - pd.Series: Counts of duplicate entries if any (empty if none).\n",
    "    \"\"\"\n",
    "    if column not in df.columns:\n",
    "        raise ValueError(f\"Column '{column}' not found in DataFrame\")\n",
    "    \n",
    "    duplicates = df[column][df[column].duplicated(keep=False)]\n",
    "    all_unique = duplicates.empty\n",
    "    \n",
    "    return all_unique, duplicates\n",
    "\n",
    "# Example usage:\n",
    "data = {\n",
    "    'email': ['alice@example.com', 'bob@example.com', 'alice@example.com', 'charlie@example.com'],\n",
    "    'name': ['Alice', 'Bob', 'Alice', 'Charlie']\n",
    "}\n",
    "df = pd.DataFrame(data)\n",
    "\n",
    "unique, duplicate_entries = check_unique_identifiers(df, 'email')\n",
    "print(\"All unique?\", unique)\n",
    "print(\"Duplicates:\\n\", duplicate_entries)\n"
   ]
  },
  {
   "cell_type": "markdown",
   "metadata": {},
   "source": [
    "Task 4: Validate Email Format Using Regex\n",
    "\n",
    "Description: Validate if email addresses in a dataset have the correct format."
   ]
  },
  {
   "cell_type": "code",
   "execution_count": 4,
   "metadata": {},
   "outputs": [
    {
     "name": "stdout",
     "output_type": "stream",
     "text": [
      "[True, False, True, False, False]\n",
      "                    email  email_valid\n",
      "0  test.email@example.com         True\n",
      "1           invalid-email        False\n",
      "2    user123@domain.co.uk         True\n",
      "3             user@domain        False\n",
      "4    @missingusername.com        False\n"
     ]
    }
   ],
   "source": [
    "import re\n",
    "import pandas as pd\n",
    "\n",
    "def validate_email_format(emails):\n",
    "    \"\"\"\n",
    "    Validate email addresses using a regex pattern.\n",
    "\n",
    "    Args:\n",
    "    - emails (list or pd.Series): List or Series of email strings.\n",
    "\n",
    "    Returns:\n",
    "    - list of bool: True for valid emails, False for invalid.\n",
    "    \"\"\"\n",
    "    pattern = re.compile(r'^[\\w\\.-]+@[\\w\\.-]+\\.\\w+$')\n",
    "    return [bool(pattern.match(email)) for email in emails]\n",
    "\n",
    "# Example usage with list:\n",
    "email_list = [\n",
    "    'test.email@example.com',\n",
    "    'invalid-email',\n",
    "    'user123@domain.co.uk',\n",
    "    'user@domain',\n",
    "    '@missingusername.com'\n",
    "]\n",
    "\n",
    "print(validate_email_format(email_list))\n",
    "# Output: [True, False, True, False, False]\n",
    "\n",
    "# Example usage with DataFrame:\n",
    "data = {'email': email_list}\n",
    "df = pd.DataFrame(data)\n",
    "df['email_valid'] = validate_email_format(df['email'])\n",
    "print(df)\n"
   ]
  },
  {
   "cell_type": "markdown",
   "metadata": {},
   "source": [
    "Task 5: Check for Logical Age Validity\n",
    "\n",
    "Description: Ensure ages are within a reasonable human range (e.g., 0-120)."
   ]
  },
  {
   "cell_type": "code",
   "execution_count": 5,
   "metadata": {},
   "outputs": [
    {
     "name": "stdout",
     "output_type": "stream",
     "text": [
      "[True, False, False, True, True, True, False]\n",
      "      Age  valid_age\n",
      "0      25       True\n",
      "1     130      False\n",
      "2      -5      False\n",
      "3       0       True\n",
      "4      45       True\n",
      "5     120       True\n",
      "6  thirty      False\n"
     ]
    }
   ],
   "source": [
    "import pandas as pd\n",
    "\n",
    "def check_logical_age_validity(ages, min_age=0, max_age=120):\n",
    "    \"\"\"\n",
    "    Checks if ages are integers within a specified range.\n",
    "\n",
    "    Args:\n",
    "    - ages (list, pd.Series): List or Series of age values.\n",
    "    - min_age (int): Minimum valid age (inclusive).\n",
    "    - max_age (int): Maximum valid age (inclusive).\n",
    "\n",
    "    Returns:\n",
    "    - list of bool: True if age is valid, False otherwise.\n",
    "    \"\"\"\n",
    "    results = []\n",
    "    for age in ages:\n",
    "        if isinstance(age, int) and min_age <= age <= max_age:\n",
    "            results.append(True)\n",
    "        else:\n",
    "            results.append(False)\n",
    "    return results\n",
    "\n",
    "# Example usage:\n",
    "age_list = [25, 130, -5, 0, 45, 120, 'thirty']\n",
    "print(check_logical_age_validity(age_list))\n",
    "# Output: [True, False, False, True, True, True, False]\n",
    "\n",
    "# With Pandas DataFrame:\n",
    "data = {'Age': age_list}\n",
    "df = pd.DataFrame(data)\n",
    "df['valid_age'] = check_logical_age_validity(df['Age'])\n",
    "print(df)\n"
   ]
  },
  {
   "cell_type": "markdown",
   "metadata": {},
   "source": [
    "Task 6: Identify and Handle Missing Data\n",
    "\n",
    "Description: Identify missing values in a dataset and impute them using a simple strategy (e.g., mean)."
   ]
  },
  {
   "cell_type": "code",
   "execution_count": 6,
   "metadata": {},
   "outputs": [
    {
     "name": "stdout",
     "output_type": "stream",
     "text": [
      "Original DataFrame:\n",
      "    Age   Salary     Name\n",
      "0  25.0  50000.0    Alice\n",
      "1   NaN  60000.0      Bob\n",
      "2  30.0      NaN  Charlie\n",
      "3  22.0  55000.0    David\n",
      "4   NaN  58000.0     None\n",
      "\n",
      "DataFrame after imputing missing numeric values with mean:\n",
      "         Age   Salary     Name\n",
      "0  25.000000  50000.0    Alice\n",
      "1  25.666667  60000.0      Bob\n",
      "2  30.000000  55750.0  Charlie\n",
      "3  22.000000  55000.0    David\n",
      "4  25.666667  58000.0     None\n"
     ]
    },
    {
     "name": "stderr",
     "output_type": "stream",
     "text": [
      "/tmp/ipykernel_3422/4025834070.py:16: FutureWarning: A value is trying to be set on a copy of a DataFrame or Series through chained assignment using an inplace method.\n",
      "The behavior will change in pandas 3.0. This inplace method will never work because the intermediate object on which we are setting values always behaves as a copy.\n",
      "\n",
      "For example, when doing 'df[col].method(value, inplace=True)', try using 'df.method({col: value}, inplace=True)' or df[col] = df[col].method(value) instead, to perform the operation inplace on the original object.\n",
      "\n",
      "\n",
      "  df_imputed[col].fillna(mean_value, inplace=True)\n"
     ]
    }
   ],
   "source": [
    "import pandas as pd\n",
    "\n",
    "def impute_missing_with_mean(df):\n",
    "    \"\"\"\n",
    "    Identify missing values and fill them with the column mean for numeric columns.\n",
    "\n",
    "    Args:\n",
    "    - df (pd.DataFrame): Input dataset.\n",
    "\n",
    "    Returns:\n",
    "    - pd.DataFrame: Copy of dataset with missing numeric values imputed by mean.\n",
    "    \"\"\"\n",
    "    df_imputed = df.copy()\n",
    "    for col in df_imputed.select_dtypes(include=['number']).columns:\n",
    "        mean_value = df_imputed[col].mean()\n",
    "        df_imputed[col].fillna(mean_value, inplace=True)\n",
    "    return df_imputed\n",
    "\n",
    "# Example usage:\n",
    "data = {\n",
    "    'Age': [25, None, 30, 22, None],\n",
    "    'Salary': [50000, 60000, None, 55000, 58000],\n",
    "    'Name': ['Alice', 'Bob', 'Charlie', 'David', None]\n",
    "}\n",
    "df = pd.DataFrame(data)\n",
    "\n",
    "print(\"Original DataFrame:\")\n",
    "print(df)\n",
    "\n",
    "df_filled = impute_missing_with_mean(df)\n",
    "\n",
    "print(\"\\nDataFrame after imputing missing numeric values with mean:\")\n",
    "print(df_filled)\n"
   ]
  },
  {
   "cell_type": "markdown",
   "metadata": {},
   "source": [
    "Task 7: Detect Duplicates\n",
    "\n",
    "Description: Detect duplicate rows in the dataset."
   ]
  },
  {
   "cell_type": "code",
   "execution_count": 7,
   "metadata": {},
   "outputs": [
    {
     "name": "stdout",
     "output_type": "stream",
     "text": [
      "Duplicate rows:\n",
      "    Name  Age City\n",
      "0  Alice   25   NY\n",
      "1    Bob   30   LA\n",
      "2  Alice   25   NY\n",
      "4    Bob   30   LA\n"
     ]
    }
   ],
   "source": [
    "import pandas as pd\n",
    "\n",
    "def detect_duplicates(df):\n",
    "    \"\"\"\n",
    "    Detect duplicate rows in the DataFrame.\n",
    "\n",
    "    Args:\n",
    "    - df (pd.DataFrame): Input dataset.\n",
    "\n",
    "    Returns:\n",
    "    - pd.DataFrame: DataFrame containing only duplicate rows (including first occurrences).\n",
    "    \"\"\"\n",
    "    duplicates = df[df.duplicated(keep=False)]\n",
    "    return duplicates\n",
    "\n",
    "# Example usage:\n",
    "data = {\n",
    "    'Name': ['Alice', 'Bob', 'Alice', 'Charlie', 'Bob'],\n",
    "    'Age': [25, 30, 25, 35, 30],\n",
    "    'City': ['NY', 'LA', 'NY', 'Chicago', 'LA']\n",
    "}\n",
    "df = pd.DataFrame(data)\n",
    "\n",
    "duplicate_rows = detect_duplicates(df)\n",
    "print(\"Duplicate rows:\")\n",
    "print(duplicate_rows)\n"
   ]
  },
  {
   "cell_type": "markdown",
   "metadata": {},
   "source": [
    "Task 8: Validate Correctness of Numerical Values\n",
    "\n",
    "Description: Ensure numerical columns are within a specified range."
   ]
  },
  {
   "cell_type": "code",
   "execution_count": 8,
   "metadata": {},
   "outputs": [
    {
     "name": "stdout",
     "output_type": "stream",
     "text": [
      "{'Age': [True, False, True, False, True], 'Salary': [True, True, False, True, True]}\n"
     ]
    }
   ],
   "source": [
    "import pandas as pd\n",
    "\n",
    "def validate_numerical_ranges(df, column_ranges):\n",
    "    \"\"\"\n",
    "    Validates if numerical columns fall within the specified ranges.\n",
    "\n",
    "    Args:\n",
    "    - df (pd.DataFrame): Input dataset.\n",
    "    - column_ranges (dict): Dictionary with column names as keys and (min, max) tuples as values.\n",
    "      Example: {'Age': (0, 120), 'Salary': (30000, 200000)}\n",
    "\n",
    "    Returns:\n",
    "    - dict: Keys are column names, values are lists of booleans indicating validity for each row.\n",
    "    \"\"\"\n",
    "    results = {}\n",
    "    for col, (min_val, max_val) in column_ranges.items():\n",
    "        if col not in df.columns:\n",
    "            results[col] = None  # Or raise an error\n",
    "            continue\n",
    "        # Check if value is within range (ignoring NaNs)\n",
    "        validity = df[col].apply(lambda x: pd.isna(x) or (min_val <= x <= max_val))\n",
    "        results[col] = validity.tolist()\n",
    "    return results\n",
    "\n",
    "# Example usage:\n",
    "data = {\n",
    "    'Age': [25, 130, 45, -5, 60],\n",
    "    'Salary': [50000, 60000, 250000, 40000, None]\n",
    "}\n",
    "df = pd.DataFrame(data)\n",
    "\n",
    "ranges = {'Age': (0, 120), 'Salary': (30000, 200000)}\n",
    "validity = validate_numerical_ranges(df, ranges)\n",
    "print(validity)\n",
    "# Output:\n",
    "# {'Age': [True, False, True, False, True], 'Salary': [True, True, False, True, True]}\n"
   ]
  },
  {
   "cell_type": "markdown",
   "metadata": {},
   "source": [
    "Task 9: Custom Completeness Rule Violation Report\n",
    "\n",
    "Description: Create a report showing which rows violate specific completeness rules, such as mandatory fields being empty."
   ]
  },
  {
   "cell_type": "code",
   "execution_count": 9,
   "metadata": {},
   "outputs": [
    {
     "name": "stdout",
     "output_type": "stream",
     "text": [
      "      Name            Email  Age  Name_missing  Email_missing\n",
      "1           bob@example.com   30          True          False\n",
      "2  Charlie                    22         False           True\n",
      "3     None             None   45          True           True\n"
     ]
    }
   ],
   "source": [
    "import pandas as pd\n",
    "\n",
    "def completeness_violation_report(df, mandatory_fields):\n",
    "    \"\"\"\n",
    "    Generates a report of rows violating completeness rules where mandatory fields are empty.\n",
    "\n",
    "    Args:\n",
    "    - df (pd.DataFrame): Input dataset.\n",
    "    - mandatory_fields (list of str): List of column names that must not be null or empty.\n",
    "\n",
    "    Returns:\n",
    "    - pd.DataFrame: Rows violating completeness rules with info on which fields are missing.\n",
    "    \"\"\"\n",
    "    # Create a mask for each mandatory field where values are null or empty strings\n",
    "    violation_mask = pd.DataFrame(False, index=df.index, columns=mandatory_fields)\n",
    "\n",
    "    for field in mandatory_fields:\n",
    "        if field not in df.columns:\n",
    "            raise ValueError(f\"Mandatory field '{field}' not found in DataFrame\")\n",
    "        violation_mask[field] = df[field].isnull() | (df[field].astype(str).str.strip() == '')\n",
    "\n",
    "    # Rows where any mandatory field violates completeness\n",
    "    violating_rows = violation_mask.any(axis=1)\n",
    "    report = df.loc[violating_rows].copy()\n",
    "\n",
    "    # Add columns showing which mandatory fields are violated (True = violation)\n",
    "    for field in mandatory_fields:\n",
    "        report[f'{field}_missing'] = violation_mask.loc[violating_rows, field]\n",
    "\n",
    "    return report\n",
    "\n",
    "# Example usage:\n",
    "data = {\n",
    "    'Name': ['Alice', '', 'Charlie', None],\n",
    "    'Email': ['alice@example.com', 'bob@example.com', '', None],\n",
    "    'Age': [25, 30, 22, 45]\n",
    "}\n",
    "df = pd.DataFrame(data)\n",
    "\n",
    "mandatory = ['Name', 'Email']\n",
    "violation_report = completeness_violation_report(df, mandatory)\n",
    "print(violation_report)\n"
   ]
  },
  {
   "cell_type": "markdown",
   "metadata": {},
   "source": [
    "Task 10: Advanced Regex for Data Validity Check\n",
    "\n",
    "Description: Check for validity with advanced regex patterns, such as validating complex fields with multi-level rules."
   ]
  },
  {
   "cell_type": "code",
   "execution_count": 10,
   "metadata": {},
   "outputs": [
    {
     "name": "stdout",
     "output_type": "stream",
     "text": [
      "+1-800-555-1234: Valid\n",
      "800-555-1234: Valid\n",
      "(800) 555-1234: Valid\n",
      "8005551234: Valid\n",
      "800.555.1234: Valid\n",
      "800 555 1234 x123: Valid\n",
      "5551234: Invalid\n",
      "180055512345: Invalid\n"
     ]
    }
   ],
   "source": [
    "import re\n",
    "\n",
    "def advanced_regex_validation(values, pattern):\n",
    "    \"\"\"\n",
    "    Validate list of strings against an advanced regex pattern.\n",
    "\n",
    "    Args:\n",
    "    - values (list of str): List of strings to validate.\n",
    "    - pattern (str): Regex pattern string.\n",
    "\n",
    "    Returns:\n",
    "    - list of bool: True if valid, False otherwise.\n",
    "    \"\"\"\n",
    "    regex = re.compile(pattern)\n",
    "    return [bool(regex.fullmatch(value)) for value in values]\n",
    "\n",
    "# Example: US phone number validation pattern\n",
    "# Format examples it accepts:\n",
    "# +1-800-555-1234\n",
    "# 800-555-1234\n",
    "# (800) 555-1234\n",
    "# 8005551234\n",
    "# 800.555.1234\n",
    "# 800 555 1234 x123 (extension)\n",
    "phone_pattern = r'^(\\+1[-\\s]?)*(\\(\\d{3}\\)|\\d{3})[-.\\s]?\\d{3}[-.\\s]?\\d{4}(\\s*x\\d+)?$'\n",
    "\n",
    "# Test data\n",
    "phone_numbers = [\n",
    "    '+1-800-555-1234',\n",
    "    '800-555-1234',\n",
    "    '(800) 555-1234',\n",
    "    '8005551234',\n",
    "    '800.555.1234',\n",
    "    '800 555 1234 x123',\n",
    "    '5551234',        # invalid\n",
    "    '180055512345',   # invalid\n",
    "]\n",
    "\n",
    "results = advanced_regex_validation(phone_numbers, phone_pattern)\n",
    "for number, valid in zip(phone_numbers, results):\n",
    "    print(f\"{number}: {'Valid' if valid else 'Invalid'}\")\n"
   ]
  }
 ],
 "metadata": {
  "kernelspec": {
   "display_name": "Python 3",
   "language": "python",
   "name": "python3"
  },
  "language_info": {
   "codemirror_mode": {
    "name": "ipython",
    "version": 3
   },
   "file_extension": ".py",
   "mimetype": "text/x-python",
   "name": "python",
   "nbconvert_exporter": "python",
   "pygments_lexer": "ipython3",
   "version": "3.10.12"
  }
 },
 "nbformat": 4,
 "nbformat_minor": 2
}
