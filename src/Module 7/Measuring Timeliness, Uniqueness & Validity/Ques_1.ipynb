{
 "cells": [
  {
   "cell_type": "markdown",
   "metadata": {},
   "source": [
    "## Format Compliance for Email\n",
    "\n",
    "**Description**: Check if emails in a list are valid based on a basic regex pattern."
   ]
  },
  {
   "cell_type": "code",
   "execution_count": 4,
   "metadata": {},
   "outputs": [
    {
     "name": "stdout",
     "output_type": "stream",
     "text": [
      "[True, False, True, False, False]\n"
     ]
    }
   ],
   "source": [
    "# Write your code from here\n",
    "import re\n",
    "\n",
    "def validate_emails(emails):\n",
    "    \"\"\"\n",
    "    Validates emails using a basic regex pattern.\n",
    "\n",
    "    Args:\n",
    "    - emails (list of str): List of email strings to validate.\n",
    "\n",
    "    Returns:\n",
    "    - list of bool: List indicating if each email is valid (True) or not (False).\n",
    "    \"\"\"\n",
    "    # Basic email regex pattern (simplified)\n",
    "    email_pattern = re.compile(r'^[\\w\\.-]+@[\\w\\.-]+\\.\\w+$')\n",
    "    \n",
    "    return [bool(email_pattern.match(email)) for email in emails]\n",
    "\n",
    "# Example usage:\n",
    "email_list = [\n",
    "    'test.email@example.com',\n",
    "    'invalid-email',\n",
    "    'user123@domain.co.uk',\n",
    "    'user@domain',\n",
    "    '@missingusername.com'\n",
    "]\n",
    "\n",
    "print(validate_emails(email_list))\n",
    "# Output: [True, False, True, False, False]"
   ]
  },
  {
   "cell_type": "markdown",
   "metadata": {},
   "source": [
    "## Format Compliance for Phone Numbers\n",
    "\n",
    "**Description**: Verify if the phone numbers follow a specific pattern."
   ]
  },
  {
   "cell_type": "code",
   "execution_count": 5,
   "metadata": {},
   "outputs": [
    {
     "name": "stdout",
     "output_type": "stream",
     "text": [
      "[True, True, True, True, False, False, False]\n"
     ]
    }
   ],
   "source": [
    "# Write your code from here\n",
    "import re\n",
    "\n",
    "def validate_phone_numbers(phone_numbers):\n",
    "    \"\"\"\n",
    "    Validates phone numbers against a common pattern.\n",
    "\n",
    "    Args:\n",
    "    - phone_numbers (list of str): List of phone number strings.\n",
    "\n",
    "    Returns:\n",
    "    - list of bool: True if phone number matches pattern, False otherwise.\n",
    "    \"\"\"\n",
    "    # Regex for phone numbers like:\n",
    "    # Optional +countrycode, optional spaces/dashes/parentheses, 10 digits total\n",
    "    pattern = re.compile(\n",
    "        r'^(\\+\\d{1,3}\\s?)?(\\(?\\d{3}\\)?[\\s-]?){1}\\d{3}[\\s-]?\\d{4}$'\n",
    "    )\n",
    "\n",
    "    return [bool(pattern.match(number)) for number in phone_numbers]\n",
    "\n",
    "# Example usage:\n",
    "phones = [\n",
    "    '+1 (555) 123-4567',\n",
    "    '555-123-4567',\n",
    "    '(555)1234567',\n",
    "    '5551234567',\n",
    "    '+44 20 7946 0958',\n",
    "    '12345',\n",
    "    'phone1234567'\n",
    "]\n",
    "\n",
    "print(validate_phone_numbers(phones))\n",
    "# Expected: [True, True, True, True, False, False, False]\n"
   ]
  },
  {
   "cell_type": "markdown",
   "metadata": {},
   "source": [
    "## Checking Date Validity Format\n",
    "\n",
    "**Description**: Ensure the dates in a list adhere to a specific format (e.g., YYYY-MM-DD)."
   ]
  },
  {
   "cell_type": "code",
   "execution_count": 6,
   "metadata": {},
   "outputs": [
    {
     "name": "stdout",
     "output_type": "stream",
     "text": [
      "[True, False, False, False, False, False]\n"
     ]
    }
   ],
   "source": [
    "# Write your code from here\n",
    "from datetime import datetime\n",
    "\n",
    "def validate_date_format(dates, date_format='%Y-%m-%d'):\n",
    "    \"\"\"\n",
    "    Validates that each date string in the list matches the given date format.\n",
    "\n",
    "    Args:\n",
    "    - dates (list of str): List of date strings to validate.\n",
    "    - date_format (str): The expected date format (default is '%Y-%m-%d').\n",
    "\n",
    "    Returns:\n",
    "    - list of bool: True if date matches the format, False otherwise.\n",
    "    \"\"\"\n",
    "    results = []\n",
    "    for date_str in dates:\n",
    "        try:\n",
    "            parsed_date = datetime.strptime(date_str, date_format)\n",
    "            # Optional: check if the formatted date matches exactly (to catch partial parses)\n",
    "            if parsed_date.strftime(date_format) == date_str:\n",
    "                results.append(True)\n",
    "            else:\n",
    "                results.append(False)\n",
    "        except ValueError:\n",
    "            results.append(False)\n",
    "    return results\n",
    "\n",
    "# Example usage:\n",
    "date_list = [\n",
    "    '2025-05-15',\n",
    "    '2025-5-15',\n",
    "    '15-05-2025',\n",
    "    '2025/05/15',\n",
    "    '2025-13-01',\n",
    "    '2025-02-29'\n",
    "]\n",
    "\n",
    "print(validate_date_format(date_list))\n",
    "# Output: [True, False, False, False, False, False]\n"
   ]
  }
 ],
 "metadata": {
  "kernelspec": {
   "display_name": "Python 3",
   "language": "python",
   "name": "python3"
  },
  "language_info": {
   "codemirror_mode": {
    "name": "ipython",
    "version": 3
   },
   "file_extension": ".py",
   "mimetype": "text/x-python",
   "name": "python",
   "nbconvert_exporter": "python",
   "pygments_lexer": "ipython3",
   "version": "3.10.12"
  }
 },
 "nbformat": 4,
 "nbformat_minor": 2
}
