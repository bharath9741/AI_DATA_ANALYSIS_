{
 "cells": [
  {
   "cell_type": "markdown",
   "metadata": {},
   "source": [
    "## Advanced Consistency Check with Hierarchical Data\n",
    "\n",
    "**Description**: You have two datasets `orders.csv` and `order_items.csv` . Perform a consistency check to ensure each order in `orders.csv` has corresponding items in `order_items.csv` ."
   ]
  },
  {
   "cell_type": "code",
   "execution_count": 1,
   "metadata": {},
   "outputs": [
    {
     "name": "stdout",
     "output_type": "stream",
     "text": [
      "Orders in 'orders.csv' without corresponding items in 'order_items.csv':\n",
      "  order_id customer_id  order_date\n",
      "2   ORD003     CUST001  2025-05-12\n",
      "\n",
      "Items in 'order_items.csv' without corresponding orders in 'orders.csv' (orphaned items):\n",
      "All items in 'order_items.csv' have corresponding orders.\n",
      "\n",
      "Consistency Rate (Orders with Corresponding Items): 80.00%\n"
     ]
    }
   ],
   "source": [
    "# Write your code from here\n",
    "import pandas as pd\n",
    "from io import StringIO\n",
    "\n",
    "# Sample data for orders.csv (replace with your actual file)\n",
    "orders_data = \"\"\"order_id,customer_id,order_date\n",
    "ORD001,CUST001,2025-05-10\n",
    "ORD002,CUST002,2025-05-11\n",
    "ORD003,CUST001,2025-05-12\n",
    "ORD004,CUST003,2025-05-13\n",
    "ORD005,CUST002,2025-05-14\n",
    "\"\"\"\n",
    "orders_df = pd.read_csv(StringIO(orders_data))\n",
    "\n",
    "# Sample data for order_items.csv (replace with your actual file)\n",
    "order_items_data = \"\"\"item_id,order_id,product_id,quantity,price\n",
    "ITEM001,ORD001,PROD001,2,25.50\n",
    "ITEM002,ORD001,PROD002,1,12.00\n",
    "ITEM003,ORD002,PROD003,3,45.75\n",
    "ITEM004,ORD004,PROD001,1,25.50\n",
    "ITEM005,ORD004,PROD004,2,9.99\n",
    "ITEM006,ORD005,PROD002,1,12.00\n",
    "ITEM007,ORD005,PROD005,4,15.00\n",
    "\"\"\"\n",
    "order_items_df = pd.read_csv(StringIO(order_items_data))\n",
    "\n",
    "# Check for orders in orders.csv that are not present in order_items.csv\n",
    "orders_without_items = orders_df[~orders_df['order_id'].isin(order_items_df['order_id'])]\n",
    "\n",
    "# Check for order_ids in order_items.csv that are not present in orders.csv (optional, might indicate orphaned items)\n",
    "items_without_orders = order_items_df[~order_items_df['order_id'].isin(orders_df['order_id'])]\n",
    "\n",
    "print(\"Orders in 'orders.csv' without corresponding items in 'order_items.csv':\")\n",
    "if not orders_without_items.empty:\n",
    "    print(orders_without_items)\n",
    "else:\n",
    "    print(\"All orders in 'orders.csv' have corresponding items.\")\n",
    "\n",
    "print(\"\\nItems in 'order_items.csv' without corresponding orders in 'orders.csv' (orphaned items):\")\n",
    "if not items_without_orders.empty:\n",
    "    print(items_without_orders)\n",
    "else:\n",
    "    print(\"All items in 'order_items.csv' have corresponding orders.\")\n",
    "\n",
    "# Calculate the consistency rate (percentage of orders with items)\n",
    "total_orders = len(orders_df)\n",
    "orders_with_items_count = total_orders - len(orders_without_items)\n",
    "consistency_rate = (orders_with_items_count / total_orders) * 100 if total_orders > 0 else 0\n",
    "\n",
    "print(f\"\\nConsistency Rate (Orders with Corresponding Items): {consistency_rate:.2f}%\")"
   ]
  }
 ],
 "metadata": {
  "kernelspec": {
   "display_name": "Python 3",
   "language": "python",
   "name": "python3"
  },
  "language_info": {
   "codemirror_mode": {
    "name": "ipython",
    "version": 3
   },
   "file_extension": ".py",
   "mimetype": "text/x-python",
   "name": "python",
   "nbconvert_exporter": "python",
   "pygments_lexer": "ipython3",
   "version": "3.10.12"
  }
 },
 "nbformat": 4,
 "nbformat_minor": 2
}
