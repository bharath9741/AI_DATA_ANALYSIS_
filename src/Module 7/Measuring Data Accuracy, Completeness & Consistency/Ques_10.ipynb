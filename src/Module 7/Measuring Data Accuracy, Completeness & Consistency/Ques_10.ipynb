{
 "cells": [
  {
   "cell_type": "markdown",
   "metadata": {},
   "source": [
    "# Ensuring Consistency\n",
    "\n",
    "**Activity Overview**: Ensure consistency by identifying and resolving conflicting values across datasets.\n",
    "\n",
    "## Title: Customer Address Discrepancies\n",
    "\n",
    "**Task**: Address customer address mismatches between CRM and marketing databases.\n",
    "\n",
    "**Steps**:\n",
    "1. Compare customer addresses in the CRM with those in the marketing database.\n",
    "2. Identify records with conflicting address information.\n",
    "3. Propose a method to consolidate records with verified addresses."
   ]
  },
  {
   "cell_type": "code",
   "execution_count": 1,
   "metadata": {},
   "outputs": [
    {
     "ename": "NameError",
     "evalue": "name 'StringIO' is not defined",
     "output_type": "error",
     "traceback": [
      "\u001b[0;31m---------------------------------------------------------------------------\u001b[0m",
      "\u001b[0;31mNameError\u001b[0m                                 Traceback (most recent call last)",
      "Cell \u001b[0;32mIn[1], line 27\u001b[0m\n\u001b[1;32m     15\u001b[0m crm_data \u001b[38;5;241m=\u001b[39m \u001b[38;5;124m\"\"\"\u001b[39m\u001b[38;5;124mcustomer_id,name,street_crm,city_crm,state_crm,zip_crm,email\u001b[39m\n\u001b[1;32m     16\u001b[0m \u001b[38;5;124m1,Alice Smith,123 Main St,Bengaluru,KA,560001,alice.smith@example.com\u001b[39m\n\u001b[1;32m     17\u001b[0m \u001b[38;5;124m2,Bob Johnson,456 Oak Ave,Mumbai,MH,400001,bob.johnson@work.net\u001b[39m\n\u001b[1;32m     18\u001b[0m \u001b[38;5;124m3,Charlie Brown,789 Pine Ln,Delhi,DL,110001,charlie.brown@mail.org\u001b[39m\n\u001b[1;32m     19\u001b[0m \u001b[38;5;124m4,David Lee,101 Elm Rd,Kolkata,WB,700001,david.lee@sample.com\u001b[39m\n\u001b[1;32m     20\u001b[0m \u001b[38;5;124m\"\"\"\u001b[39m\n\u001b[1;32m     21\u001b[0m marketing_data \u001b[38;5;241m=\u001b[39m \u001b[38;5;124m\"\"\"\u001b[39m\u001b[38;5;124mcustomer_id,segment,street_marketing,city_marketing,state_marketing,zip_marketing,email\u001b[39m\n\u001b[1;32m     22\u001b[0m \u001b[38;5;124m1,A,123 Main St,Bangalore,Karnataka,560001,alice.smith@example.com\u001b[39m\n\u001b[1;32m     23\u001b[0m \u001b[38;5;124m2,B,456 Oak Ave,Mumbai,Maharashtra,400001,bob.johnson@work.net\u001b[39m\n\u001b[1;32m     24\u001b[0m \u001b[38;5;124m3,C,789 Pine Ln,New Delhi,Delhi,110001,charlie.brown@mail.org\u001b[39m\n\u001b[1;32m     25\u001b[0m \u001b[38;5;124m5,A,222 Maple Dr,Chennai,TN,600001,eve.williams@home.net\u001b[39m\n\u001b[1;32m     26\u001b[0m \u001b[38;5;124m\"\"\"\u001b[39m\n\u001b[0;32m---> 27\u001b[0m crm_df \u001b[38;5;241m=\u001b[39m pd\u001b[38;5;241m.\u001b[39mread_csv(\u001b[43mStringIO\u001b[49m(crm_data))\n\u001b[1;32m     28\u001b[0m marketing_df \u001b[38;5;241m=\u001b[39m pd\u001b[38;5;241m.\u001b[39mread_csv(StringIO(marketing_data))\n\u001b[1;32m     30\u001b[0m \u001b[38;5;66;03m# --- Step 1: Compare Customer Addresses ---\u001b[39;00m\n",
      "\u001b[0;31mNameError\u001b[0m: name 'StringIO' is not defined"
     ]
    }
   ],
   "source": [
    "# Write your code from here\n",
    "import pandas as pd\n",
    "\n",
    "# --- Configuration ---\n",
    "crm_file = 'crm_customers.csv'  # Replace with your CRM data file\n",
    "marketing_file = 'marketing_customers.csv'  # Replace with your marketing data file\n",
    "customer_id_col = 'customer_id'  # Common customer identifier column name\n",
    "\n",
    "crm_address_cols = ['street_crm', 'city_crm', 'state_crm', 'zip_crm']  # Adjust to your CRM address columns\n",
    "marketing_address_cols = ['street_marketing', 'city_marketing', 'state_marketing', 'zip_marketing']  # Adjust to your marketing address columns\n",
    "\n",
    "source_of_truth = 'crm'  # Choose 'crm' or 'marketing' as the primary source for consolidation\n",
    "\n",
    "# --- Sample Data (for demonstration - replace with your files) ---\n",
    "crm_data = \"\"\"customer_id,name,street_crm,city_crm,state_crm,zip_crm,email\n",
    "1,Alice Smith,123 Main St,Bengaluru,KA,560001,alice.smith@example.com\n",
    "2,Bob Johnson,456 Oak Ave,Mumbai,MH,400001,bob.johnson@work.net\n",
    "3,Charlie Brown,789 Pine Ln,Delhi,DL,110001,charlie.brown@mail.org\n",
    "4,David Lee,101 Elm Rd,Kolkata,WB,700001,david.lee@sample.com\n",
    "\"\"\"\n",
    "marketing_data = \"\"\"customer_id,segment,street_marketing,city_marketing,state_marketing,zip_marketing,email\n",
    "1,A,123 Main St,Bangalore,Karnataka,560001,alice.smith@example.com\n",
    "2,B,456 Oak Ave,Mumbai,Maharashtra,400001,bob.johnson@work.net\n",
    "3,C,789 Pine Ln,New Delhi,Delhi,110001,charlie.brown@mail.org\n",
    "5,A,222 Maple Dr,Chennai,TN,600001,eve.williams@home.net\n",
    "\"\"\"\n",
    "crm_df = pd.read_csv(StringIO(crm_data))\n",
    "marketing_df = pd.read_csv(StringIO(marketing_data))\n",
    "\n",
    "# --- Step 1: Compare Customer Addresses ---\n",
    "merged_df = pd.merge(crm_df, marketing_df, on=customer_id_col, suffixes=('_crm', '_marketing'), how='inner')\n",
    "\n",
    "# Create full address strings for comparison\n",
    "merged_df['full_address_crm'] = merged_df[crm_address_cols].astype(str).agg(', '.join, axis=1)\n",
    "merged_df['full_address_marketing'] = merged_df[marketing_address_cols].astype(str).agg(', '.join, axis=1)\n",
    "\n",
    "# Identify address mismatches\n",
    "address_mismatches_df = merged_df[merged_df['full_address_crm'] != merged_df['full_address_marketing']].copy()\n",
    "\n",
    "# --- Step 2: Identify Records with Conflicting Address Information ---\n",
    "print(\"Customer Address Mismatches:\")\n",
    "if not address_mismatches_df.empty:\n",
    "    print(address_mismatches_df[[customer_id_col, 'full_address_crm', 'full_address_marketing']])\n",
    "else:\n",
    "    print(\"No conflicting address information found between CRM and marketing databases for common customers.\")\n",
    "\n",
    "# --- Step 3: Propose a Method to Consolidate Records with Verified Addresses ---\n",
    "def consolidate_addresses(row, source=source_of_truth):\n",
    "    \"\"\"\n",
    "    Basic function to consolidate addresses based on the configured source of truth.\n",
    "    More sophisticated logic (verification flags, update timestamps) can be added.\n",
    "    \"\"\"\n",
    "    if source == 'crm':\n",
    "        return row['full_address_crm']\n",
    "    elif source == 'marketing':\n",
    "        return row['full_address_marketing']\n",
    "    else:\n",
    "        return row['full_address_crm']  # Default to CRM\n",
    "\n",
    "address_mismatches_df['consolidated_address'] = address_mismatches_df.apply(consolidate_addresses, axis=1)\n",
    "\n",
    "print(\"\\nAddress Mismatches with Proposed Consolidated Address (based on '{}' as source of truth):\".format(source_of_truth))\n",
    "if not address_mismatches_df.empty:\n",
    "    print(address_mismatches_df[[customer_id_col, 'full_address_crm', 'full_address_marketing', 'consolidated_address']])\n",
    "else:\n",
    "    print(\"No mismatches to show consolidated addresses.\")\n",
    "\n",
    "print(\"\\nProposed Method to Consolidate Records:\")\n",
    "print(\"- Designate a 'Source of Truth' (e.g., CRM or Marketing database) based on data reliability.\")\n",
    "print(\"- For conflicting addresses, prioritize the address from the Source of Truth.\")\n",
    "print(\"- Implement a process (manual review or automated script) to update the address in the non-authoritative system with the address from the Source of Truth.\")\n",
    "print(\"- Consider adding more sophisticated logic based on address verification status or last updated timestamps if available.\")\n",
    "print(\"- Implement data governance policies to prevent future inconsistencies.\")"
   ]
  }
 ],
 "metadata": {
  "kernelspec": {
   "display_name": "Python 3",
   "language": "python",
   "name": "python3"
  },
  "language_info": {
   "codemirror_mode": {
    "name": "ipython",
    "version": 3
   },
   "file_extension": ".py",
   "mimetype": "text/x-python",
   "name": "python",
   "nbconvert_exporter": "python",
   "pygments_lexer": "ipython3",
   "version": "3.10.12"
  }
 },
 "nbformat": 4,
 "nbformat_minor": 2
}
