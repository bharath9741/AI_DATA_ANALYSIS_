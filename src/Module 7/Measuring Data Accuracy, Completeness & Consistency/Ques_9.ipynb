{
 "cells": [
  {
   "cell_type": "markdown",
   "metadata": {},
   "source": [
    "# Measuring Completeness\n",
    "\n",
    "**Activity Overview**: Evaluate data completeness by checking missing data rates and handling partially available records.\n",
    "\n",
    "## Title: Customer Profiles\n",
    "\n",
    "**Task**: Calculate the missing data rate for customer profiles.\n",
    "\n",
    "**Steps**:\n",
    "1. List all required fields for a complete customer profile (e.g., name, address, email,\n",
    "phone number).\n",
    "2. Analyze the dataset to count how many profiles have missing fields.\n",
    "3. Calculate the percentage of missing data fields across all profiles."
   ]
  },
  {
   "cell_type": "code",
   "execution_count": 1,
   "metadata": {},
   "outputs": [
    {
     "name": "stdout",
     "output_type": "stream",
     "text": [
      "Missing Data Analysis for Customer Profiles:\n",
      "\n",
      "Total Number of Customer Profiles: 5\n",
      "\n",
      "Number of Profiles with Missing Required Fields:\n",
      "2 (40.00% of total profiles)\n",
      "\n",
      "Count of Missing Values per Required Field:\n",
      "name            0\n",
      "address         1\n",
      "email           1\n",
      "phone_number    1\n",
      "dtype: int64\n",
      "\n",
      "Total Number of Missing Required Fields Across All Profiles: 3\n",
      "Percentage of Missing Required Data Fields: 15.00%\n"
     ]
    }
   ],
   "source": [
    "# Write your code from here\n",
    "import pandas as pd\n",
    "from io import StringIO\n",
    "\n",
    "# --- Configuration ---\n",
    "customer_profiles_file = 'customer_profiles.csv'  # Replace with your actual file path\n",
    "required_fields = ['name', 'address', 'email', 'phone_number']  # List of required fields\n",
    "\n",
    "# --- Sample Data (for demonstration - replace with your file) ---\n",
    "customer_data = \"\"\"customer_id,name,address,email,phone_number,age,last_purchase\n",
    "1,John Doe,123 Main St,john.doe@example.com,555-1234,30,2025-05-01\n",
    "2,Jane Smith,456 Oak Ave,,555-5678,25,2025-05-05\n",
    "3,Peter Jones,,peter.jones@mail.com,,40,2025-04-28\n",
    "4,Alice Brown,789 Pine Ln,alice.brown@work.net,555-9012,,2025-05-10\n",
    "5,Bob White,101 Elm Rd,bob.white@home.org,555-3456,35,\n",
    "\"\"\"\n",
    "customer_profiles_df = pd.read_csv(StringIO(customer_data))\n",
    "\n",
    "# --- Step 1: List Required Fields (already configured above) ---\n",
    "\n",
    "# --- Step 2: Analyze Missing Fields ---\n",
    "missing_field_counts = customer_profiles_df[required_fields].isnull().sum()\n",
    "total_profiles = len(customer_profiles_df)\n",
    "\n",
    "# Count profiles with at least one missing required field\n",
    "profiles_with_missing = customer_profiles_df[customer_profiles_df[required_fields].isnull().any(axis=1)]\n",
    "num_profiles_with_missing = len(profiles_with_missing)\n",
    "\n",
    "# --- Step 3: Calculate Percentage of Missing Data Fields ---\n",
    "total_required_fields_across_profiles = total_profiles * len(required_fields)\n",
    "total_missing_fields = missing_field_counts.sum()\n",
    "\n",
    "percentage_missing = (total_missing_fields / total_required_fields_across_profiles) * 100 if total_required_fields_across_profiles > 0 else 0\n",
    "\n",
    "# --- Output ---\n",
    "print(\"Missing Data Analysis for Customer Profiles:\")\n",
    "print(f\"\\nTotal Number of Customer Profiles: {total_profiles}\")\n",
    "print(\"\\nNumber of Profiles with Missing Required Fields:\")\n",
    "print(f\"{num_profiles_with_missing} ({(num_profiles_with_missing / total_profiles) * 100:.2f}% of total profiles)\")\n",
    "print(\"\\nCount of Missing Values per Required Field:\")\n",
    "print(missing_field_counts)\n",
    "print(f\"\\nTotal Number of Missing Required Fields Across All Profiles: {total_missing_fields}\")\n",
    "print(f\"Percentage of Missing Required Data Fields: {percentage_missing:.2f}%\")"
   ]
  }
 ],
 "metadata": {
  "kernelspec": {
   "display_name": "Python 3",
   "language": "python",
   "name": "python3"
  },
  "language_info": {
   "codemirror_mode": {
    "name": "ipython",
    "version": 3
   },
   "file_extension": ".py",
   "mimetype": "text/x-python",
   "name": "python",
   "nbconvert_exporter": "python",
   "pygments_lexer": "ipython3",
   "version": "3.10.12"
  }
 },
 "nbformat": 4,
 "nbformat_minor": 2
}
