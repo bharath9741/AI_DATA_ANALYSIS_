{
 "cells": [
  {
   "cell_type": "markdown",
   "metadata": {},
   "source": [
    "## Ensuring Consistency in Multi-source Data Integration\n",
    "\n",
    "**Description**: Validate the integration of two datasets `products_A.csv` and `products_B.csv` . Ensure consistency in product \"category\" information."
   ]
  },
  {
   "cell_type": "code",
   "execution_count": 8,
   "metadata": {},
   "outputs": [
    {
     "name": "stdout",
     "output_type": "stream",
     "text": [
      "Products with Inconsistent Category Information:\n",
      "   product_id           name   category_A           description category_B\n",
      "1           2        T-Shirt      Apparel        Cotton T-shirt   Clothing\n",
      "2           3   Coffee Maker   Home Goods       Brewing machine    Kitchen\n",
      "3           4  Running Shoes      Apparel     Athletic footwear      Shoes\n",
      "4           5     Smartphone  Electronics  Latest mobile device     Mobile\n",
      "\n",
      "Number of Products with Inconsistent Categories: 4\n",
      "Percentage of Products with Inconsistent Categories: 80.00%\n",
      "\n",
      "Detailed Category Comparison for Inconsistent Products:\n",
      "Product ID: 2\n",
      "  Category in Dataset A: Apparel\n",
      "  Category in Dataset B: Clothing\n",
      "------------------------------\n",
      "Product ID: 3\n",
      "  Category in Dataset A: Home Goods\n",
      "  Category in Dataset B: Kitchen\n",
      "------------------------------\n",
      "Product ID: 4\n",
      "  Category in Dataset A: Apparel\n",
      "  Category in Dataset B: Shoes\n",
      "------------------------------\n",
      "Product ID: 5\n",
      "  Category in Dataset A: Electronics\n",
      "  Category in Dataset B: Mobile\n",
      "------------------------------\n"
     ]
    }
   ],
   "source": [
    "# Write your code from here\n",
    "import pandas as pd\n",
    "from io import StringIO\n",
    "\n",
    "# Sample data for products_A.csv (replace with your actual file)\n",
    "products_A_data = \"\"\"product_id,name,category_A\n",
    "1,Laptop,Electronics\n",
    "2,T-Shirt,Apparel\n",
    "3,Coffee Maker,Home Goods\n",
    "4,Running Shoes,Apparel\n",
    "5,Smartphone,Electronics\n",
    "\"\"\"\n",
    "products_A_df = pd.read_csv(StringIO(products_A_data))\n",
    "\n",
    "# Sample data for products_B.csv (replace with your actual file)\n",
    "products_B_data = \"\"\"product_id,description,category_B\n",
    "1,High-performance laptop,Electronics\n",
    "2,Cotton T-shirt,Clothing\n",
    "3,Brewing machine,Kitchen\n",
    "4,Athletic footwear,Shoes\n",
    "5,Latest mobile device,Mobile\n",
    "\"\"\"\n",
    "products_B_df = pd.read_csv(StringIO(products_B_data))\n",
    "\n",
    "# Merge the two dataframes on 'product_id'\n",
    "merged_df = pd.merge(products_A_df, products_B_df, on='product_id', how='inner')\n",
    "\n",
    "# Identify inconsistencies in product categories\n",
    "inconsistent_categories_df = merged_df[merged_df['category_A'] != merged_df['category_B']]\n",
    "\n",
    "print(\"Products with Inconsistent Category Information:\")\n",
    "print(inconsistent_categories_df)\n",
    "\n",
    "# Calculate the number and percentage of inconsistencies\n",
    "num_inconsistencies = len(inconsistent_categories_df)\n",
    "total_products = len(merged_df)\n",
    "percentage_inconsistent = (num_inconsistencies / total_products) * 100 if total_products > 0 else 0\n",
    "\n",
    "print(f\"\\nNumber of Products with Inconsistent Categories: {num_inconsistencies}\")\n",
    "print(f\"Percentage of Products with Inconsistent Categories: {percentage_inconsistent:.2f}%\")\n",
    "\n",
    "# Optional: Investigate the different categories for inconsistent products\n",
    "if not inconsistent_categories_df.empty:\n",
    "    print(\"\\nDetailed Category Comparison for Inconsistent Products:\")\n",
    "    for index, row in inconsistent_categories_df.iterrows():\n",
    "        print(f\"Product ID: {row['product_id']}\")\n",
    "        print(f\"  Category in Dataset A: {row['category_A']}\")\n",
    "        print(f\"  Category in Dataset B: {row['category_B']}\")\n",
    "        print(\"-\" * 30)"
   ]
  }
 ],
 "metadata": {
  "kernelspec": {
   "display_name": "Python 3",
   "language": "python",
   "name": "python3"
  },
  "language_info": {
   "codemirror_mode": {
    "name": "ipython",
    "version": 3
   },
   "file_extension": ".py",
   "mimetype": "text/x-python",
   "name": "python",
   "nbconvert_exporter": "python",
   "pygments_lexer": "ipython3",
   "version": "3.10.12"
  }
 },
 "nbformat": 4,
 "nbformat_minor": 2
}
