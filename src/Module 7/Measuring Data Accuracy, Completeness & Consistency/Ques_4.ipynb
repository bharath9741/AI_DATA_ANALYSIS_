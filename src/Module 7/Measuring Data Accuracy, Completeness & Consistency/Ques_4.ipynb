{
 "cells": [
  {
   "cell_type": "markdown",
   "metadata": {},
   "source": [
    "## Ensuring Consistency in Multi-source Data Integration\n",
    "\n",
    "**Description**: Validate the integration of two datasets `products_A.csv` and `products_B.csv` . Ensure consistency in product \"category\" information."
   ]
  },
  {
   "cell_type": "code",
   "execution_count": 9,
   "metadata": {},
   "outputs": [
    {
     "ename": "AttributeError",
     "evalue": "'_io.StringIO' object has no attribute 'split'",
     "output_type": "error",
     "traceback": [
      "\u001b[0;31m---------------------------------------------------------------------------\u001b[0m",
      "\u001b[0;31mAttributeError\u001b[0m                            Traceback (most recent call last)",
      "Cell \u001b[0;32mIn[9], line 68\u001b[0m\n\u001b[1;32m     62\u001b[0m file_path_b_sample \u001b[38;5;241m=\u001b[39m StringIO(products_B_data)\n\u001b[1;32m     64\u001b[0m \u001b[38;5;66;03m# Use your actual file paths here:\u001b[39;00m\n\u001b[1;32m     65\u001b[0m \u001b[38;5;66;03m# file_path_a = 'products_A.csv'\u001b[39;00m\n\u001b[1;32m     66\u001b[0m \u001b[38;5;66;03m# file_path_b = 'products_B.csv'\u001b[39;00m\n\u001b[0;32m---> 68\u001b[0m inconsistent_df, inconsistency_percentage \u001b[38;5;241m=\u001b[39m \u001b[43mvalidate_category_consistency\u001b[49m\u001b[43m(\u001b[49m\u001b[43mfile_path_a_sample\u001b[49m\u001b[43m,\u001b[49m\u001b[43m \u001b[49m\u001b[43mfile_path_b_sample\u001b[49m\u001b[43m)\u001b[49m\n\u001b[1;32m     70\u001b[0m \u001b[38;5;28mprint\u001b[39m(\u001b[38;5;124m\"\u001b[39m\u001b[38;5;124mProducts with Inconsistent Category Information:\u001b[39m\u001b[38;5;124m\"\u001b[39m)\n\u001b[1;32m     71\u001b[0m \u001b[38;5;28;01mif\u001b[39;00m \u001b[38;5;129;01mnot\u001b[39;00m inconsistent_df\u001b[38;5;241m.\u001b[39mempty:\n",
      "Cell \u001b[0;32mIn[9], line 33\u001b[0m, in \u001b[0;36mvalidate_category_consistency\u001b[0;34m(file_path_a, file_path_b, id_column, category_column_a, category_column_b)\u001b[0m\n\u001b[1;32m     31\u001b[0m inconsistent_categories_df \u001b[38;5;241m=\u001b[39m merged_df[merged_df[category_column_a] \u001b[38;5;241m!=\u001b[39m merged_df[category_column_b]]\n\u001b[1;32m     32\u001b[0m inconsistent_categories_df \u001b[38;5;241m=\u001b[39m inconsistent_categories_df[[id_column, category_column_a, category_column_b]]\n\u001b[0;32m---> 33\u001b[0m inconsistent_categories_df\u001b[38;5;241m.\u001b[39mrename(columns\u001b[38;5;241m=\u001b[39m{category_column_a: \u001b[38;5;124mf\u001b[39m\u001b[38;5;124m'\u001b[39m\u001b[38;5;124mcategory_from_\u001b[39m\u001b[38;5;132;01m{\u001b[39;00m\u001b[43mfile_path_a\u001b[49m\u001b[38;5;241;43m.\u001b[39;49m\u001b[43msplit\u001b[49m(\u001b[38;5;124m\"\u001b[39m\u001b[38;5;124m/\u001b[39m\u001b[38;5;124m\"\u001b[39m)[\u001b[38;5;241m-\u001b[39m\u001b[38;5;241m1\u001b[39m]\u001b[38;5;132;01m}\u001b[39;00m\u001b[38;5;124m'\u001b[39m,\n\u001b[1;32m     34\u001b[0m                                             category_column_b: \u001b[38;5;124mf\u001b[39m\u001b[38;5;124m'\u001b[39m\u001b[38;5;124mcategory_from_\u001b[39m\u001b[38;5;132;01m{\u001b[39;00mfile_path_b\u001b[38;5;241m.\u001b[39msplit(\u001b[38;5;124m\"\u001b[39m\u001b[38;5;124m/\u001b[39m\u001b[38;5;124m\"\u001b[39m)[\u001b[38;5;241m-\u001b[39m\u001b[38;5;241m1\u001b[39m]\u001b[38;5;132;01m}\u001b[39;00m\u001b[38;5;124m'\u001b[39m},\n\u001b[1;32m     35\u001b[0m                                    inplace\u001b[38;5;241m=\u001b[39m\u001b[38;5;28;01mTrue\u001b[39;00m)\n\u001b[1;32m     37\u001b[0m \u001b[38;5;66;03m# Calculate the number and percentage of inconsistencies\u001b[39;00m\n\u001b[1;32m     38\u001b[0m num_inconsistencies \u001b[38;5;241m=\u001b[39m \u001b[38;5;28mlen\u001b[39m(inconsistent_categories_df)\n",
      "\u001b[0;31mAttributeError\u001b[0m: '_io.StringIO' object has no attribute 'split'"
     ]
    }
   ],
   "source": [
    "import pandas as pd\n",
    "from io import StringIO\n",
    "\n",
    "def validate_category_consistency(file_path_a, file_path_b, id_column='product_id', category_column_a='category_A', category_column_b='category_B'):\n",
    "    \"\"\"\n",
    "    Validates the consistency of product category information between two datasets.\n",
    "\n",
    "    Args:\n",
    "        file_path_a (str): Path to the first CSV file.\n",
    "        file_path_b (str): Path to the second CSV file.\n",
    "        id_column (str): Name of the common product identifier column.\n",
    "        category_column_a (str): Name of the category column in the first dataset.\n",
    "        category_column_b (str): Name of the category column in the second dataset.\n",
    "\n",
    "    Returns:\n",
    "        pandas.DataFrame: DataFrame containing products with inconsistent category information,\n",
    "                          including the product ID and the categories from both datasets.\n",
    "        float: Percentage of products with inconsistent categories.\n",
    "    \"\"\"\n",
    "    try:\n",
    "        products_A_df = pd.read_csv(file_path_a)\n",
    "        products_B_df = pd.read_csv(file_path_b)\n",
    "    except FileNotFoundError as e:\n",
    "        print(f\"Error: One or both files not found: {e}\")\n",
    "        return pd.DataFrame(), 0.0\n",
    "\n",
    "    # Merge the two dataframes on the specified ID column\n",
    "    merged_df = pd.merge(products_A_df, products_B_df, on=id_column, how='inner', suffixes=('_A', '_B'))\n",
    "\n",
    "    # Identify inconsistencies in product categories\n",
    "    inconsistent_categories_df = merged_df[merged_df[category_column_a] != merged_df[category_column_b]]\n",
    "    inconsistent_categories_df = inconsistent_categories_df[[id_column, category_column_a, category_column_b]]\n",
    "    inconsistent_categories_df.rename(columns={category_column_a: f'category_from_{file_path_a.split(\"/\")[-1]}',\n",
    "                                                category_column_b: f'category_from_{file_path_b.split(\"/\")[-1]}'},\n",
    "                                       inplace=True)\n",
    "\n",
    "    # Calculate the number and percentage of inconsistencies\n",
    "    num_inconsistencies = len(inconsistent_categories_df)\n",
    "    total_products = len(merged_df)\n",
    "    percentage_inconsistent = (num_inconsistencies / total_products) * 100 if total_products > 0 else 0\n",
    "\n",
    "    return inconsistent_categories_df, percentage_inconsistent\n",
    "\n",
    "if __name__ == \"__main__\":\n",
    "    # Sample data (using StringIO for demonstration - replace with your file paths)\n",
    "    products_A_data = \"\"\"product_id,name,category_A\n",
    "    1,Laptop,Electronics\n",
    "    2,T-Shirt,Apparel\n",
    "    3,Coffee Maker,Home Goods\n",
    "    4,Running Shoes,Apparel\n",
    "    5,Smartphone,Electronics\n",
    "    \"\"\"\n",
    "    products_B_data = \"\"\"product_id,description,category_B\n",
    "    1,High-performance laptop,Electronics\n",
    "    2,Cotton T-shirt,Clothing\n",
    "    3,Brewing machine,Kitchen\n",
    "    4,Athletic footwear,Shoes\n",
    "    5,Latest mobile device,Mobile\n",
    "    \"\"\"\n",
    "\n",
    "    file_path_a_sample = StringIO(products_A_data)\n",
    "    file_path_b_sample = StringIO(products_B_data)\n",
    "\n",
    "    # Use your actual file paths here:\n",
    "    # file_path_a = 'products_A.csv'\n",
    "    # file_path_b = 'products_B.csv'\n",
    "\n",
    "    inconsistent_df, inconsistency_percentage = validate_category_consistency(file_path_a_sample, file_path_b_sample)\n",
    "\n",
    "    print(\"Products with Inconsistent Category Information:\")\n",
    "    if not inconsistent_df.empty:\n",
    "        print(inconsistent_df)\n",
    "    else:\n",
    "        print(\"No inconsistent categories found.\")\n",
    "\n",
    "    print(f\"\\nPercentage of Products with Inconsistent Categories: {inconsistency_percentage:.2f}%\")"
   ]
  }
 ],
 "metadata": {
  "kernelspec": {
   "display_name": "Python 3",
   "language": "python",
   "name": "python3"
  },
  "language_info": {
   "codemirror_mode": {
    "name": "ipython",
    "version": 3
   },
   "file_extension": ".py",
   "mimetype": "text/x-python",
   "name": "python",
   "nbconvert_exporter": "python",
   "pygments_lexer": "ipython3",
   "version": "3.10.12"
  }
 },
 "nbformat": 4,
 "nbformat_minor": 2
}
