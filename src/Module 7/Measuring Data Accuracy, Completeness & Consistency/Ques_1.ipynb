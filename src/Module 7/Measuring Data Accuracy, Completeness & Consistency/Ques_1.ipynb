{
 "cells": [
  {
   "cell_type": "markdown",
   "metadata": {},
   "source": [
    "### Task 1: Measure Data Accuracy using a Trusted Source\n",
    "\n",
    "**Description**: You have two datasets of product prices: `company_prices.csv` and\n",
    "`trusted_prices.csv` . Check if the prices in `company_prices.csv` match the prices in\n",
    "`trusted_prices.csv` . Assume both files have a \"product_id\" and \"price\" column."
   ]
  },
  {
   "cell_type": "code",
   "execution_count": 1,
   "metadata": {},
   "outputs": [
    {
     "name": "stdout",
     "output_type": "stream",
     "text": [
      "Data Accuracy Rate: 60.00%\n",
      "\n",
      "Products with Mismatched Prices:\n",
      "   product_id  price_company  price_trusted  price_match\n",
      "1         102           12.0           12.5        False\n",
      "4         105           25.5            NaN        False\n"
     ]
    }
   ],
   "source": [
    "# Write your code from here\n",
    "import pandas as pd\n",
    "from io import StringIO\n",
    "\n",
    "# Sample data for company_prices.csv (replace with your actual file)\n",
    "company_data = \"\"\"product_id,price\n",
    "101,25.50\n",
    "102,12.00\n",
    "103,45.75\n",
    "104,9.99\n",
    "105,25.50\n",
    "\"\"\"\n",
    "company_prices_df = pd.read_csv(StringIO(company_data))\n",
    "\n",
    "# Sample data for trusted_prices.csv (replace with your actual file)\n",
    "trusted_data = \"\"\"product_id,price\n",
    "101,25.50\n",
    "102,12.50\n",
    "103,45.75\n",
    "104,9.99\n",
    "106,15.00\n",
    "\"\"\"\n",
    "trusted_prices_df = pd.read_csv(StringIO(trusted_data))\n",
    "\n",
    "# Merge the two dataframes on 'product_id'\n",
    "merged_df = pd.merge(company_prices_df, trusted_prices_df, on='product_id', suffixes=('_company', '_trusted'), how='left')\n",
    "\n",
    "# Compare the prices\n",
    "merged_df['price_match'] = merged_df['price_company'] == merged_df['price_trusted']\n",
    "\n",
    "# Calculate the accuracy rate\n",
    "accuracy_rate = (merged_df['price_match'].sum() / len(merged_df)) * 100\n",
    "print(f\"Data Accuracy Rate: {accuracy_rate:.2f}%\")\n",
    "\n",
    "# Identify the products with mismatched prices\n",
    "mismatched_prices = merged_df[merged_df['price_match'] == False]\n",
    "print(\"\\nProducts with Mismatched Prices:\")\n",
    "print(mismatched_prices)"
   ]
  },
  {
   "cell_type": "markdown",
   "metadata": {},
   "source": [
    "### Task 2: Detect Incorrect Values\n",
    "\n",
    "**Description**: In `company_prices.csv` , detect any negative price values which are incorrect values for prices."
   ]
  },
  {
   "cell_type": "code",
   "execution_count": 2,
   "metadata": {},
   "outputs": [
    {
     "name": "stdout",
     "output_type": "stream",
     "text": [
      "Detection of Incorrect Price Values (Negative Prices):\n",
      "\n",
      "Incorrect Price Values:\n",
      "   product_id  price\n",
      "4         105   -5.0\n",
      "6         107   -0.5\n",
      "\n",
      "Number of Incorrect Price Values: 2\n",
      "Percentage of Incorrect Price Values: 25.00%\n"
     ]
    }
   ],
   "source": [
    "# Write your code from here\n",
    "# import pandas as pd\n",
    "from io import StringIO\n",
    "\n",
    "# Sample data for company_prices.csv (replace with your actual file)\n",
    "company_data = \"\"\"product_id,price\n",
    "101,25.50\n",
    "102,12.00\n",
    "103,45.75\n",
    "104,9.99\n",
    "105,-5.00\n",
    "106,30.25\n",
    "107,-0.50\n",
    "108,15.00\n",
    "\"\"\"\n",
    "company_prices_df = pd.read_csv(StringIO(company_data))\n",
    "\n",
    "# Identify incorrect (negative) price values\n",
    "incorrect_prices_df = company_prices_df[company_prices_df['price'] < 0]\n",
    "\n",
    "# Calculate the number and percentage of incorrect values\n",
    "num_incorrect_prices = len(incorrect_prices_df)\n",
    "total_prices = len(company_prices_df)\n",
    "percentage_incorrect = (num_incorrect_prices / total_prices) * 100 if total_prices > 0 else 0\n",
    "\n",
    "print(\"Detection of Incorrect Price Values (Negative Prices):\")\n",
    "print(\"\\nIncorrect Price Values:\")\n",
    "print(incorrect_prices_df)\n",
    "print(f\"\\nNumber of Incorrect Price Values: {num_incorrect_prices}\")\n",
    "print(f\"Percentage of Incorrect Price Values: {percentage_incorrect:.2f}%\")"
   ]
  },
  {
   "cell_type": "markdown",
   "metadata": {},
   "source": [
    "### Task 3: Check Missing Data Rates\n",
    "\n",
    "**Description**: Calculate the percentage of missing values in `customer_data.csv` ."
   ]
  },
  {
   "cell_type": "code",
   "execution_count": 4,
   "metadata": {},
   "outputs": [
    {
     "ename": "ParserError",
     "evalue": "Error tokenizing data. C error: Expected 6 fields in line 6, saw 7\n",
     "output_type": "error",
     "traceback": [
      "\u001b[0;31m---------------------------------------------------------------------------\u001b[0m",
      "\u001b[0;31mParserError\u001b[0m                               Traceback (most recent call last)",
      "Cell \u001b[0;32mIn[4], line 19\u001b[0m\n\u001b[1;32m      5\u001b[0m customer_data \u001b[38;5;241m=\u001b[39m \u001b[38;5;124m\"\"\"\u001b[39m\u001b[38;5;124mCustomerID,Email,Country,LastOrderDate,Status,Age\u001b[39m\n\u001b[1;32m      6\u001b[0m \u001b[38;5;124m1,john.doe@example.com,US,2025-05-10,Active,30\u001b[39m\n\u001b[1;32m      7\u001b[0m \u001b[38;5;124m2,jane.smith@example.co.uk,GB,2025-05-05,Inactive,\u001b[39m\n\u001b[0;32m   (...)\u001b[0m\n\u001b[1;32m     15\u001b[0m \u001b[38;5;124m10,heidi.klum@example.ch,,2025-05-14,Active,45\u001b[39m\n\u001b[1;32m     16\u001b[0m \u001b[38;5;124m\"\"\"\u001b[39m\n\u001b[1;32m     18\u001b[0m \u001b[38;5;66;03m# Load the CSV data from the string into a Pandas DataFrame\u001b[39;00m\n\u001b[0;32m---> 19\u001b[0m customer_data_df \u001b[38;5;241m=\u001b[39m \u001b[43mpd\u001b[49m\u001b[38;5;241;43m.\u001b[39;49m\u001b[43mread_csv\u001b[49m\u001b[43m(\u001b[49m\u001b[43mStringIO\u001b[49m\u001b[43m(\u001b[49m\u001b[43mcustomer_data\u001b[49m\u001b[43m)\u001b[49m\u001b[43m)\u001b[49m\n\u001b[1;32m     21\u001b[0m \u001b[38;5;66;03m# Calculate the percentage of missing values for each column\u001b[39;00m\n\u001b[1;32m     22\u001b[0m missing_percentage \u001b[38;5;241m=\u001b[39m (customer_data_df\u001b[38;5;241m.\u001b[39misnull()\u001b[38;5;241m.\u001b[39msum() \u001b[38;5;241m/\u001b[39m \u001b[38;5;28mlen\u001b[39m(customer_data_df)) \u001b[38;5;241m*\u001b[39m \u001b[38;5;241m100\u001b[39m\n",
      "File \u001b[0;32m~/.local/lib/python3.10/site-packages/pandas/io/parsers/readers.py:1026\u001b[0m, in \u001b[0;36mread_csv\u001b[0;34m(filepath_or_buffer, sep, delimiter, header, names, index_col, usecols, dtype, engine, converters, true_values, false_values, skipinitialspace, skiprows, skipfooter, nrows, na_values, keep_default_na, na_filter, verbose, skip_blank_lines, parse_dates, infer_datetime_format, keep_date_col, date_parser, date_format, dayfirst, cache_dates, iterator, chunksize, compression, thousands, decimal, lineterminator, quotechar, quoting, doublequote, escapechar, comment, encoding, encoding_errors, dialect, on_bad_lines, delim_whitespace, low_memory, memory_map, float_precision, storage_options, dtype_backend)\u001b[0m\n\u001b[1;32m   1013\u001b[0m kwds_defaults \u001b[38;5;241m=\u001b[39m _refine_defaults_read(\n\u001b[1;32m   1014\u001b[0m     dialect,\n\u001b[1;32m   1015\u001b[0m     delimiter,\n\u001b[0;32m   (...)\u001b[0m\n\u001b[1;32m   1022\u001b[0m     dtype_backend\u001b[38;5;241m=\u001b[39mdtype_backend,\n\u001b[1;32m   1023\u001b[0m )\n\u001b[1;32m   1024\u001b[0m kwds\u001b[38;5;241m.\u001b[39mupdate(kwds_defaults)\n\u001b[0;32m-> 1026\u001b[0m \u001b[38;5;28;01mreturn\u001b[39;00m \u001b[43m_read\u001b[49m\u001b[43m(\u001b[49m\u001b[43mfilepath_or_buffer\u001b[49m\u001b[43m,\u001b[49m\u001b[43m \u001b[49m\u001b[43mkwds\u001b[49m\u001b[43m)\u001b[49m\n",
      "File \u001b[0;32m~/.local/lib/python3.10/site-packages/pandas/io/parsers/readers.py:626\u001b[0m, in \u001b[0;36m_read\u001b[0;34m(filepath_or_buffer, kwds)\u001b[0m\n\u001b[1;32m    623\u001b[0m     \u001b[38;5;28;01mreturn\u001b[39;00m parser\n\u001b[1;32m    625\u001b[0m \u001b[38;5;28;01mwith\u001b[39;00m parser:\n\u001b[0;32m--> 626\u001b[0m     \u001b[38;5;28;01mreturn\u001b[39;00m \u001b[43mparser\u001b[49m\u001b[38;5;241;43m.\u001b[39;49m\u001b[43mread\u001b[49m\u001b[43m(\u001b[49m\u001b[43mnrows\u001b[49m\u001b[43m)\u001b[49m\n",
      "File \u001b[0;32m~/.local/lib/python3.10/site-packages/pandas/io/parsers/readers.py:1923\u001b[0m, in \u001b[0;36mTextFileReader.read\u001b[0;34m(self, nrows)\u001b[0m\n\u001b[1;32m   1916\u001b[0m nrows \u001b[38;5;241m=\u001b[39m validate_integer(\u001b[38;5;124m\"\u001b[39m\u001b[38;5;124mnrows\u001b[39m\u001b[38;5;124m\"\u001b[39m, nrows)\n\u001b[1;32m   1917\u001b[0m \u001b[38;5;28;01mtry\u001b[39;00m:\n\u001b[1;32m   1918\u001b[0m     \u001b[38;5;66;03m# error: \"ParserBase\" has no attribute \"read\"\u001b[39;00m\n\u001b[1;32m   1919\u001b[0m     (\n\u001b[1;32m   1920\u001b[0m         index,\n\u001b[1;32m   1921\u001b[0m         columns,\n\u001b[1;32m   1922\u001b[0m         col_dict,\n\u001b[0;32m-> 1923\u001b[0m     ) \u001b[38;5;241m=\u001b[39m \u001b[38;5;28;43mself\u001b[39;49m\u001b[38;5;241;43m.\u001b[39;49m\u001b[43m_engine\u001b[49m\u001b[38;5;241;43m.\u001b[39;49m\u001b[43mread\u001b[49m\u001b[43m(\u001b[49m\u001b[43m  \u001b[49m\u001b[38;5;66;43;03m# type: ignore[attr-defined]\u001b[39;49;00m\n\u001b[1;32m   1924\u001b[0m \u001b[43m        \u001b[49m\u001b[43mnrows\u001b[49m\n\u001b[1;32m   1925\u001b[0m \u001b[43m    \u001b[49m\u001b[43m)\u001b[49m\n\u001b[1;32m   1926\u001b[0m \u001b[38;5;28;01mexcept\u001b[39;00m \u001b[38;5;167;01mException\u001b[39;00m:\n\u001b[1;32m   1927\u001b[0m     \u001b[38;5;28mself\u001b[39m\u001b[38;5;241m.\u001b[39mclose()\n",
      "File \u001b[0;32m~/.local/lib/python3.10/site-packages/pandas/io/parsers/c_parser_wrapper.py:234\u001b[0m, in \u001b[0;36mCParserWrapper.read\u001b[0;34m(self, nrows)\u001b[0m\n\u001b[1;32m    232\u001b[0m \u001b[38;5;28;01mtry\u001b[39;00m:\n\u001b[1;32m    233\u001b[0m     \u001b[38;5;28;01mif\u001b[39;00m \u001b[38;5;28mself\u001b[39m\u001b[38;5;241m.\u001b[39mlow_memory:\n\u001b[0;32m--> 234\u001b[0m         chunks \u001b[38;5;241m=\u001b[39m \u001b[38;5;28;43mself\u001b[39;49m\u001b[38;5;241;43m.\u001b[39;49m\u001b[43m_reader\u001b[49m\u001b[38;5;241;43m.\u001b[39;49m\u001b[43mread_low_memory\u001b[49m\u001b[43m(\u001b[49m\u001b[43mnrows\u001b[49m\u001b[43m)\u001b[49m\n\u001b[1;32m    235\u001b[0m         \u001b[38;5;66;03m# destructive to chunks\u001b[39;00m\n\u001b[1;32m    236\u001b[0m         data \u001b[38;5;241m=\u001b[39m _concatenate_chunks(chunks)\n",
      "File \u001b[0;32mparsers.pyx:838\u001b[0m, in \u001b[0;36mpandas._libs.parsers.TextReader.read_low_memory\u001b[0;34m()\u001b[0m\n",
      "File \u001b[0;32mparsers.pyx:905\u001b[0m, in \u001b[0;36mpandas._libs.parsers.TextReader._read_rows\u001b[0;34m()\u001b[0m\n",
      "File \u001b[0;32mparsers.pyx:874\u001b[0m, in \u001b[0;36mpandas._libs.parsers.TextReader._tokenize_rows\u001b[0;34m()\u001b[0m\n",
      "File \u001b[0;32mparsers.pyx:891\u001b[0m, in \u001b[0;36mpandas._libs.parsers.TextReader._check_tokenize_status\u001b[0;34m()\u001b[0m\n",
      "File \u001b[0;32mparsers.pyx:2061\u001b[0m, in \u001b[0;36mpandas._libs.parsers.raise_parser_error\u001b[0;34m()\u001b[0m\n",
      "\u001b[0;31mParserError\u001b[0m: Error tokenizing data. C error: Expected 6 fields in line 6, saw 7\n"
     ]
    }
   ],
   "source": [
    "import pandas as pd\n",
    "from io import StringIO\n",
    "\n",
    "# Sample data for customer_data.csv (as provided)\n",
    "customer_data = \"\"\"CustomerID,Email,Country,LastOrderDate,Status,Age\n",
    "1,john.doe@example.com,US,2025-05-10,Active,30\n",
    "2,jane.smith@example.co.uk,GB,2025-05-05,Inactive,\n",
    "3,alice.wonder@example.in,,2025-05-12,Active,25\n",
    "4,bob.builder@example.ca,CA,2025-04-28,,40\n",
    "5,charlie.brown@example.com.au,AU,,,Inactive,\n",
    "6,david.jones@example.us,US,2025-05-15,Active,35\n",
    "7,eve.adams@example.de,DE,2025-05-08,Inactive,\n",
    "8,frank.zappa@example.fr,FR,2025-05-11,Active,50\n",
    "9,grace.hopper@example.jp,JP,2025-05-03,Inactive,\n",
    "10,heidi.klum@example.ch,,2025-05-14,Active,45\n",
    "\"\"\"\n",
    "\n",
    "# Load the CSV data from the string into a Pandas DataFrame\n",
    "customer_data_df = pd.read_csv(StringIO(customer_data))\n",
    "\n",
    "# Calculate the percentage of missing values for each column\n",
    "missing_percentage = (customer_data_df.isnull().sum() / len(customer_data_df)) * 100\n",
    "\n",
    "print(\"Percentage of Missing Values per Column:\")\n",
    "print(missing_percentage)\n",
    "\n",
    "# Calculate the overall percentage of missing values in the entire DataFrame\n",
    "total_missing = customer_data_df.isnull().sum().sum()\n",
    "total_values = customer_data_df.size\n",
    "overall_missing_percentage = (total_missing / total_values) * 100 if total_values > 0 else 0\n",
    "\n",
    "print(f\"\\nOverall Percentage of Missing Values in the Dataset: {overall_missing_percentage:.2f}%\")"
   ]
  },
  {
   "cell_type": "markdown",
   "metadata": {},
   "source": [
    "### Task 4: Handling Partially Available Records\n",
    "\n",
    "**Description**: In `customer_data.csv` , identify records with missing \"email\" or \"phone number\" and decide whether to drop or fill them."
   ]
  },
  {
   "cell_type": "code",
   "execution_count": null,
   "metadata": {},
   "outputs": [],
   "source": [
    "# Write your code from here"
   ]
  }
 ],
 "metadata": {
  "kernelspec": {
   "display_name": "Python 3",
   "language": "python",
   "name": "python3"
  },
  "language_info": {
   "codemirror_mode": {
    "name": "ipython",
    "version": 3
   },
   "file_extension": ".py",
   "mimetype": "text/x-python",
   "name": "python",
   "nbconvert_exporter": "python",
   "pygments_lexer": "ipython3",
   "version": "3.10.12"
  }
 },
 "nbformat": 4,
 "nbformat_minor": 2
}
