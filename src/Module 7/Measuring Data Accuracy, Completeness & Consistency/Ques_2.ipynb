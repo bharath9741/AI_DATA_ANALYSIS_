{
 "cells": [
  {
   "cell_type": "markdown",
   "metadata": {},
   "source": [
    "## Find Conflicting Values Across Datasets\n",
    "\n",
    "**Description**: You have two datasets: `crm_customers.csv` and `erp_customers.csv` . Find customers with conflicting \"email\" information."
   ]
  },
  {
   "cell_type": "code",
   "execution_count": 1,
   "metadata": {},
   "outputs": [
    {
     "name": "stdout",
     "output_type": "stream",
     "text": [
      "Customers with Conflicting Email Information:\n",
      "   customer_id         name             email_crm account_number  \\\n",
      "1            2  Bob Johnson  bob.johnson@work.net        ACC1002   \n",
      "3            4    David Lee  david.lee@sample.com        ACC1004   \n",
      "\n",
      "                email_erp  \n",
      "1    bob.johnson@home.net  \n",
      "3  david.lee@sample.co.uk  \n",
      "\n",
      "Number of Customers with Conflicting Emails: 2\n"
     ]
    }
   ],
   "source": [
    "# Write your code from here\n",
    "import pandas as pd\n",
    "from io import StringIO\n",
    "\n",
    "# Sample data for crm_customers.csv (replace with your actual file)\n",
    "crm_data = \"\"\"customer_id,name,email\n",
    "1,Alice Smith,alice.smith@example.com\n",
    "2,Bob Johnson,bob.johnson@work.net\n",
    "3,Charlie Brown,charlie.brown@mail.org\n",
    "4,David Lee,david.lee@sample.com\n",
    "5,Eve Williams,eve.williams@home.net\n",
    "\"\"\"\n",
    "crm_customers_df = pd.read_csv(StringIO(crm_data))\n",
    "\n",
    "# Sample data for erp_customers.csv (replace with your actual file)\n",
    "erp_data = \"\"\"customer_id,account_number,email\n",
    "1,ACC1001,alice.smith@example.com\n",
    "2,ACC1002,bob.johnson@home.net\n",
    "3,ACC1003,charlie.brown@mail.org\n",
    "4,ACC1004,david.lee@sample.co.uk\n",
    "6,ACC1005,frank.jones@work.org\n",
    "\"\"\"\n",
    "erp_customers_df = pd.read_csv(StringIO(erp_data))\n",
    "\n",
    "# Merge the two dataframes on a common identifier (customer_id)\n",
    "merged_df = pd.merge(crm_customers_df, erp_customers_df, on='customer_id', suffixes=('_crm', '_erp'), how='inner')\n",
    "\n",
    "# Identify customers with conflicting email information\n",
    "conflicting_emails_df = merged_df[merged_df['email_crm'] != merged_df['email_erp']]\n",
    "\n",
    "print(\"Customers with Conflicting Email Information:\")\n",
    "print(conflicting_emails_df)\n",
    "\n",
    "# You can further analyze the number of conflicts\n",
    "num_conflicts = len(conflicting_emails_df)\n",
    "print(f\"\\nNumber of Customers with Conflicting Emails: {num_conflicts}\")"
   ]
  }
 ],
 "metadata": {
  "kernelspec": {
   "display_name": "Python 3",
   "language": "python",
   "name": "python3"
  },
  "language_info": {
   "codemirror_mode": {
    "name": "ipython",
    "version": 3
   },
   "file_extension": ".py",
   "mimetype": "text/x-python",
   "name": "python",
   "nbconvert_exporter": "python",
   "pygments_lexer": "ipython3",
   "version": "3.10.12"
  }
 },
 "nbformat": 4,
 "nbformat_minor": 2
}
