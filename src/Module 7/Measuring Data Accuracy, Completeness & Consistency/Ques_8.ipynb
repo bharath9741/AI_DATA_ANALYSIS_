{
 "cells": [
  {
   "cell_type": "markdown",
   "metadata": {},
   "source": [
    "# Measuring Data Accuracy\n",
    "\n",
    "**Activity Overview**: Assess data accuracy by comparing it to a trusted source and detecting incorrect values or mismatches.\n",
    "\n",
    "## Title: Product Pricing\n",
    "\n",
    "**Task**: Compare a dataset of product prices with the latest official price list.\n",
    "\n",
    "**Steps**:\n",
    "1. Obtain the latest product price list from the official company website.\n",
    "2. Compare the dataset's product prices against the verified list.\n",
    "3. Identify any discrepancies and mark them for correction."
   ]
  },
  {
   "cell_type": "code",
   "execution_count": null,
   "metadata": {},
   "outputs": [
    {
     "name": "stdout",
     "output_type": "stream",
     "text": [
      "Error loading file: [Errno 2] No such file or directory: 'your_product_prices.csv'\n"
     ]
    },
    {
     "ename": "NameError",
     "evalue": "name 'your_prices_df' is not defined",
     "output_type": "error",
     "traceback": [
      "\u001b[0;31m---------------------------------------------------------------------------\u001b[0m",
      "\u001b[0;31mNameError\u001b[0m                                 Traceback (most recent call last)",
      "Cell \u001b[0;32mIn[1], line 21\u001b[0m\n\u001b[1;32m     17\u001b[0m     exit()\n\u001b[1;32m     19\u001b[0m \u001b[38;5;66;03m# --- Step 2: Compare Prices ---\u001b[39;00m\n\u001b[1;32m     20\u001b[0m \u001b[38;5;66;03m# Merge the dataframes on the product ID\u001b[39;00m\n\u001b[0;32m---> 21\u001b[0m merged_df \u001b[38;5;241m=\u001b[39m pd\u001b[38;5;241m.\u001b[39mmerge(\u001b[43myour_prices_df\u001b[49m, official_prices_df[[product_id_column, official_price_column]],\n\u001b[1;32m     22\u001b[0m                      on\u001b[38;5;241m=\u001b[39mproduct_id_column, suffixes\u001b[38;5;241m=\u001b[39m(\u001b[38;5;124m'\u001b[39m\u001b[38;5;124m_your\u001b[39m\u001b[38;5;124m'\u001b[39m, \u001b[38;5;124m'\u001b[39m\u001b[38;5;124m_official\u001b[39m\u001b[38;5;124m'\u001b[39m), how\u001b[38;5;241m=\u001b[39m\u001b[38;5;124m'\u001b[39m\u001b[38;5;124mleft\u001b[39m\u001b[38;5;124m'\u001b[39m)\n\u001b[1;32m     24\u001b[0m \u001b[38;5;66;03m# Compare prices\u001b[39;00m\n\u001b[1;32m     25\u001b[0m merged_df[\u001b[38;5;124m'\u001b[39m\u001b[38;5;124mprice_match\u001b[39m\u001b[38;5;124m'\u001b[39m] \u001b[38;5;241m=\u001b[39m merged_df[your_price_column] \u001b[38;5;241m==\u001b[39m merged_df[official_price_column]\n",
      "\u001b[0;31mNameError\u001b[0m: name 'your_prices_df' is not defined"
     ]
    },
    {
     "ename": "",
     "evalue": "",
     "output_type": "error",
     "traceback": [
      "\u001b[1;31mThe Kernel crashed while executing code in the current cell or a previous cell. \n",
      "\u001b[1;31mPlease review the code in the cell(s) to identify a possible cause of the failure. \n",
      "\u001b[1;31mClick <a href='https://aka.ms/vscodeJupyterKernelCrash'>here</a> for more info. \n",
      "\u001b[1;31mView Jupyter <a href='command:jupyter.viewOutput'>log</a> for further details."
     ]
    }
   ],
   "source": [
    "# Write your code from here\n",
    "import pandas as pd\n",
    "\n",
    "# --- Configuration ---\n",
    "your_prices_file = 'your_product_prices.csv'  # Replace with your actual file path\n",
    "official_prices_file = 'official_price_list.csv'  # Replace with the official price list file\n",
    "product_id_column = 'product_id'  # Common product identifier column name\n",
    "your_price_column = 'price_your'  # Column name for price in your dataset\n",
    "official_price_column = 'price_official'  # Column name for price in the official list\n",
    "\n",
    "# --- Step 1: Load Datasets ---\n",
    "try:\n",
    "    your_prices_df = pd.read_csv(your_prices_file)\n",
    "    official_prices_df = pd.read_csv(official_prices_file)\n",
    "except FileNotFoundError as e:\n",
    "    print(f\"Error loading file: {e}\")\n",
    "    exit()\n",
    "\n",
    "# --- Step 2: Compare Prices ---\n",
    "# Merge the dataframes on the product ID\n",
    "merged_df = pd.merge(your_prices_df, official_prices_df[[product_id_column, official_price_column]],\n",
    "                     on=product_id_column, suffixes=('_your', '_official'), how='left')\n",
    "\n",
    "# Compare prices\n",
    "merged_df['price_match'] = merged_df[your_price_column] == merged_df[official_price_column]\n",
    "\n",
    "# Identify discrepancies\n",
    "price_discrepancies_df = merged_df[merged_df['price_match'] == False].copy()\n",
    "price_discrepancies_df['needs_correction'] = True\n",
    "\n",
    "# --- Step 3: Report Discrepancies ---\n",
    "print(\"Product Price Discrepancies:\")\n",
    "if not price_discrepancies_df.empty:\n",
    "    print(price_discrepancies_df)\n",
    "else:\n",
    "    print(\"No price discrepancies found.\")\n",
    "\n",
    "# --- Optional: Output discrepancies to a CSV file ---\n",
    "# price_discrepancies_df.to_csv('price_discrepancies.csv', index=False)\n",
    "# print(\"\\nDiscrepancies saved to 'price_discrepancies.csv'\")"
   ]
  }
 ],
 "metadata": {
  "kernelspec": {
   "display_name": "Python 3",
   "language": "python",
   "name": "python3"
  },
  "language_info": {
   "codemirror_mode": {
    "name": "ipython",
    "version": 3
   },
   "file_extension": ".py",
   "mimetype": "text/x-python",
   "name": "python",
   "nbconvert_exporter": "python",
   "pygments_lexer": "ipython3",
   "version": "3.10.12"
  }
 },
 "nbformat": 4,
 "nbformat_minor": 2
}
