{
 "cells": [
  {
   "cell_type": "markdown",
   "metadata": {},
   "source": [
    "## Data Quality Framework Implementation\n",
    "\n",
    "**Description**: Implement a simple data quality measurement framework using ISO 8000 principles to assess key dimensions in a dataset."
   ]
  },
  {
   "cell_type": "code",
   "execution_count": 2,
   "metadata": {},
   "outputs": [
    {
     "name": "stdout",
     "output_type": "stream",
     "text": [
      "Accuracy (Valid Email Format): 100.00%\n",
      "Accuracy (Valid Last Order Date): 80.00%\n",
      "Completeness (Email): 100.00%\n",
      "Completeness (Last Order Date): 80.00%\n",
      "Consistency (Valid Country Codes): 93.33%\n",
      "Consistency (Future Order Date for Active Customers): 87.50%\n"
     ]
    }
   ],
   "source": [
    "import pandas as pd\n",
    "import re\n",
    "from datetime import datetime\n",
    "from io import StringIO\n",
    "\n",
    "csv_data = \"\"\"CustomerID,Email,Country,LastOrderDate,Status\n",
    "1,john.doe@example.com,US,2025-05-10,Active\n",
    "2,jane.smith@example.co.uk,GB,2025-05-05,Inactive\n",
    "3,alice.wonder@example.in,IN,2025-05-12,Active\n",
    "4,bob.builder@example.ca,CA,2025-04-28,Active\n",
    "5,charlie.brown@example.com.au,AU,2025-05-01,Inactive\n",
    "6,david.jones@example.us,US,2025-05-15,Active\n",
    "7,eve.adams@example.de,DE,2025-05-08,Inactive\n",
    "8,frank.zappa@example.fr,FR,2025-05-11,Active\n",
    "9,grace.hopper@example.jp,JP,2025-05-03,Inactive\n",
    "10,heidi.klum@example.ch,CH,2025-05-14,Active\n",
    "11,john.doe@example.com,US,,Active\n",
    "12,peter.pan@no-email.net,,GB,Inactive\n",
    "13,wendy.darling@example.in,IN,2025-05-13,\n",
    "14,captain.hook@example.ca,CA,2025-05-02,Active\n",
    "15,tinker.bell@example.com.au,AU,invalid-date,Inactive\n",
    "\"\"\"\n",
    "\n",
    "# Load the CSV data from the string into a Pandas DataFrame\n",
    "df = pd.read_csv(StringIO(csv_data))\n",
    "\n",
    "# --- Data Quality Metrics ---\n",
    "\n",
    "# Accuracy: Email format validation\n",
    "email_regex = r\"[^@]+@[^@]+\\.[^@]+\"\n",
    "df['is_valid_email'] = df['Email'].astype(str).apply(lambda x: bool(re.fullmatch(email_regex, x)))\n",
    "accuracy_email = df['is_valid_email'].mean() * 100\n",
    "print(f\"Accuracy (Valid Email Format): {accuracy_email:.2f}%\")\n",
    "\n",
    "# Accuracy: LastOrderDate is a valid date (after attempting conversion)\n",
    "df['LastOrderDate'] = pd.to_datetime(df['LastOrderDate'], errors='coerce')\n",
    "accuracy_valid_date = (df['LastOrderDate'].notna().sum() / len(df)) * 100\n",
    "print(f\"Accuracy (Valid Last Order Date): {accuracy_valid_date:.2f}%\")\n",
    "\n",
    "# Completeness: Email completeness for all customers\n",
    "completeness_email = (df['Email'].notna().sum() / len(df)) * 100\n",
    "print(f\"Completeness (Email): {completeness_email:.2f}%\")\n",
    "\n",
    "# Completeness: LastOrderDate completeness\n",
    "completeness_last_order_date = (df['LastOrderDate'].notna().sum() / len(df)) * 100\n",
    "print(f\"Completeness (Last Order Date): {completeness_last_order_date:.2f}%\")\n",
    "\n",
    "# Consistency: Valid Country Codes (assuming a list of valid codes)\n",
    "valid_countries = ['US', 'GB', 'IN', 'CA', 'AU', 'DE', 'FR', 'JP', 'CH']\n",
    "df['is_valid_country'] = df['Country'].isin(valid_countries)\n",
    "consistency_country = df['is_valid_country'].mean() * 100\n",
    "print(f\"Consistency (Valid Country Codes): {consistency_country:.2f}%\")\n",
    "\n",
    "# Consistency: Last Order Date not in future for active customers\n",
    "now = datetime.now()\n",
    "df_active = df[df['Status'] == 'Active'].copy() # Use .copy() to avoid SettingWithCopyWarning\n",
    "if not df_active.empty:\n",
    "    consistency_future_order = ((df_active['LastOrderDate'] <= now).sum() / len(df_active)) * 100\n",
    "    print(f\"Consistency (Future Order Date for Active Customers): {consistency_future_order:.2f}%\")\n",
    "else:\n",
    "    print(\"No active customers found to check future order dates.\")\n",
    "\n",
    "# Note: Timeliness is harder to assess with static data.\n",
    "# It usually involves tracking when data was created or updated.\n",
    "\n",
    "# --- You would typically have more sophisticated timeliness checks\n",
    "# --- that might involve comparing timestamps or tracking data availability."
   ]
  }
 ],
 "metadata": {
  "kernelspec": {
   "display_name": "Python 3",
   "language": "python",
   "name": "python3"
  },
  "language_info": {
   "codemirror_mode": {
    "name": "ipython",
    "version": 3
   },
   "file_extension": ".py",
   "mimetype": "text/x-python",
   "name": "python",
   "nbconvert_exporter": "python",
   "pygments_lexer": "ipython3",
   "version": "3.10.12"
  }
 },
 "nbformat": 4,
 "nbformat_minor": 2
}
