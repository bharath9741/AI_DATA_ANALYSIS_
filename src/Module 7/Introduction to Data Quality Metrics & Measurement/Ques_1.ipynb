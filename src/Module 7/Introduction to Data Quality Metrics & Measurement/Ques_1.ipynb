{
 "cells": [
  {
   "cell_type": "markdown",
   "metadata": {},
   "source": [
    "## Data Quality Dashboard in Python\n",
    "\n",
    "**Description**: Create a basic dashboard using a Python library (e.g., Plotly Dash) to visualize data quality metrics for a given dataset."
   ]
  },
  {
   "cell_type": "code",
   "execution_count": 1,
   "metadata": {},
   "outputs": [
    {
     "ename": "ModuleNotFoundError",
     "evalue": "No module named 'dash'",
     "output_type": "error",
     "traceback": [
      "\u001b[0;31m---------------------------------------------------------------------------\u001b[0m",
      "\u001b[0;31mModuleNotFoundError\u001b[0m                       Traceback (most recent call last)",
      "Cell \u001b[0;32mIn[1], line 4\u001b[0m\n\u001b[1;32m      2\u001b[0m \u001b[38;5;28;01mimport\u001b[39;00m\u001b[38;5;250m \u001b[39m\u001b[38;5;21;01mpandas\u001b[39;00m\u001b[38;5;250m \u001b[39m\u001b[38;5;28;01mas\u001b[39;00m\u001b[38;5;250m \u001b[39m\u001b[38;5;21;01mpd\u001b[39;00m\n\u001b[1;32m      3\u001b[0m \u001b[38;5;28;01mimport\u001b[39;00m\u001b[38;5;250m \u001b[39m\u001b[38;5;21;01mnumpy\u001b[39;00m\u001b[38;5;250m \u001b[39m\u001b[38;5;28;01mas\u001b[39;00m\u001b[38;5;250m \u001b[39m\u001b[38;5;21;01mnp\u001b[39;00m\n\u001b[0;32m----> 4\u001b[0m \u001b[38;5;28;01mfrom\u001b[39;00m\u001b[38;5;250m \u001b[39m\u001b[38;5;21;01mdash\u001b[39;00m\u001b[38;5;250m \u001b[39m\u001b[38;5;28;01mimport\u001b[39;00m Dash, dcc, html\n\u001b[1;32m      5\u001b[0m \u001b[38;5;28;01mimport\u001b[39;00m\u001b[38;5;250m \u001b[39m\u001b[38;5;21;01mplotly\u001b[39;00m\u001b[38;5;21;01m.\u001b[39;00m\u001b[38;5;21;01mgraph_objs\u001b[39;00m\u001b[38;5;250m \u001b[39m\u001b[38;5;28;01mas\u001b[39;00m\u001b[38;5;250m \u001b[39m\u001b[38;5;21;01mgo\u001b[39;00m\n\u001b[1;32m      7\u001b[0m \u001b[38;5;66;03m# Sample dataset (you can replace this with your actual data)\u001b[39;00m\n",
      "\u001b[0;31mModuleNotFoundError\u001b[0m: No module named 'dash'"
     ]
    }
   ],
   "source": [
    "# Write your code from here\n",
    "import pandas as pd\n",
    "import numpy as np\n",
    "from dash import Dash, dcc, html\n",
    "import plotly.graph_objs as go\n",
    "\n",
    "# Sample dataset (you can replace this with your actual data)\n",
    "data = {\n",
    "    'Name': ['Alice', 'Bob', 'Charlie', 'David', None],\n",
    "    'Email': ['alice@example.com', 'bob@example.com', None, 'david@example.com', 'david@example.com'],\n",
    "    'Age': [25, 30, 35, np.nan, 40],\n",
    "    'JoinDate': ['2020-01-01', '2019-06-15', '2021-03-20', '2023-01-01', '2022-12-01']\n",
    "}\n",
    "df = pd.DataFrame(data)\n",
    "\n",
    "# Compute data quality metrics\n",
    "def compute_data_quality_metrics(df):\n",
    "    total = len(df)\n",
    "\n",
    "    completeness = 100 * (1 - df.isnull().sum().sum() / (df.shape[0] * df.shape[1]))\n",
    "    uniqueness = 100 * df.duplicated().value_counts().get(False, 0) / total\n",
    "    validity = 100 * df['Email'].str.contains(r'^\\S+@\\S+\\.\\S+$', na=False).sum() / total\n",
    "    timeliness = 100 * pd.to_datetime(df['JoinDate'], errors='coerce').lt(pd.Timestamp.today()).sum() / total\n",
    "\n",
    "    return {\n",
    "        'Completeness': round(completeness, 2),\n",
    "        'Uniqueness': round(uniqueness, 2),\n",
    "        'Validity': round(validity, 2),\n",
    "        'Timeliness': round(timeliness, 2)\n",
    "    }\n",
    "\n",
    "metrics = compute_data_quality_metrics(df)\n",
    "\n",
    "# Dash app\n",
    "app = Dash(__name__)\n",
    "\n",
    "app.layout = html.Div([\n",
    "    html.H1(\"📊 Data Quality Dashboard\"),\n",
    "    dcc.Graph(\n",
    "        figure=go.Figure(\n",
    "            data=[go.Bar(\n",
    "                x=list(metrics.keys()),\n",
    "                y=list(metrics.values()),\n",
    "                marker_color='indigo'\n",
    "            )],\n",
    "            layout=go.Layout(\n",
    "                yaxis=dict(title='Score (%)', range=[0, 100]),\n",
    "                title='Data Quality Metrics',\n",
    "                plot_bgcolor='white'\n",
    "            )\n",
    "        )\n",
    "    )\n",
    "])\n",
    "\n",
    "if __name__ == '__main__':\n",
    "    app.run_server(debug=True)\n"
   ]
  }
 ],
 "metadata": {
  "kernelspec": {
   "display_name": "Python 3",
   "language": "python",
   "name": "python3"
  },
  "language_info": {
   "codemirror_mode": {
    "name": "ipython",
    "version": 3
   },
   "file_extension": ".py",
   "mimetype": "text/x-python",
   "name": "python",
   "nbconvert_exporter": "python",
   "pygments_lexer": "ipython3",
   "version": "3.10.12"
  }
 },
 "nbformat": 4,
 "nbformat_minor": 2
}
