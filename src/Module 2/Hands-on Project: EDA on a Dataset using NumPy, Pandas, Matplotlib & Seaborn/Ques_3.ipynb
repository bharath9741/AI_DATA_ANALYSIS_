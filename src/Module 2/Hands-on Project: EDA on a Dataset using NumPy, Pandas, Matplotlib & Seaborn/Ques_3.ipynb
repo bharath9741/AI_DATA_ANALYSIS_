{
 "cells": [
  {
   "cell_type": "code",
   "execution_count": 1,
   "metadata": {},
   "outputs": [
    {
     "name": "stdout",
     "output_type": "stream",
     "text": [
      "🔍 Updated DataFrame with 'petal_ratio':\n",
      "   sepal_length  sepal_width  petal_length  petal_width species  petal_ratio\n",
      "0           5.1          3.5           1.4          0.2  setosa          7.0\n",
      "1           4.9          3.0           1.4          0.2  setosa          7.0\n",
      "2           4.7          3.2           1.3          0.2  setosa          6.5\n",
      "3           4.6          3.1           1.5          0.2  setosa          7.5\n",
      "4           5.0          3.6           1.4          0.2  setosa          7.0\n",
      "\n",
      "📊 Statistics for 'petal_ratio':\n",
      "count    150.000000\n",
      "mean       4.310500\n",
      "std        2.489648\n",
      "min        2.125000\n",
      "25%        2.802381\n",
      "50%        3.300000\n",
      "75%        4.666667\n",
      "max       15.000000\n",
      "Name: petal_ratio, dtype: float64\n"
     ]
    }
   ],
   "source": [
    "# Title: Data Manipulation with Pandas\n",
    "# Description: Add a new column that calculates the ratio of petal length to petal width.\n",
    "# Title: Data Manipulation with Pandas\n",
    "# Description: Add a new column that calculates the ratio of petal length to petal width.\n",
    "\n",
    "import pandas as pd\n",
    "import seaborn as sns\n",
    "\n",
    "# Load the Iris dataset\n",
    "df = sns.load_dataset('iris')\n",
    "\n",
    "# Create a new column: petal length to width ratio\n",
    "df['petal_ratio'] = df['petal_length'] / df['petal_width']\n",
    "\n",
    "# Display the updated dataset (first 5 rows)\n",
    "print(\"🔍 Updated DataFrame with 'petal_ratio':\")\n",
    "print(df.head())\n",
    "\n",
    "# Optional: Check basic stats of the new column\n",
    "print(\"\\n📊 Statistics for 'petal_ratio':\")\n",
    "print(df['petal_ratio'].describe())\n"
   ]
  }
 ],
 "metadata": {
  "kernelspec": {
   "display_name": "Python 3",
   "language": "python",
   "name": "python3"
  },
  "language_info": {
   "codemirror_mode": {
    "name": "ipython",
    "version": 3
   },
   "file_extension": ".py",
   "mimetype": "text/x-python",
   "name": "python",
   "nbconvert_exporter": "python",
   "pygments_lexer": "ipython3",
   "version": "3.10.12"
  }
 },
 "nbformat": 4,
 "nbformat_minor": 2
}
