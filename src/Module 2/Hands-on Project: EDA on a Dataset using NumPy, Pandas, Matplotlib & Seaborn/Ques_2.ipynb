{
 "cells": [
  {
   "cell_type": "code",
   "execution_count": 1,
   "metadata": {},
   "outputs": [
    {
     "name": "stdout",
     "output_type": "stream",
     "text": [
      "📈 Mean of each numeric feature:\n",
      " [5.84333333 3.05733333 3.758      1.19933333]\n",
      "\n",
      "📉 Median of each numeric feature:\n",
      " [5.8  3.   4.35 1.3 ]\n",
      "\n",
      "📊 Standard Deviation of each numeric feature:\n",
      " [0.82530129 0.43441097 1.75940407 0.75969263]\n"
     ]
    }
   ],
   "source": [
    "# Title: Basic NumPy Operations\n",
    "# Description: Perform basic operations such as calculating the mean of the dataset.\n",
    "# Title: Basic NumPy Operations\n",
    "# Description: Perform basic operations such as calculating the mean of the dataset.\n",
    "\n",
    "import numpy as np\n",
    "import seaborn as sns\n",
    "\n",
    "# Load the Iris dataset\n",
    "df = sns.load_dataset('iris')\n",
    "\n",
    "# Convert the numerical part of the DataFrame to a NumPy array\n",
    "numeric_data = df.select_dtypes(include=[np.number]).values\n",
    "\n",
    "# Calculate basic statistics using NumPy\n",
    "mean_values = np.mean(numeric_data, axis=0)\n",
    "median_values = np.median(numeric_data, axis=0)\n",
    "std_values = np.std(numeric_data, axis=0)\n",
    "\n",
    "# Display the results\n",
    "print(\"📈 Mean of each numeric feature:\\n\", mean_values)\n",
    "print(\"\\n📉 Median of each numeric feature:\\n\", median_values)\n",
    "print(\"\\n📊 Standard Deviation of each numeric feature:\\n\", std_values)\n"
   ]
  }
 ],
 "metadata": {
  "kernelspec": {
   "display_name": "Python 3",
   "language": "python",
   "name": "python3"
  },
  "language_info": {
   "codemirror_mode": {
    "name": "ipython",
    "version": 3
   },
   "file_extension": ".py",
   "mimetype": "text/x-python",
   "name": "python",
   "nbconvert_exporter": "python",
   "pygments_lexer": "ipython3",
   "version": "3.10.12"
  }
 },
 "nbformat": 4,
 "nbformat_minor": 2
}
